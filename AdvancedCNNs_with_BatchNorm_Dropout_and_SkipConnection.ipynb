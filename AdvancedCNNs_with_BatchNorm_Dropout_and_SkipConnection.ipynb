{
  "cells": [
    {
      "cell_type": "code",
      "execution_count": 1,
      "metadata": {
        "colab": {
          "base_uri": "https://localhost:8080/"
        },
        "id": "JTzkgpcf9SyN",
        "outputId": "80d884b2-4fae-4983-ec01-701de520c86e"
      },
      "outputs": [
        {
          "data": {
            "text/plain": [
              "<torch._C.Generator at 0x7a0828147270>"
            ]
          },
          "execution_count": 1,
          "metadata": {},
          "output_type": "execute_result"
        }
      ],
      "source": [
        "import torch\n",
        "import torch.nn as nn\n",
        "\n",
        "torch.manual_seed(42)"
      ]
    },
    {
      "cell_type": "markdown",
      "metadata": {
        "id": "Na2cUvgr-FjH"
      },
      "source": [
        "**BatchNorm 1d**"
      ]
    },
    {
      "cell_type": "code",
      "execution_count": 2,
      "metadata": {
        "colab": {
          "base_uri": "https://localhost:8080/"
        },
        "id": "ybWgGY9D-CPF",
        "outputId": "9db8b591-b6e4-4824-d9ac-390100c3a71d"
      },
      "outputs": [
        {
          "data": {
            "text/plain": [
              "tensor([[2., 2., 1.],\n",
              "        [4., 1., 0.],\n",
              "        [0., 4., 0.],\n",
              "        [3., 3., 4.]])"
            ]
          },
          "execution_count": 2,
          "metadata": {},
          "output_type": "execute_result"
        }
      ],
      "source": [
        "input = torch.randint(5, (4, 3) , dtype=torch.float32)\n",
        "input"
      ]
    },
    {
      "cell_type": "code",
      "execution_count": 3,
      "metadata": {
        "id": "hI8mWSho-Td2"
      },
      "outputs": [],
      "source": [
        "batch_norm_layer = nn.BatchNorm1d(num_features=3)"
      ]
    },
    {
      "cell_type": "code",
      "execution_count": 4,
      "metadata": {
        "colab": {
          "base_uri": "https://localhost:8080/"
        },
        "id": "SV0o2rrK-cBx",
        "outputId": "8908e207-2823-4def-e16a-24a9069fda44"
      },
      "outputs": [
        {
          "data": {
            "text/plain": [
              "Parameter containing:\n",
              "tensor([1., 1., 1.], requires_grad=True)"
            ]
          },
          "execution_count": 4,
          "metadata": {},
          "output_type": "execute_result"
        }
      ],
      "source": [
        "batch_norm_layer.weight"
      ]
    },
    {
      "cell_type": "code",
      "execution_count": 5,
      "metadata": {
        "colab": {
          "base_uri": "https://localhost:8080/"
        },
        "id": "Ui_DWq0b-eOL",
        "outputId": "c2a1a637-ea40-4ae1-8b9e-b5ed1ce89cef"
      },
      "outputs": [
        {
          "data": {
            "text/plain": [
              "Parameter containing:\n",
              "tensor([0., 0., 0.], requires_grad=True)"
            ]
          },
          "execution_count": 5,
          "metadata": {},
          "output_type": "execute_result"
        }
      ],
      "source": [
        "batch_norm_layer.bias"
      ]
    },
    {
      "cell_type": "code",
      "execution_count": 6,
      "metadata": {
        "colab": {
          "base_uri": "https://localhost:8080/"
        },
        "id": "LMvK_NFH-wyy",
        "outputId": "dc9b6454-97ed-49cb-a1a7-dd776936c519"
      },
      "outputs": [
        {
          "data": {
            "text/plain": [
              "tensor([[-0.1690, -0.4472, -0.1525],\n",
              "        [ 1.1832, -1.3416, -0.7625],\n",
              "        [-1.5213,  1.3416, -0.7625],\n",
              "        [ 0.5071,  0.4472,  1.6775]], grad_fn=<NativeBatchNormBackward0>)"
            ]
          },
          "execution_count": 6,
          "metadata": {},
          "output_type": "execute_result"
        }
      ],
      "source": [
        "output = batch_norm_layer(input)\n",
        "output"
      ]
    },
    {
      "cell_type": "markdown",
      "metadata": {
        "id": "VOu9HscZ_J6x"
      },
      "source": [
        "**step by step for BatchNorm 1d**"
      ]
    },
    {
      "cell_type": "code",
      "execution_count": 7,
      "metadata": {
        "colab": {
          "base_uri": "https://localhost:8080/"
        },
        "id": "7P3FSgG0-0-i",
        "outputId": "881b3d0c-ca61-49b4-fd2e-3f8f06c3218c"
      },
      "outputs": [
        {
          "data": {
            "text/plain": [
              "tensor([2.2500, 2.5000, 1.2500])"
            ]
          },
          "execution_count": 7,
          "metadata": {},
          "output_type": "execute_result"
        }
      ],
      "source": [
        "torch.mean(input, dim=0)"
      ]
    },
    {
      "cell_type": "code",
      "execution_count": 8,
      "metadata": {
        "colab": {
          "base_uri": "https://localhost:8080/"
        },
        "id": "7Apdb5NV_Too",
        "outputId": "8ac716fe-3799-45fd-e530-8d1da1ec67b3"
      },
      "outputs": [
        {
          "data": {
            "text/plain": [
              "tensor([1.4790, 1.1180, 1.6394])"
            ]
          },
          "execution_count": 8,
          "metadata": {},
          "output_type": "execute_result"
        }
      ],
      "source": [
        "torch.std(input, dim=0, correction=0)"
      ]
    },
    {
      "cell_type": "code",
      "execution_count": 9,
      "metadata": {
        "colab": {
          "base_uri": "https://localhost:8080/"
        },
        "id": "h_hC9VGu_Xbv",
        "outputId": "6ac23b99-40a6-4319-e23c-0c616dd639f2"
      },
      "outputs": [
        {
          "data": {
            "text/plain": [
              "-0.16903274412303934"
            ]
          },
          "execution_count": 9,
          "metadata": {},
          "output_type": "execute_result"
        }
      ],
      "source": [
        "x_hat_0 = (2-2.2500)/(1.4790**2 + 1e-05)**(1/2)\n",
        "x_hat_0"
      ]
    },
    {
      "cell_type": "markdown",
      "metadata": {
        "id": "PmtownNA_sKl"
      },
      "source": [
        "**Update Parameters**"
      ]
    },
    {
      "cell_type": "code",
      "execution_count": 10,
      "metadata": {
        "id": "ogPmt3WI_oh6"
      },
      "outputs": [],
      "source": [
        "inputs = torch.randint(5, (3, 32, 32), dtype=torch.float32)"
      ]
    },
    {
      "cell_type": "code",
      "execution_count": 11,
      "metadata": {
        "id": "ZQw-jOzC_1L_"
      },
      "outputs": [],
      "source": [
        "labels = torch.tensor([0, 1, 1])"
      ]
    },
    {
      "cell_type": "code",
      "execution_count": 12,
      "metadata": {
        "id": "pN5eVTWiAC5p"
      },
      "outputs": [],
      "source": [
        "model = nn.Sequential(\n",
        "    nn.Flatten(),\n",
        "    nn.Linear(32*32, 16),\n",
        "    nn.BatchNorm1d(16),\n",
        "    nn.ReLU(),\n",
        "    nn.Linear(16, 2)\n",
        ")"
      ]
    },
    {
      "cell_type": "code",
      "execution_count": 13,
      "metadata": {
        "colab": {
          "base_uri": "https://localhost:8080/"
        },
        "id": "XcCXxoiIAXBv",
        "outputId": "5c0c8530-ccf8-4968-fe44-2113b78099fd"
      },
      "outputs": [
        {
          "name": "stdout",
          "output_type": "stream",
          "text": [
            "Parameter containing:\n",
            "tensor([[-0.0168, -0.0051,  0.0113,  ..., -0.0259, -0.0251, -0.0292],\n",
            "        [ 0.0059, -0.0113, -0.0144,  ...,  0.0134,  0.0059, -0.0285],\n",
            "        [-0.0006, -0.0293,  0.0273,  ...,  0.0293, -0.0243,  0.0291],\n",
            "        ...,\n",
            "        [ 0.0164, -0.0216,  0.0230,  ...,  0.0280, -0.0165, -0.0155],\n",
            "        [-0.0107,  0.0036, -0.0243,  ..., -0.0079,  0.0220, -0.0008],\n",
            "        [-0.0174,  0.0059, -0.0192,  ..., -0.0140, -0.0043,  0.0130]],\n",
            "       requires_grad=True)\n",
            "Parameter containing:\n",
            "tensor([-0.0287,  0.0133,  0.0176, -0.0309,  0.0131,  0.0047,  0.0124, -0.0173,\n",
            "         0.0197, -0.0180, -0.0136,  0.0101, -0.0067,  0.0218, -0.0036, -0.0244],\n",
            "       requires_grad=True)\n",
            "Parameter containing:\n",
            "tensor([1., 1., 1., 1., 1., 1., 1., 1., 1., 1., 1., 1., 1., 1., 1., 1.],\n",
            "       requires_grad=True)\n",
            "Parameter containing:\n",
            "tensor([0., 0., 0., 0., 0., 0., 0., 0., 0., 0., 0., 0., 0., 0., 0., 0.],\n",
            "       requires_grad=True)\n",
            "Parameter containing:\n",
            "tensor([[-0.2083,  0.0129, -0.1948,  0.2235,  0.2173,  0.1505, -0.1908, -0.0575,\n",
            "          0.1845,  0.0509,  0.0197, -0.0194, -0.1372, -0.0795,  0.1457, -0.0487],\n",
            "        [-0.0670,  0.1232, -0.1203, -0.0371,  0.2077,  0.0358,  0.1139, -0.1233,\n",
            "          0.1209, -0.1354,  0.2447, -0.0692, -0.1825, -0.0541,  0.1842,  0.1962]],\n",
            "       requires_grad=True)\n",
            "Parameter containing:\n",
            "tensor([0.0177, 0.1739], requires_grad=True)\n"
          ]
        }
      ],
      "source": [
        "for p in model.parameters():\n",
        "  print(p)"
      ]
    },
    {
      "cell_type": "code",
      "execution_count": 14,
      "metadata": {
        "id": "mwEjkeifAcMV"
      },
      "outputs": [],
      "source": [
        "predictions = model(inputs)"
      ]
    },
    {
      "cell_type": "code",
      "execution_count": 15,
      "metadata": {
        "id": "bjEx0Fv0AiFJ"
      },
      "outputs": [],
      "source": [
        "loss_function = nn.CrossEntropyLoss()\n",
        "optimizer = torch.optim.Adam(model.parameters(), lr=1e-4)"
      ]
    },
    {
      "cell_type": "code",
      "execution_count": 16,
      "metadata": {
        "id": "nUl8OhT8Atiy"
      },
      "outputs": [],
      "source": [
        "loss = loss_function(predictions, labels)"
      ]
    },
    {
      "cell_type": "code",
      "execution_count": 17,
      "metadata": {
        "id": "IU0SIuM8AxPZ"
      },
      "outputs": [],
      "source": [
        "loss.backward()"
      ]
    },
    {
      "cell_type": "code",
      "execution_count": 18,
      "metadata": {
        "id": "QuNZOHyvAyzT"
      },
      "outputs": [],
      "source": [
        "optimizer.step()"
      ]
    },
    {
      "cell_type": "code",
      "execution_count": 19,
      "metadata": {
        "colab": {
          "base_uri": "https://localhost:8080/"
        },
        "id": "_BV3Q7exA0p5",
        "outputId": "56795b92-c78c-4fe2-e6f6-33ee4f5685ce"
      },
      "outputs": [
        {
          "name": "stdout",
          "output_type": "stream",
          "text": [
            "Parameter containing:\n",
            "tensor([[-0.0169, -0.0052,  0.0112,  ..., -0.0260, -0.0250, -0.0291],\n",
            "        [ 0.0060, -0.0112, -0.0143,  ...,  0.0135,  0.0058, -0.0286],\n",
            "        [-0.0005, -0.0292,  0.0274,  ...,  0.0294, -0.0244,  0.0290],\n",
            "        ...,\n",
            "        [ 0.0165, -0.0217,  0.0229,  ...,  0.0279, -0.0164, -0.0154],\n",
            "        [-0.0108,  0.0035, -0.0244,  ..., -0.0080,  0.0221, -0.0007],\n",
            "        [-0.0175,  0.0058, -0.0193,  ..., -0.0141, -0.0042,  0.0131]],\n",
            "       requires_grad=True)\n",
            "Parameter containing:\n",
            "tensor([-0.0287,  0.0132,  0.0176, -0.0309,  0.0131,  0.0047,  0.0124, -0.0174,\n",
            "         0.0197, -0.0180, -0.0136,  0.0101, -0.0067,  0.0218, -0.0036, -0.0243],\n",
            "       requires_grad=True)\n",
            "Parameter containing:\n",
            "tensor([1.0001, 0.9999, 1.0001, 1.0001, 1.0001, 0.9999, 0.9999, 0.9999, 0.9999,\n",
            "        0.9999, 0.9999, 0.9999, 1.0001, 0.9999, 1.0001, 1.0001],\n",
            "       requires_grad=True)\n",
            "Parameter containing:\n",
            "tensor([ 1.0000e-04, -1.0000e-04,  1.0000e-04,  1.0000e-04,  9.9997e-05,\n",
            "        -1.0000e-04, -1.0000e-04, -1.0000e-04, -1.0000e-04, -1.0000e-04,\n",
            "        -1.0000e-04, -1.0000e-04,  1.0000e-04, -1.0000e-04,  1.0000e-04,\n",
            "         1.0000e-04], requires_grad=True)\n",
            "Parameter containing:\n",
            "tensor([[-0.2084,  0.0130, -0.1949,  0.2236,  0.2174,  0.1504, -0.1907, -0.0576,\n",
            "          0.1844,  0.0508,  0.0198, -0.0195, -0.1371, -0.0794,  0.1456, -0.0488],\n",
            "        [-0.0669,  0.1231, -0.1202, -0.0372,  0.2076,  0.0359,  0.1138, -0.1232,\n",
            "          0.1210, -0.1353,  0.2446, -0.0691, -0.1826, -0.0542,  0.1843,  0.1963]],\n",
            "       requires_grad=True)\n",
            "Parameter containing:\n",
            "tensor([0.0176, 0.1740], requires_grad=True)\n"
          ]
        }
      ],
      "source": [
        "for p in model.parameters():\n",
        "  print(p)"
      ]
    },
    {
      "cell_type": "markdown",
      "metadata": {
        "id": "tMJbYTXPA6op"
      },
      "source": [
        "**MNIST Classification**"
      ]
    },
    {
      "cell_type": "code",
      "execution_count": 20,
      "metadata": {
        "colab": {
          "base_uri": "https://localhost:8080/"
        },
        "id": "TDJ-lE5KA4Fz",
        "outputId": "68a7278e-f3d9-4258-b3a0-489fcf1c0d31"
      },
      "outputs": [
        {
          "name": "stdout",
          "output_type": "stream",
          "text": [
            "Collecting torch-summary\n",
            "  Downloading torch_summary-1.4.5-py3-none-any.whl.metadata (18 kB)\n",
            "Downloading torch_summary-1.4.5-py3-none-any.whl (16 kB)\n",
            "Installing collected packages: torch-summary\n",
            "Successfully installed torch-summary-1.4.5\n"
          ]
        }
      ],
      "source": [
        "!pip install torch-summary"
      ]
    },
    {
      "cell_type": "code",
      "execution_count": 55,
      "metadata": {
        "id": "39NdYh8VBBoH"
      },
      "outputs": [],
      "source": [
        "import os\n",
        "import time\n",
        "\n",
        "import torch\n",
        "from torch import nn\n",
        "import torch.optim as optim\n",
        "from torchvision import datasets\n",
        "from torchvision import transforms\n",
        "import torch.utils.data as data\n",
        "from torch.utils.data import DataLoader\n",
        "\n",
        "from torchsummary import summary"
      ]
    },
    {
      "cell_type": "code",
      "execution_count": 56,
      "metadata": {
        "id": "-3jqqjIcBiN0"
      },
      "outputs": [],
      "source": [
        "seed = 1\n",
        "torch.manual_seed(seed)\n",
        "torch.cuda.manual_seed(seed)\n",
        "torch.backends.cudnn.deterministic = True"
      ]
    },
    {
      "cell_type": "markdown",
      "metadata": {
        "id": "_BQnzpxDBt1U"
      },
      "source": [
        "**Load dataset**"
      ]
    },
    {
      "cell_type": "code",
      "execution_count": 57,
      "metadata": {
        "id": "cqgi2vC0Bs2T"
      },
      "outputs": [],
      "source": [
        "root = \"./data\"\n",
        "\n",
        "train_data = datasets.MNIST(\n",
        "    root=root,\n",
        "    train=True,\n",
        "    download=True\n",
        ")\n",
        "\n",
        "test_data = datasets.MNIST(\n",
        "    root=root,\n",
        "    train=True,\n",
        "    download=True\n",
        ")"
      ]
    },
    {
      "cell_type": "markdown",
      "metadata": {
        "id": "9zLjeZzlCElN"
      },
      "source": [
        "**Preprocessing**"
      ]
    },
    {
      "cell_type": "code",
      "execution_count": null,
      "metadata": {
        "id": "udLl2GGiCA2y"
      },
      "outputs": [],
      "source": [
        "VALID_RATIO = 0.9  # 90% for training and 10% for testing\n",
        "\n",
        "n_train_examples = int(len(train_data) * VALID_RATIO)\n",
        "n_valid_examples = len(train_data) - n_train_examples"
      ]
    },
    {
      "cell_type": "code",
      "execution_count": 59,
      "metadata": {
        "id": "MMfEVZ0XCUi4"
      },
      "outputs": [],
      "source": [
        "train_data, valid_data = data.random_split(\n",
        "    train_data,\n",
        "    [n_train_examples, n_valid_examples]\n",
        ")"
      ]
    },
    {
      "cell_type": "code",
      "execution_count": 60,
      "metadata": {
        "colab": {
          "base_uri": "https://localhost:8080/"
        },
        "id": "FPk7YllRCi-z",
        "outputId": "86365f39-c223-4e57-fcd2-1872fb957de2"
      },
      "outputs": [
        {
          "data": {
            "text/plain": [
              "(tensor(0.1307), tensor(0.3081))"
            ]
          },
          "execution_count": 60,
          "metadata": {},
          "output_type": "execute_result"
        }
      ],
      "source": [
        "# compute mean and std\n",
        "mean = train_data.dataset.data.float().mean() / 255\n",
        "std = train_data.dataset.data.float().std() / 255\n",
        "mean, std"
      ]
    },
    {
      "cell_type": "code",
      "execution_count": null,
      "metadata": {
        "id": "QPgK5er0C0KL"
      },
      "outputs": [],
      "source": [
        "train_transforms = transforms.Compose([\n",
        "    transforms.ToTensor(),                       # Convert numpy arrays into tensors\n",
        "    transforms.Normalize(mean=[mean], std=[std])\n",
        "])\n",
        "\n",
        "test_transforms = transforms.Compose([\n",
        "    transforms.ToTensor(),\n",
        "    transforms.Normalize(mean=[mean], std=[std])\n",
        "])"
      ]
    },
    {
      "cell_type": "code",
      "execution_count": 63,
      "metadata": {
        "id": "vwUFcZJrDREn"
      },
      "outputs": [],
      "source": [
        "train_data.dataset.transform = train_transforms\n",
        "valid_data.dataset.transform = test_transforms\n",
        "test_data.transform = test_transforms"
      ]
    },
    {
      "cell_type": "code",
      "execution_count": 64,
      "metadata": {
        "id": "dq7lz3NiFzRm"
      },
      "outputs": [],
      "source": [
        "BATCH_SIZE = 256\n",
        "\n",
        "train_dataloader = data.DataLoader(\n",
        "    train_data,\n",
        "    shuffle=True,\n",
        "    batch_size=BATCH_SIZE\n",
        ")\n",
        "\n",
        "valid_dataloader = data.DataLoader(\n",
        "    valid_data,\n",
        "    batch_size=BATCH_SIZE\n",
        ")\n",
        "\n",
        "test_dataloader = data.DataLoader(\n",
        "    test_data,\n",
        "    batch_size = BATCH_SIZE\n",
        ")"
      ]
    },
    {
      "cell_type": "markdown",
      "metadata": {
        "id": "2NBFCJzQGYjP"
      },
      "source": [
        "**Train Model**"
      ]
    },
    {
      "cell_type": "code",
      "execution_count": 65,
      "metadata": {
        "id": "wdZ0kqvSGWQe"
      },
      "outputs": [],
      "source": [
        "def train_epoch(model, optimizer, criterion, train_dataloader, device, epoch=0, log_interval=50):\n",
        "  model.train()\n",
        "  total_acc, total_count = 0, 0\n",
        "  losses=[]\n",
        "  start_time = time.time()\n",
        "\n",
        "  for idx, (inputs, labels) in enumerate(train_dataloader):\n",
        "    inputs = inputs.to(device)\n",
        "    labels = labels.to(device)\n",
        "\n",
        "    optimizer.zero_grad()\n",
        "\n",
        "    predictions = model(inputs)\n",
        "\n",
        "    # compute loss\n",
        "    loss = criterion(predictions, labels)\n",
        "    losses.append(loss.item())\n",
        "\n",
        "    # backward\n",
        "    loss.backward()\n",
        "    optimizer.step()\n",
        "    total_acc += (predictions.argmax(1) == labels).sum().item()\n",
        "    total_count += labels.size(0)\n",
        "    if idx % log_interval == 0 and idx > 0:\n",
        "      elaped = time.time() - start_time\n",
        "      print(\n",
        "          \"| epoch {:3d} | {:5d}/{:5d} batches \"\n",
        "          \"| accuracy {:8.3f}\".format(\n",
        "              epoch, idx, len(train_dataloader), total_acc / total_count\n",
        "          )\n",
        "      )\n",
        "      total_acc, total_count = 0, 0\n",
        "      start_time = time.time()\n",
        "\n",
        "  epoch_acc = total_acc / total_count\n",
        "  epoch_loss = sum(losses)/len(losses)\n",
        "  return epoch_acc, epoch_loss"
      ]
    },
    {
      "cell_type": "code",
      "execution_count": 66,
      "metadata": {
        "id": "AqjDfHN_IAle"
      },
      "outputs": [],
      "source": [
        "def evaluate_epoch(model, criterion, valid_dataloader):\n",
        "    model.eval()\n",
        "    total_acc, total_count = 0, 0\n",
        "    losses = []\n",
        "\n",
        "    with torch.no_grad():\n",
        "        for idx, (inputs, labels) in enumerate(valid_dataloader):\n",
        "            inputs = inputs.to(device)\n",
        "            labels = labels.to(device)\n",
        "\n",
        "            predictions = model(inputs)\n",
        "\n",
        "            loss = criterion(predictions, labels)\n",
        "            losses.append(loss.item())\n",
        "\n",
        "            total_acc += (predictions.argmax(1) == labels).sum().item()\n",
        "            total_count += labels.size(0)\n",
        "\n",
        "    epoch_acc = total_acc / total_count\n",
        "    epoch_loss = sum(losses) / len(losses)\n",
        "    return epoch_acc, epoch_loss\n"
      ]
    },
    {
      "cell_type": "code",
      "execution_count": 67,
      "metadata": {
        "id": "iW1eAzynI0vX"
      },
      "outputs": [],
      "source": [
        "def train(model, model_name, optimizer, criterion, train_dataloader, valid_dataloader, num_epochs, device):\n",
        "    train_accs, train_losses = [], []\n",
        "    eval_accs, eval_losses = [], []\n",
        "    best_loss_eval = 100\n",
        "    times = []\n",
        "    for epoch in range(1, num_epochs+1):\n",
        "        epoch_start_time = time.time()\n",
        "        # Training\n",
        "        train_acc, train_loss = train_epoch(model, optimizer, criterion, train_dataloader, device, epoch)\n",
        "        train_accs.append(train_acc)\n",
        "        train_losses.append(train_loss)\n",
        "\n",
        "        # Evaluation\n",
        "        eval_acc, eval_loss = evaluate_epoch(model, criterion, valid_dataloader)\n",
        "        eval_accs.append(eval_acc)\n",
        "        eval_losses.append(eval_loss)\n",
        "\n",
        "        # Save best model\n",
        "        if eval_loss < best_loss_eval:\n",
        "            torch.save(model.state_dict(), save_model + f'/{model_name}.pt')\n",
        "\n",
        "        times.append(time.time() - epoch_start_time)\n",
        "        # Print loss, acc end epoch\n",
        "        print(\"-\" * 59)\n",
        "        print(\n",
        "            \"| End of epoch {:3d} | Time: {:5.2f}s | Train Accuracy {:8.3f} | Train Loss {:8.3f} \"\n",
        "            \"| Valid Accuracy {:8.3f} | Valid Loss {:8.3f} \".format(\n",
        "                epoch, time.time() - epoch_start_time, train_acc, train_loss, eval_acc, eval_loss\n",
        "            )\n",
        "        )\n",
        "        print(\"-\" * 59)\n",
        "\n",
        "        # Load best model\n",
        "        model.load_state_dict(torch.load(save_model + f'/{model_name}.pt'))\n",
        "        model.eval()\n",
        "    metrics = {\n",
        "        'train_accuracy': train_accs,\n",
        "        'train_loss': train_losses,\n",
        "        'valid_accuracy': eval_accs,\n",
        "        'valid_loss': eval_losses,\n",
        "        'time': times\n",
        "    }\n",
        "    return model, metrics"
      ]
    },
    {
      "cell_type": "code",
      "execution_count": 68,
      "metadata": {
        "id": "pkR_EEXBI5yg"
      },
      "outputs": [],
      "source": [
        "import matplotlib.pyplot as plt\n",
        "\n",
        "def plot_result(num_epochs, train_accs, eval_accs, train_losses, eval_losses):\n",
        "    epochs = list(range(num_epochs))\n",
        "    fig, axs = plt.subplots(nrows = 1, ncols =2 , figsize = (12,6))\n",
        "    axs[0].plot(epochs, train_accs, label = \"Training\")\n",
        "    axs[0].plot(epochs, eval_accs, label = \"Evaluation\")\n",
        "    axs[1].plot(epochs, train_losses, label = \"Training\")\n",
        "    axs[1].plot(epochs, eval_losses, label = \"Evaluation\")\n",
        "    axs[0].set_xlabel(\"Epochs\")\n",
        "    axs[1].set_xlabel(\"Epochs\")\n",
        "    axs[0].set_ylabel(\"Accuracy\")\n",
        "    axs[1].set_ylabel(\"Loss\")\n",
        "    plt.legend()"
      ]
    },
    {
      "cell_type": "markdown",
      "metadata": {
        "id": "Kr535-PbI8fb"
      },
      "source": [
        "**Base Model**"
      ]
    },
    {
      "cell_type": "code",
      "execution_count": 69,
      "metadata": {
        "id": "1iWjvUgbI7yt"
      },
      "outputs": [],
      "source": [
        "base_model = nn.Sequential(\n",
        "    nn.Conv2d(1, 6, 5, stride=2),\n",
        "    nn.Flatten(),\n",
        "    nn.Linear(6 * 12 * 12, 64),\n",
        "    nn.ReLU(),\n",
        "    nn.Linear(64, 32),\n",
        "    nn.ReLU(),\n",
        "    nn.Linear(32, 10)\n",
        ")"
      ]
    },
    {
      "cell_type": "code",
      "execution_count": 70,
      "metadata": {
        "colab": {
          "base_uri": "https://localhost:8080/"
        },
        "id": "L3pLewK2JBJ8",
        "outputId": "1e449de8-d246-42ba-be5f-55a7d3a3c425"
      },
      "outputs": [
        {
          "name": "stdout",
          "output_type": "stream",
          "text": [
            "==========================================================================================\n",
            "Layer (type:depth-idx)                   Output Shape              Param #\n",
            "==========================================================================================\n",
            "├─Conv2d: 1-1                            [-1, 6, 12, 12]           156\n",
            "├─Flatten: 1-2                           [-1, 864]                 --\n",
            "├─Linear: 1-3                            [-1, 64]                  55,360\n",
            "├─ReLU: 1-4                              [-1, 64]                  --\n",
            "├─Linear: 1-5                            [-1, 32]                  2,080\n",
            "├─ReLU: 1-6                              [-1, 32]                  --\n",
            "├─Linear: 1-7                            [-1, 10]                  330\n",
            "==========================================================================================\n",
            "Total params: 57,926\n",
            "Trainable params: 57,926\n",
            "Non-trainable params: 0\n",
            "Total mult-adds (M): 0.08\n",
            "==========================================================================================\n",
            "Input size (MB): 0.00\n",
            "Forward/backward pass size (MB): 0.01\n",
            "Params size (MB): 0.22\n",
            "Estimated Total Size (MB): 0.23\n",
            "==========================================================================================\n"
          ]
        },
        {
          "data": {
            "text/plain": [
              "==========================================================================================\n",
              "Layer (type:depth-idx)                   Output Shape              Param #\n",
              "==========================================================================================\n",
              "├─Conv2d: 1-1                            [-1, 6, 12, 12]           156\n",
              "├─Flatten: 1-2                           [-1, 864]                 --\n",
              "├─Linear: 1-3                            [-1, 64]                  55,360\n",
              "├─ReLU: 1-4                              [-1, 64]                  --\n",
              "├─Linear: 1-5                            [-1, 32]                  2,080\n",
              "├─ReLU: 1-6                              [-1, 32]                  --\n",
              "├─Linear: 1-7                            [-1, 10]                  330\n",
              "==========================================================================================\n",
              "Total params: 57,926\n",
              "Trainable params: 57,926\n",
              "Non-trainable params: 0\n",
              "Total mult-adds (M): 0.08\n",
              "==========================================================================================\n",
              "Input size (MB): 0.00\n",
              "Forward/backward pass size (MB): 0.01\n",
              "Params size (MB): 0.22\n",
              "Estimated Total Size (MB): 0.23\n",
              "=========================================================================================="
            ]
          },
          "execution_count": 70,
          "metadata": {},
          "output_type": "execute_result"
        }
      ],
      "source": [
        "summary(base_model, (1, 28, 28))"
      ]
    },
    {
      "cell_type": "code",
      "execution_count": 71,
      "metadata": {
        "colab": {
          "base_uri": "https://localhost:8080/"
        },
        "id": "KAYFK7hVJFKl",
        "outputId": "20b3f4d9-392f-4f68-84ea-4d449581dc88"
      },
      "outputs": [
        {
          "name": "stdout",
          "output_type": "stream",
          "text": [
            "| epoch   1 |    50/  211 batches | accuracy    0.728\n",
            "| epoch   1 |   100/  211 batches | accuracy    0.894\n",
            "| epoch   1 |   150/  211 batches | accuracy    0.916\n",
            "| epoch   1 |   200/  211 batches | accuracy    0.921\n",
            "-----------------------------------------------------------\n",
            "| End of epoch   1 | Time: 12.80s | Train Accuracy    0.926 | Train Loss    0.464 | Valid Accuracy    0.929 | Valid Loss    0.229 \n",
            "-----------------------------------------------------------\n",
            "| epoch   2 |    50/  211 batches | accuracy    0.935\n",
            "| epoch   2 |   100/  211 batches | accuracy    0.940\n",
            "| epoch   2 |   150/  211 batches | accuracy    0.943\n",
            "| epoch   2 |   200/  211 batches | accuracy    0.951\n",
            "-----------------------------------------------------------\n",
            "| End of epoch   2 | Time: 12.10s | Train Accuracy    0.952 | Train Loss    0.193 | Valid Accuracy    0.951 | Valid Loss    0.158 \n",
            "-----------------------------------------------------------\n",
            "| epoch   3 |    50/  211 batches | accuracy    0.958\n",
            "| epoch   3 |   100/  211 batches | accuracy    0.958\n",
            "| epoch   3 |   150/  211 batches | accuracy    0.956\n",
            "| epoch   3 |   200/  211 batches | accuracy    0.959\n",
            "-----------------------------------------------------------\n",
            "| End of epoch   3 | Time: 11.95s | Train Accuracy    0.956 | Train Loss    0.139 | Valid Accuracy    0.959 | Valid Loss    0.141 \n",
            "-----------------------------------------------------------\n",
            "| epoch   4 |    50/  211 batches | accuracy    0.964\n",
            "| epoch   4 |   100/  211 batches | accuracy    0.966\n",
            "| epoch   4 |   150/  211 batches | accuracy    0.967\n",
            "| epoch   4 |   200/  211 batches | accuracy    0.966\n",
            "-----------------------------------------------------------\n",
            "| End of epoch   4 | Time: 12.23s | Train Accuracy    0.961 | Train Loss    0.112 | Valid Accuracy    0.963 | Valid Loss    0.116 \n",
            "-----------------------------------------------------------\n",
            "| epoch   5 |    50/  211 batches | accuracy    0.969\n",
            "| epoch   5 |   100/  211 batches | accuracy    0.973\n",
            "| epoch   5 |   150/  211 batches | accuracy    0.972\n",
            "| epoch   5 |   200/  211 batches | accuracy    0.970\n",
            "-----------------------------------------------------------\n",
            "| End of epoch   5 | Time: 12.38s | Train Accuracy    0.969 | Train Loss    0.097 | Valid Accuracy    0.966 | Valid Loss    0.104 \n",
            "-----------------------------------------------------------\n",
            "| epoch   6 |    50/  211 batches | accuracy    0.976\n",
            "| epoch   6 |   100/  211 batches | accuracy    0.976\n",
            "| epoch   6 |   150/  211 batches | accuracy    0.971\n",
            "| epoch   6 |   200/  211 batches | accuracy    0.975\n",
            "-----------------------------------------------------------\n",
            "| End of epoch   6 | Time: 11.91s | Train Accuracy    0.975 | Train Loss    0.083 | Valid Accuracy    0.971 | Valid Loss    0.098 \n",
            "-----------------------------------------------------------\n",
            "| epoch   7 |    50/  211 batches | accuracy    0.978\n",
            "| epoch   7 |   100/  211 batches | accuracy    0.979\n",
            "| epoch   7 |   150/  211 batches | accuracy    0.975\n",
            "| epoch   7 |   200/  211 batches | accuracy    0.978\n",
            "-----------------------------------------------------------\n",
            "| End of epoch   7 | Time: 11.92s | Train Accuracy    0.974 | Train Loss    0.072 | Valid Accuracy    0.969 | Valid Loss    0.099 \n",
            "-----------------------------------------------------------\n",
            "| epoch   8 |    50/  211 batches | accuracy    0.980\n",
            "| epoch   8 |   100/  211 batches | accuracy    0.978\n",
            "| epoch   8 |   150/  211 batches | accuracy    0.980\n",
            "| epoch   8 |   200/  211 batches | accuracy    0.978\n",
            "-----------------------------------------------------------\n",
            "| End of epoch   8 | Time: 12.03s | Train Accuracy    0.984 | Train Loss    0.064 | Valid Accuracy    0.972 | Valid Loss    0.087 \n",
            "-----------------------------------------------------------\n",
            "| epoch   9 |    50/  211 batches | accuracy    0.982\n",
            "| epoch   9 |   100/  211 batches | accuracy    0.984\n",
            "| epoch   9 |   150/  211 batches | accuracy    0.983\n",
            "| epoch   9 |   200/  211 batches | accuracy    0.982\n",
            "-----------------------------------------------------------\n",
            "| End of epoch   9 | Time: 12.09s | Train Accuracy    0.984 | Train Loss    0.056 | Valid Accuracy    0.973 | Valid Loss    0.087 \n",
            "-----------------------------------------------------------\n",
            "| epoch  10 |    50/  211 batches | accuracy    0.985\n",
            "| epoch  10 |   100/  211 batches | accuracy    0.983\n",
            "| epoch  10 |   150/  211 batches | accuracy    0.984\n",
            "| epoch  10 |   200/  211 batches | accuracy    0.984\n",
            "-----------------------------------------------------------\n",
            "| End of epoch  10 | Time: 12.09s | Train Accuracy    0.982 | Train Loss    0.050 | Valid Accuracy    0.975 | Valid Loss    0.086 \n",
            "-----------------------------------------------------------\n",
            "| epoch  11 |    50/  211 batches | accuracy    0.987\n",
            "| epoch  11 |   100/  211 batches | accuracy    0.985\n",
            "| epoch  11 |   150/  211 batches | accuracy    0.986\n",
            "| epoch  11 |   200/  211 batches | accuracy    0.985\n",
            "-----------------------------------------------------------\n",
            "| End of epoch  11 | Time: 12.00s | Train Accuracy    0.981 | Train Loss    0.045 | Valid Accuracy    0.971 | Valid Loss    0.095 \n",
            "-----------------------------------------------------------\n",
            "| epoch  12 |    50/  211 batches | accuracy    0.988\n",
            "| epoch  12 |   100/  211 batches | accuracy    0.987\n",
            "| epoch  12 |   150/  211 batches | accuracy    0.989\n",
            "| epoch  12 |   200/  211 batches | accuracy    0.983\n",
            "-----------------------------------------------------------\n",
            "| End of epoch  12 | Time: 12.07s | Train Accuracy    0.981 | Train Loss    0.043 | Valid Accuracy    0.972 | Valid Loss    0.089 \n",
            "-----------------------------------------------------------\n",
            "| epoch  13 |    50/  211 batches | accuracy    0.989\n",
            "| epoch  13 |   100/  211 batches | accuracy    0.989\n",
            "| epoch  13 |   150/  211 batches | accuracy    0.986\n",
            "| epoch  13 |   200/  211 batches | accuracy    0.985\n",
            "-----------------------------------------------------------\n",
            "| End of epoch  13 | Time: 12.29s | Train Accuracy    0.988 | Train Loss    0.041 | Valid Accuracy    0.976 | Valid Loss    0.084 \n",
            "-----------------------------------------------------------\n",
            "| epoch  14 |    50/  211 batches | accuracy    0.992\n",
            "| epoch  14 |   100/  211 batches | accuracy    0.990\n",
            "| epoch  14 |   150/  211 batches | accuracy    0.990\n",
            "| epoch  14 |   200/  211 batches | accuracy    0.988\n",
            "-----------------------------------------------------------\n",
            "| End of epoch  14 | Time: 12.05s | Train Accuracy    0.983 | Train Loss    0.033 | Valid Accuracy    0.974 | Valid Loss    0.088 \n",
            "-----------------------------------------------------------\n",
            "| epoch  15 |    50/  211 batches | accuracy    0.993\n",
            "| epoch  15 |   100/  211 batches | accuracy    0.990\n",
            "| epoch  15 |   150/  211 batches | accuracy    0.989\n",
            "| epoch  15 |   200/  211 batches | accuracy    0.989\n",
            "-----------------------------------------------------------\n",
            "| End of epoch  15 | Time: 12.29s | Train Accuracy    0.988 | Train Loss    0.030 | Valid Accuracy    0.975 | Valid Loss    0.090 \n",
            "-----------------------------------------------------------\n",
            "| epoch  16 |    50/  211 batches | accuracy    0.992\n",
            "| epoch  16 |   100/  211 batches | accuracy    0.993\n",
            "| epoch  16 |   150/  211 batches | accuracy    0.991\n",
            "| epoch  16 |   200/  211 batches | accuracy    0.990\n",
            "-----------------------------------------------------------\n",
            "| End of epoch  16 | Time: 12.32s | Train Accuracy    0.990 | Train Loss    0.027 | Valid Accuracy    0.975 | Valid Loss    0.087 \n",
            "-----------------------------------------------------------\n",
            "| epoch  17 |    50/  211 batches | accuracy    0.994\n",
            "| epoch  17 |   100/  211 batches | accuracy    0.993\n",
            "| epoch  17 |   150/  211 batches | accuracy    0.990\n",
            "| epoch  17 |   200/  211 batches | accuracy    0.989\n",
            "-----------------------------------------------------------\n",
            "| End of epoch  17 | Time: 12.14s | Train Accuracy    0.990 | Train Loss    0.026 | Valid Accuracy    0.975 | Valid Loss    0.091 \n",
            "-----------------------------------------------------------\n",
            "| epoch  18 |    50/  211 batches | accuracy    0.994\n",
            "| epoch  18 |   100/  211 batches | accuracy    0.993\n",
            "| epoch  18 |   150/  211 batches | accuracy    0.992\n",
            "| epoch  18 |   200/  211 batches | accuracy    0.990\n",
            "-----------------------------------------------------------\n",
            "| End of epoch  18 | Time: 11.98s | Train Accuracy    0.996 | Train Loss    0.024 | Valid Accuracy    0.975 | Valid Loss    0.087 \n",
            "-----------------------------------------------------------\n",
            "| epoch  19 |    50/  211 batches | accuracy    0.994\n",
            "| epoch  19 |   100/  211 batches | accuracy    0.994\n",
            "| epoch  19 |   150/  211 batches | accuracy    0.993\n",
            "| epoch  19 |   200/  211 batches | accuracy    0.990\n",
            "-----------------------------------------------------------\n",
            "| End of epoch  19 | Time: 12.15s | Train Accuracy    0.992 | Train Loss    0.022 | Valid Accuracy    0.970 | Valid Loss    0.108 \n",
            "-----------------------------------------------------------\n",
            "| epoch  20 |    50/  211 batches | accuracy    0.994\n",
            "| epoch  20 |   100/  211 batches | accuracy    0.995\n",
            "| epoch  20 |   150/  211 batches | accuracy    0.993\n",
            "| epoch  20 |   200/  211 batches | accuracy    0.993\n",
            "-----------------------------------------------------------\n",
            "| End of epoch  20 | Time: 12.21s | Train Accuracy    0.994 | Train Loss    0.019 | Valid Accuracy    0.975 | Valid Loss    0.093 \n",
            "-----------------------------------------------------------\n"
          ]
        }
      ],
      "source": [
        "num_classes = len(train_data.dataset.classes)\n",
        "\n",
        "device = torch.device('cuda' if torch.cuda.is_available() else 'cpu')\n",
        "\n",
        "base_model.to(device)\n",
        "\n",
        "criterion = torch.nn.CrossEntropyLoss()\n",
        "optimizer = optim.Adam(base_model.parameters())\n",
        "\n",
        "num_epochs = 20\n",
        "save_model = './model'\n",
        "os.makedirs(save_model, exist_ok = True)\n",
        "model_name = 'base_model'\n",
        "\n",
        "base_model, base_metrics = train(\n",
        "    base_model, model_name, optimizer, criterion, train_dataloader, valid_dataloader, num_epochs, device\n",
        ")"
      ]
    },
    {
      "cell_type": "code",
      "execution_count": 72,
      "metadata": {
        "colab": {
          "base_uri": "https://localhost:8080/"
        },
        "id": "O7kq6S55JJtG",
        "outputId": "6a5e3b3e-6dce-4014-8ec7-9cb7881ef6f1"
      },
      "outputs": [
        {
          "data": {
            "text/plain": [
              "(0.9931, 0.023693271309751622)"
            ]
          },
          "execution_count": 72,
          "metadata": {},
          "output_type": "execute_result"
        }
      ],
      "source": [
        "test_acc, test_loss = evaluate_epoch(base_model, criterion, test_dataloader)\n",
        "test_acc, test_loss"
      ]
    },
    {
      "cell_type": "code",
      "execution_count": 73,
      "metadata": {
        "colab": {
          "base_uri": "https://localhost:8080/",
          "height": 542
        },
        "id": "GlQYMcp3KQWW",
        "outputId": "867149d7-079d-4a46-9f3f-fad41d3ea01d"
      },
      "outputs": [
        {
          "data": {
            "image/png": "[encoded data removed]",
            "text/plain": [
              "<Figure size 1200x600 with 2 Axes>"
            ]
          },
          "metadata": {},
          "output_type": "display_data"
        }
      ],
      "source": [
        "plot_result(\n",
        "    num_epochs,\n",
        "    base_metrics[\"train_accuracy\"],\n",
        "    base_metrics[\"valid_accuracy\"],\n",
        "    base_metrics[\"train_loss\"],\n",
        "    base_metrics[\"valid_loss\"]\n",
        ")"
      ]
    },
    {
      "cell_type": "markdown",
      "metadata": {
        "id": "3wk9B4pjKY_y"
      },
      "source": [
        "**Now I use Batch Normalization here**"
      ]
    },
    {
      "cell_type": "code",
      "execution_count": 75,
      "metadata": {
        "id": "3-q2qQdNKVbN"
      },
      "outputs": [],
      "source": [
        "batchnorm_model = nn.Sequential(\n",
        "    nn.Conv2d(1, 6, 5, stride=2),\n",
        "    nn.Flatten(),\n",
        "    nn.Linear(6*12*12, 64),\n",
        "    nn.BatchNorm1d(64),\n",
        "    nn.ReLU(),\n",
        "    nn.Linear(64, 32),\n",
        "    nn.BatchNorm1d(32),\n",
        "    nn.ReLU(),\n",
        "    nn.Linear(32, 10)\n",
        ")"
      ]
    },
    {
      "cell_type": "code",
      "execution_count": 76,
      "metadata": {
        "colab": {
          "base_uri": "https://localhost:8080/"
        },
        "id": "PHK5XTCcK6BD",
        "outputId": "0b49fdf9-fcb1-4bb5-ebba-2de94b653b6a"
      },
      "outputs": [
        {
          "name": "stdout",
          "output_type": "stream",
          "text": [
            "==========================================================================================\n",
            "Layer (type:depth-idx)                   Output Shape              Param #\n",
            "==========================================================================================\n",
            "├─Conv2d: 1-1                            [-1, 6, 12, 12]           156\n",
            "├─Flatten: 1-2                           [-1, 864]                 --\n",
            "├─Linear: 1-3                            [-1, 64]                  55,360\n",
            "├─ReLU: 1-4                              [-1, 64]                  --\n",
            "├─Linear: 1-5                            [-1, 32]                  2,080\n",
            "├─ReLU: 1-6                              [-1, 32]                  --\n",
            "├─Linear: 1-7                            [-1, 10]                  330\n",
            "==========================================================================================\n",
            "Total params: 57,926\n",
            "Trainable params: 57,926\n",
            "Non-trainable params: 0\n",
            "Total mult-adds (M): 0.08\n",
            "==========================================================================================\n",
            "Input size (MB): 0.00\n",
            "Forward/backward pass size (MB): 0.01\n",
            "Params size (MB): 0.22\n",
            "Estimated Total Size (MB): 0.23\n",
            "==========================================================================================\n"
          ]
        },
        {
          "data": {
            "text/plain": [
              "==========================================================================================\n",
              "Layer (type:depth-idx)                   Output Shape              Param #\n",
              "==========================================================================================\n",
              "├─Conv2d: 1-1                            [-1, 6, 12, 12]           156\n",
              "├─Flatten: 1-2                           [-1, 864]                 --\n",
              "├─Linear: 1-3                            [-1, 64]                  55,360\n",
              "├─ReLU: 1-4                              [-1, 64]                  --\n",
              "├─Linear: 1-5                            [-1, 32]                  2,080\n",
              "├─ReLU: 1-6                              [-1, 32]                  --\n",
              "├─Linear: 1-7                            [-1, 10]                  330\n",
              "==========================================================================================\n",
              "Total params: 57,926\n",
              "Trainable params: 57,926\n",
              "Non-trainable params: 0\n",
              "Total mult-adds (M): 0.08\n",
              "==========================================================================================\n",
              "Input size (MB): 0.00\n",
              "Forward/backward pass size (MB): 0.01\n",
              "Params size (MB): 0.22\n",
              "Estimated Total Size (MB): 0.23\n",
              "=========================================================================================="
            ]
          },
          "execution_count": 76,
          "metadata": {},
          "output_type": "execute_result"
        }
      ],
      "source": [
        "summary(base_model, (1, 28, 28))"
      ]
    },
    {
      "cell_type": "code",
      "execution_count": 77,
      "metadata": {
        "colab": {
          "base_uri": "https://localhost:8080/"
        },
        "id": "RiexrDywK_eN",
        "outputId": "74b103de-6e75-4431-f3a0-ff148dd61d68"
      },
      "outputs": [
        {
          "name": "stdout",
          "output_type": "stream",
          "text": [
            "| epoch   1 |    50/  211 batches | accuracy    0.780\n",
            "| epoch   1 |   100/  211 batches | accuracy    0.911\n",
            "| epoch   1 |   150/  211 batches | accuracy    0.932\n",
            "| epoch   1 |   200/  211 batches | accuracy    0.942\n",
            "-----------------------------------------------------------\n",
            "| End of epoch   1 | Time: 12.40s | Train Accuracy    0.952 | Train Loss    0.643 | Valid Accuracy    0.945 | Valid Loss    0.257 \n",
            "-----------------------------------------------------------\n",
            "| epoch   2 |    50/  211 batches | accuracy    0.955\n",
            "| epoch   2 |   100/  211 batches | accuracy    0.959\n",
            "| epoch   2 |   150/  211 batches | accuracy    0.962\n",
            "| epoch   2 |   200/  211 batches | accuracy    0.963\n",
            "-----------------------------------------------------------\n",
            "| End of epoch   2 | Time: 12.16s | Train Accuracy    0.965 | Train Loss    0.178 | Valid Accuracy    0.963 | Valid Loss    0.144 \n",
            "-----------------------------------------------------------\n",
            "| epoch   3 |    50/  211 batches | accuracy    0.971\n",
            "| epoch   3 |   100/  211 batches | accuracy    0.971\n",
            "| epoch   3 |   150/  211 batches | accuracy    0.970\n",
            "| epoch   3 |   200/  211 batches | accuracy    0.975\n",
            "-----------------------------------------------------------\n",
            "| End of epoch   3 | Time: 12.22s | Train Accuracy    0.972 | Train Loss    0.113 | Valid Accuracy    0.969 | Valid Loss    0.106 \n",
            "-----------------------------------------------------------\n",
            "| epoch   4 |    50/  211 batches | accuracy    0.978\n",
            "| epoch   4 |   100/  211 batches | accuracy    0.977\n",
            "| epoch   4 |   150/  211 batches | accuracy    0.975\n",
            "| epoch   4 |   200/  211 batches | accuracy    0.976\n",
            "-----------------------------------------------------------\n",
            "| End of epoch   4 | Time: 12.65s | Train Accuracy    0.981 | Train Loss    0.086 | Valid Accuracy    0.970 | Valid Loss    0.096 \n",
            "-----------------------------------------------------------\n",
            "| epoch   5 |    50/  211 batches | accuracy    0.984\n",
            "| epoch   5 |   100/  211 batches | accuracy    0.984\n",
            "| epoch   5 |   150/  211 batches | accuracy    0.979\n",
            "| epoch   5 |   200/  211 batches | accuracy    0.980\n",
            "-----------------------------------------------------------\n",
            "| End of epoch   5 | Time: 12.36s | Train Accuracy    0.984 | Train Loss    0.067 | Valid Accuracy    0.971 | Valid Loss    0.096 \n",
            "-----------------------------------------------------------\n",
            "| epoch   6 |    50/  211 batches | accuracy    0.985\n",
            "| epoch   6 |   100/  211 batches | accuracy    0.983\n",
            "| epoch   6 |   150/  211 batches | accuracy    0.985\n",
            "| epoch   6 |   200/  211 batches | accuracy    0.983\n",
            "-----------------------------------------------------------\n",
            "| End of epoch   6 | Time: 12.78s | Train Accuracy    0.981 | Train Loss    0.056 | Valid Accuracy    0.974 | Valid Loss    0.087 \n",
            "-----------------------------------------------------------\n",
            "| epoch   7 |    50/  211 batches | accuracy    0.990\n",
            "| epoch   7 |   100/  211 batches | accuracy    0.988\n",
            "| epoch   7 |   150/  211 batches | accuracy    0.986\n",
            "| epoch   7 |   200/  211 batches | accuracy    0.987\n",
            "-----------------------------------------------------------\n",
            "| End of epoch   7 | Time: 11.81s | Train Accuracy    0.984 | Train Loss    0.046 | Valid Accuracy    0.973 | Valid Loss    0.084 \n",
            "-----------------------------------------------------------\n",
            "| epoch   8 |    50/  211 batches | accuracy    0.991\n",
            "| epoch   8 |   100/  211 batches | accuracy    0.990\n",
            "| epoch   8 |   150/  211 batches | accuracy    0.989\n",
            "| epoch   8 |   200/  211 batches | accuracy    0.989\n",
            "-----------------------------------------------------------\n",
            "| End of epoch   8 | Time: 12.26s | Train Accuracy    0.988 | Train Loss    0.039 | Valid Accuracy    0.971 | Valid Loss    0.085 \n",
            "-----------------------------------------------------------\n",
            "| epoch   9 |    50/  211 batches | accuracy    0.993\n",
            "| epoch   9 |   100/  211 batches | accuracy    0.992\n",
            "| epoch   9 |   150/  211 batches | accuracy    0.991\n",
            "| epoch   9 |   200/  211 batches | accuracy    0.990\n",
            "-----------------------------------------------------------\n",
            "| End of epoch   9 | Time: 12.13s | Train Accuracy    0.988 | Train Loss    0.032 | Valid Accuracy    0.973 | Valid Loss    0.083 \n",
            "-----------------------------------------------------------\n",
            "| epoch  10 |    50/  211 batches | accuracy    0.995\n",
            "| epoch  10 |   100/  211 batches | accuracy    0.993\n",
            "| epoch  10 |   150/  211 batches | accuracy    0.991\n",
            "| epoch  10 |   200/  211 batches | accuracy    0.991\n",
            "-----------------------------------------------------------\n",
            "| End of epoch  10 | Time: 11.95s | Train Accuracy    0.988 | Train Loss    0.029 | Valid Accuracy    0.973 | Valid Loss    0.084 \n",
            "-----------------------------------------------------------\n",
            "| epoch  11 |    50/  211 batches | accuracy    0.994\n",
            "| epoch  11 |   100/  211 batches | accuracy    0.994\n",
            "| epoch  11 |   150/  211 batches | accuracy    0.993\n",
            "| epoch  11 |   200/  211 batches | accuracy    0.994\n",
            "-----------------------------------------------------------\n",
            "| End of epoch  11 | Time: 12.19s | Train Accuracy    0.990 | Train Loss    0.024 | Valid Accuracy    0.973 | Valid Loss    0.088 \n",
            "-----------------------------------------------------------\n",
            "| epoch  12 |    50/  211 batches | accuracy    0.996\n",
            "| epoch  12 |   100/  211 batches | accuracy    0.995\n",
            "| epoch  12 |   150/  211 batches | accuracy    0.994\n",
            "| epoch  12 |   200/  211 batches | accuracy    0.995\n",
            "-----------------------------------------------------------\n",
            "| End of epoch  12 | Time: 12.05s | Train Accuracy    0.994 | Train Loss    0.019 | Valid Accuracy    0.974 | Valid Loss    0.088 \n",
            "-----------------------------------------------------------\n",
            "| epoch  13 |    50/  211 batches | accuracy    0.997\n",
            "| epoch  13 |   100/  211 batches | accuracy    0.997\n",
            "| epoch  13 |   150/  211 batches | accuracy    0.995\n",
            "| epoch  13 |   200/  211 batches | accuracy    0.994\n",
            "-----------------------------------------------------------\n",
            "| End of epoch  13 | Time: 12.02s | Train Accuracy    0.993 | Train Loss    0.017 | Valid Accuracy    0.973 | Valid Loss    0.092 \n",
            "-----------------------------------------------------------\n",
            "| epoch  14 |    50/  211 batches | accuracy    0.996\n",
            "| epoch  14 |   100/  211 batches | accuracy    0.996\n",
            "| epoch  14 |   150/  211 batches | accuracy    0.995\n",
            "| epoch  14 |   200/  211 batches | accuracy    0.995\n",
            "-----------------------------------------------------------\n",
            "| End of epoch  14 | Time: 12.23s | Train Accuracy    0.995 | Train Loss    0.016 | Valid Accuracy    0.973 | Valid Loss    0.094 \n",
            "-----------------------------------------------------------\n",
            "| epoch  15 |    50/  211 batches | accuracy    0.999\n",
            "| epoch  15 |   100/  211 batches | accuracy    0.998\n",
            "| epoch  15 |   150/  211 batches | accuracy    0.997\n",
            "| epoch  15 |   200/  211 batches | accuracy    0.997\n",
            "-----------------------------------------------------------\n",
            "| End of epoch  15 | Time: 12.02s | Train Accuracy    0.997 | Train Loss    0.012 | Valid Accuracy    0.974 | Valid Loss    0.092 \n",
            "-----------------------------------------------------------\n",
            "| epoch  16 |    50/  211 batches | accuracy    0.998\n",
            "| epoch  16 |   100/  211 batches | accuracy    0.997\n",
            "| epoch  16 |   150/  211 batches | accuracy    0.998\n",
            "| epoch  16 |   200/  211 batches | accuracy    0.996\n",
            "-----------------------------------------------------------\n",
            "| End of epoch  16 | Time: 11.93s | Train Accuracy    0.997 | Train Loss    0.011 | Valid Accuracy    0.972 | Valid Loss    0.098 \n",
            "-----------------------------------------------------------\n",
            "| epoch  17 |    50/  211 batches | accuracy    0.997\n",
            "| epoch  17 |   100/  211 batches | accuracy    0.998\n",
            "| epoch  17 |   150/  211 batches | accuracy    0.997\n",
            "| epoch  17 |   200/  211 batches | accuracy    0.996\n",
            "-----------------------------------------------------------\n",
            "| End of epoch  17 | Time: 11.80s | Train Accuracy    0.994 | Train Loss    0.012 | Valid Accuracy    0.973 | Valid Loss    0.095 \n",
            "-----------------------------------------------------------\n",
            "| epoch  18 |    50/  211 batches | accuracy    0.996\n",
            "| epoch  18 |   100/  211 batches | accuracy    0.997\n",
            "| epoch  18 |   150/  211 batches | accuracy    0.997\n",
            "| epoch  18 |   200/  211 batches | accuracy    0.996\n",
            "-----------------------------------------------------------\n",
            "| End of epoch  18 | Time: 11.64s | Train Accuracy    0.996 | Train Loss    0.012 | Valid Accuracy    0.970 | Valid Loss    0.109 \n",
            "-----------------------------------------------------------\n",
            "| epoch  19 |    50/  211 batches | accuracy    0.998\n",
            "| epoch  19 |   100/  211 batches | accuracy    0.998\n",
            "| epoch  19 |   150/  211 batches | accuracy    0.997\n",
            "| epoch  19 |   200/  211 batches | accuracy    0.997\n",
            "-----------------------------------------------------------\n",
            "| End of epoch  19 | Time: 12.01s | Train Accuracy    0.998 | Train Loss    0.010 | Valid Accuracy    0.973 | Valid Loss    0.099 \n",
            "-----------------------------------------------------------\n",
            "| epoch  20 |    50/  211 batches | accuracy    0.998\n",
            "| epoch  20 |   100/  211 batches | accuracy    0.998\n",
            "| epoch  20 |   150/  211 batches | accuracy    0.998\n",
            "| epoch  20 |   200/  211 batches | accuracy    0.998\n",
            "-----------------------------------------------------------\n",
            "| End of epoch  20 | Time: 12.41s | Train Accuracy    0.998 | Train Loss    0.009 | Valid Accuracy    0.973 | Valid Loss    0.095 \n",
            "-----------------------------------------------------------\n"
          ]
        }
      ],
      "source": [
        "num_classes = len(train_data.dataset.classes)\n",
        "\n",
        "device = torch.device('cuda' if torch.cuda.is_available() else 'cpu')\n",
        "\n",
        "batchnorm_model.to(device)\n",
        "\n",
        "criterion = torch.nn.CrossEntropyLoss()\n",
        "optimizer = optim.Adam(batchnorm_model.parameters())\n",
        "\n",
        "num_epochs = 20\n",
        "save_model = './model'\n",
        "os.makedirs(save_model, exist_ok = True)\n",
        "model_name = 'batch_norm_model'\n",
        "\n",
        "batchnorm_model, batchnorm_metrics = train(\n",
        "    batchnorm_model, model_name, optimizer, criterion, train_dataloader, valid_dataloader, num_epochs, device\n",
        ")"
      ]
    },
    {
      "cell_type": "code",
      "execution_count": 78,
      "metadata": {
        "colab": {
          "base_uri": "https://localhost:8080/"
        },
        "id": "oBRSrGwEL3ww",
        "outputId": "e91e1bb0-9455-42e2-c5ac-68b6e3c4c16e"
      },
      "outputs": [
        {
          "data": {
            "text/plain": [
              "(0.99685, 0.013315929695121706)"
            ]
          },
          "execution_count": 78,
          "metadata": {},
          "output_type": "execute_result"
        }
      ],
      "source": [
        "test_acc , test_loss = evaluate_epoch(batchnorm_model, criterion, test_dataloader)\n",
        "test_acc, test_loss"
      ]
    },
    {
      "cell_type": "code",
      "execution_count": 79,
      "metadata": {
        "colab": {
          "base_uri": "https://localhost:8080/",
          "height": 545
        },
        "id": "QhE6h_62NDTu",
        "outputId": "76fd56d0-1d67-426c-e100-502a40c36dc1"
      },
      "outputs": [
        {
          "data": {
            "image/png": "[encoded data removed]",
            "text/plain": [
              "<Figure size 1200x600 with 2 Axes>"
            ]
          },
          "metadata": {},
          "output_type": "display_data"
        }
      ],
      "source": [
        "plot_result(\n",
        "    num_epochs,\n",
        "    batchnorm_metrics[\"train_accuracy\"],\n",
        "    batchnorm_metrics[\"valid_accuracy\"],\n",
        "    batchnorm_metrics[\"train_loss\"],\n",
        "    batchnorm_metrics[\"valid_loss\"],\n",
        ")"
      ]
    },
    {
      "cell_type": "code",
      "execution_count": 80,
      "metadata": {
        "colab": {
          "base_uri": "https://localhost:8080/",
          "height": 560
        },
        "id": "Xf8Kwq_ANTdu",
        "outputId": "36e76807-f09a-4ba5-92aa-36d5f423dc02"
      },
      "outputs": [
        {
          "data": {
            "text/plain": [
              "<matplotlib.legend.Legend at 0x7a0720c692d0>"
            ]
          },
          "execution_count": 80,
          "metadata": {},
          "output_type": "execute_result"
        },
        {
          "data": {
            "image/png": "[encoded data removed]",
            "text/plain": [
              "<Figure size 1200x600 with 2 Axes>"
            ]
          },
          "metadata": {},
          "output_type": "display_data"
        }
      ],
      "source": [
        "epochs = list(range(num_epochs))\n",
        "fig, axs = plt.subplots(nrows = 1, ncols =2 , figsize = (12,6))\n",
        "axs[0].plot(epochs, base_metrics['train_loss'], label = \"w/o BN\")\n",
        "axs[0].plot(epochs, batchnorm_metrics['train_loss'], label = \"w BN\")\n",
        "axs[1].plot(epochs, base_metrics['valid_loss'], label = \"w/o BN\")\n",
        "axs[1].plot(epochs, batchnorm_metrics['valid_loss'], label = \"w BN\")\n",
        "axs[0].set_xlabel(\"Epochs\")\n",
        "axs[1].set_xlabel(\"Epochs\")\n",
        "axs[0].set_ylabel(\"Training Loss\")\n",
        "axs[1].set_ylabel(\"Evaluation Loss\")\n",
        "plt.legend()"
      ]
    },
    {
      "cell_type": "markdown",
      "metadata": {
        "id": "k8hjuwfZNnaq"
      },
      "source": [
        "**Dropout**"
      ]
    },
    {
      "cell_type": "code",
      "execution_count": 81,
      "metadata": {
        "id": "BXSI_kTLNWdJ"
      },
      "outputs": [],
      "source": [
        "input = torch.randint(5, (3, 3, 2), dtype=torch.float32)"
      ]
    },
    {
      "cell_type": "code",
      "execution_count": 82,
      "metadata": {
        "id": "IJ5RJP63Nt0l"
      },
      "outputs": [],
      "source": [
        "labels = torch.tensor([0, 1, 1])"
      ]
    },
    {
      "cell_type": "code",
      "execution_count": 83,
      "metadata": {
        "id": "CEsPFWD5Nvee"
      },
      "outputs": [],
      "source": [
        "model = nn.Sequential(\n",
        "    nn.Flatten(),\n",
        "    nn.Linear(3 * 2, 5),\n",
        "    nn.ReLU(),\n",
        "    nn.Dropout(0.2),\n",
        "    nn.Linear(5, 2)\n",
        ")"
      ]
    },
    {
      "cell_type": "code",
      "execution_count": 84,
      "metadata": {
        "colab": {
          "base_uri": "https://localhost:8080/"
        },
        "id": "CBeriK0QNxIT",
        "outputId": "a131c1d1-2951-47ed-9da3-42df4c6e4d0a"
      },
      "outputs": [
        {
          "name": "stdout",
          "output_type": "stream",
          "text": [
            "Parameter containing:\n",
            "tensor([[ 0.0862,  0.1255,  0.1914, -0.1122,  0.2687,  0.2505],\n",
            "        [-0.2292, -0.0367,  0.0587, -0.0133, -0.0506,  0.1638],\n",
            "        [ 0.3426,  0.0815,  0.2106, -0.0975, -0.3912, -0.0942],\n",
            "        [ 0.1861, -0.2138,  0.3155, -0.3160, -0.1436,  0.1358],\n",
            "        [ 0.1845,  0.1984,  0.3845,  0.1273, -0.2820, -0.4068]],\n",
            "       requires_grad=True)\n",
            "Parameter containing:\n",
            "tensor([-0.2871, -0.3873,  0.1763, -0.3309,  0.3732], requires_grad=True)\n",
            "Parameter containing:\n",
            "tensor([[ 0.4233,  0.0993,  0.0839,  0.0221,  0.2623],\n",
            "        [ 0.0106,  0.0040, -0.4072,  0.0208,  0.1270]], requires_grad=True)\n",
            "Parameter containing:\n",
            "tensor([-0.0091,  0.0593], requires_grad=True)\n"
          ]
        }
      ],
      "source": [
        "for p in model.parameters():\n",
        "    print(p)"
      ]
    },
    {
      "cell_type": "code",
      "execution_count": 85,
      "metadata": {
        "id": "F-JvVlX2NyXt"
      },
      "outputs": [],
      "source": [
        "predictions = model(input)"
      ]
    },
    {
      "cell_type": "code",
      "execution_count": 86,
      "metadata": {
        "id": "mmUoqZTrN0X-"
      },
      "outputs": [],
      "source": [
        "loss_function = nn.CrossEntropyLoss()\n",
        "optimizer = torch.optim.Adam(model.parameters())"
      ]
    },
    {
      "cell_type": "code",
      "execution_count": 87,
      "metadata": {
        "id": "DEq0SiXgN1wJ"
      },
      "outputs": [],
      "source": [
        "loss = loss_function(predictions, labels)"
      ]
    },
    {
      "cell_type": "code",
      "execution_count": 88,
      "metadata": {
        "id": "Hu5iKor-N3NU"
      },
      "outputs": [],
      "source": [
        "loss.backward()"
      ]
    },
    {
      "cell_type": "code",
      "execution_count": 89,
      "metadata": {
        "id": "gp-LLxHHN4oF"
      },
      "outputs": [],
      "source": [
        "optimizer.step()"
      ]
    },
    {
      "cell_type": "code",
      "execution_count": 90,
      "metadata": {
        "colab": {
          "base_uri": "https://localhost:8080/"
        },
        "id": "MEZ3kOkqN5yd",
        "outputId": "12a1a477-5f84-4ea9-c68a-813946a4a5c1"
      },
      "outputs": [
        {
          "name": "stdout",
          "output_type": "stream",
          "text": [
            "Parameter containing:\n",
            "tensor([[ 0.0852,  0.1265,  0.1904, -0.1132,  0.2697,  0.2495],\n",
            "        [-0.2292, -0.0367,  0.0587, -0.0133, -0.0506,  0.1638],\n",
            "        [ 0.3416,  0.0805,  0.2096, -0.0985, -0.3922, -0.0952],\n",
            "        [ 0.1851, -0.2138,  0.3145, -0.3170, -0.1436,  0.1348],\n",
            "        [ 0.1835,  0.1974,  0.3855,  0.1263, -0.2810, -0.4078]],\n",
            "       requires_grad=True)\n",
            "Parameter containing:\n",
            "tensor([-0.2881, -0.3873,  0.1753, -0.3319,  0.3722], requires_grad=True)\n",
            "Parameter containing:\n",
            "tensor([[ 0.4223,  0.0993,  0.0829,  0.0211,  0.2633],\n",
            "        [ 0.0116,  0.0040, -0.4062,  0.0218,  0.1260]], requires_grad=True)\n",
            "Parameter containing:\n",
            "tensor([-0.0101,  0.0603], requires_grad=True)\n"
          ]
        }
      ],
      "source": [
        "for p in model.parameters():\n",
        "    print(p)"
      ]
    },
    {
      "cell_type": "markdown",
      "metadata": {
        "id": "u-Spq-39N_kR"
      },
      "source": [
        "**MNIST Classification**"
      ]
    },
    {
      "cell_type": "code",
      "execution_count": 91,
      "metadata": {
        "id": "MgML8agDN66z"
      },
      "outputs": [],
      "source": [
        "dropout_model = nn.Sequential(\n",
        "    nn.Conv2d(1, 6, 5, stride=2),\n",
        "    nn.Flatten(),\n",
        "    nn.Linear(6 * 12 * 12, 64),\n",
        "    nn.ReLU(),\n",
        "    nn.Dropout(0.2),\n",
        "    nn.Linear(64, 32),\n",
        "    nn.ReLU(),\n",
        "    nn.Dropout(0.2),\n",
        "    nn.Linear(32, 10)\n",
        ")"
      ]
    },
    {
      "cell_type": "code",
      "execution_count": 92,
      "metadata": {
        "colab": {
          "base_uri": "https://localhost:8080/"
        },
        "id": "pS_2FpMrOHuq",
        "outputId": "13d2ec89-2463-49b8-a6f6-a0a0f07523f3"
      },
      "outputs": [
        {
          "name": "stdout",
          "output_type": "stream",
          "text": [
            "==========================================================================================\n",
            "Layer (type:depth-idx)                   Output Shape              Param #\n",
            "==========================================================================================\n",
            "├─Conv2d: 1-1                            [-1, 6, 12, 12]           156\n",
            "├─Flatten: 1-2                           [-1, 864]                 --\n",
            "├─Linear: 1-3                            [-1, 64]                  55,360\n",
            "├─ReLU: 1-4                              [-1, 64]                  --\n",
            "├─Dropout: 1-5                           [-1, 64]                  --\n",
            "├─Linear: 1-6                            [-1, 32]                  2,080\n",
            "├─ReLU: 1-7                              [-1, 32]                  --\n",
            "├─Dropout: 1-8                           [-1, 32]                  --\n",
            "├─Linear: 1-9                            [-1, 10]                  330\n",
            "==========================================================================================\n",
            "Total params: 57,926\n",
            "Trainable params: 57,926\n",
            "Non-trainable params: 0\n",
            "Total mult-adds (M): 0.08\n",
            "==========================================================================================\n",
            "Input size (MB): 0.00\n",
            "Forward/backward pass size (MB): 0.01\n",
            "Params size (MB): 0.22\n",
            "Estimated Total Size (MB): 0.23\n",
            "==========================================================================================\n"
          ]
        },
        {
          "data": {
            "text/plain": [
              "==========================================================================================\n",
              "Layer (type:depth-idx)                   Output Shape              Param #\n",
              "==========================================================================================\n",
              "├─Conv2d: 1-1                            [-1, 6, 12, 12]           156\n",
              "├─Flatten: 1-2                           [-1, 864]                 --\n",
              "├─Linear: 1-3                            [-1, 64]                  55,360\n",
              "├─ReLU: 1-4                              [-1, 64]                  --\n",
              "├─Dropout: 1-5                           [-1, 64]                  --\n",
              "├─Linear: 1-6                            [-1, 32]                  2,080\n",
              "├─ReLU: 1-7                              [-1, 32]                  --\n",
              "├─Dropout: 1-8                           [-1, 32]                  --\n",
              "├─Linear: 1-9                            [-1, 10]                  330\n",
              "==========================================================================================\n",
              "Total params: 57,926\n",
              "Trainable params: 57,926\n",
              "Non-trainable params: 0\n",
              "Total mult-adds (M): 0.08\n",
              "==========================================================================================\n",
              "Input size (MB): 0.00\n",
              "Forward/backward pass size (MB): 0.01\n",
              "Params size (MB): 0.22\n",
              "Estimated Total Size (MB): 0.23\n",
              "=========================================================================================="
            ]
          },
          "execution_count": 92,
          "metadata": {},
          "output_type": "execute_result"
        }
      ],
      "source": [
        "summary(dropout_model, (1, 28, 28))"
      ]
    },
    {
      "cell_type": "code",
      "execution_count": 93,
      "metadata": {
        "colab": {
          "base_uri": "https://localhost:8080/"
        },
        "id": "VISCdiy9OI7r",
        "outputId": "114a6a73-3423-47f3-ccee-895dd1ab8748"
      },
      "outputs": [
        {
          "name": "stdout",
          "output_type": "stream",
          "text": [
            "| epoch   1 |    50/  211 batches | accuracy    0.582\n",
            "| epoch   1 |   100/  211 batches | accuracy    0.822\n",
            "| epoch   1 |   150/  211 batches | accuracy    0.866\n",
            "| epoch   1 |   200/  211 batches | accuracy    0.874\n",
            "-----------------------------------------------------------\n",
            "| End of epoch   1 | Time: 12.08s | Train Accuracy    0.887 | Train Loss    0.670 | Valid Accuracy    0.924 | Valid Loss    0.248 \n",
            "-----------------------------------------------------------\n",
            "| epoch   2 |    50/  211 batches | accuracy    0.892\n",
            "| epoch   2 |   100/  211 batches | accuracy    0.902\n",
            "| epoch   2 |   150/  211 batches | accuracy    0.907\n",
            "| epoch   2 |   200/  211 batches | accuracy    0.916\n",
            "-----------------------------------------------------------\n",
            "| End of epoch   2 | Time: 11.93s | Train Accuracy    0.913 | Train Loss    0.316 | Valid Accuracy    0.943 | Valid Loss    0.185 \n",
            "-----------------------------------------------------------\n",
            "| epoch   3 |    50/  211 batches | accuracy    0.923\n",
            "| epoch   3 |   100/  211 batches | accuracy    0.927\n",
            "| epoch   3 |   150/  211 batches | accuracy    0.927\n",
            "| epoch   3 |   200/  211 batches | accuracy    0.929\n",
            "-----------------------------------------------------------\n",
            "| End of epoch   3 | Time: 12.30s | Train Accuracy    0.922 | Train Loss    0.253 | Valid Accuracy    0.954 | Valid Loss    0.157 \n",
            "-----------------------------------------------------------\n",
            "| epoch   4 |    50/  211 batches | accuracy    0.932\n",
            "| epoch   4 |   100/  211 batches | accuracy    0.933\n",
            "| epoch   4 |   150/  211 batches | accuracy    0.939\n",
            "| epoch   4 |   200/  211 batches | accuracy    0.938\n",
            "-----------------------------------------------------------\n",
            "| End of epoch   4 | Time: 13.03s | Train Accuracy    0.934 | Train Loss    0.221 | Valid Accuracy    0.960 | Valid Loss    0.138 \n",
            "-----------------------------------------------------------\n",
            "| epoch   5 |    50/  211 batches | accuracy    0.939\n",
            "| epoch   5 |   100/  211 batches | accuracy    0.943\n",
            "| epoch   5 |   150/  211 batches | accuracy    0.942\n",
            "| epoch   5 |   200/  211 batches | accuracy    0.944\n",
            "-----------------------------------------------------------\n",
            "| End of epoch   5 | Time: 12.16s | Train Accuracy    0.943 | Train Loss    0.198 | Valid Accuracy    0.961 | Valid Loss    0.130 \n",
            "-----------------------------------------------------------\n",
            "| epoch   6 |    50/  211 batches | accuracy    0.942\n",
            "| epoch   6 |   100/  211 batches | accuracy    0.948\n",
            "| epoch   6 |   150/  211 batches | accuracy    0.946\n",
            "| epoch   6 |   200/  211 batches | accuracy    0.950\n",
            "-----------------------------------------------------------\n",
            "| End of epoch   6 | Time: 11.88s | Train Accuracy    0.941 | Train Loss    0.183 | Valid Accuracy    0.964 | Valid Loss    0.118 \n",
            "-----------------------------------------------------------\n",
            "| epoch   7 |    50/  211 batches | accuracy    0.948\n",
            "| epoch   7 |   100/  211 batches | accuracy    0.951\n",
            "| epoch   7 |   150/  211 batches | accuracy    0.952\n",
            "| epoch   7 |   200/  211 batches | accuracy    0.951\n",
            "-----------------------------------------------------------\n",
            "| End of epoch   7 | Time: 12.39s | Train Accuracy    0.950 | Train Loss    0.168 | Valid Accuracy    0.964 | Valid Loss    0.118 \n",
            "-----------------------------------------------------------\n",
            "| epoch   8 |    50/  211 batches | accuracy    0.952\n",
            "| epoch   8 |   100/  211 batches | accuracy    0.952\n",
            "| epoch   8 |   150/  211 batches | accuracy    0.954\n",
            "| epoch   8 |   200/  211 batches | accuracy    0.953\n",
            "-----------------------------------------------------------\n",
            "| End of epoch   8 | Time: 11.97s | Train Accuracy    0.955 | Train Loss    0.159 | Valid Accuracy    0.966 | Valid Loss    0.111 \n",
            "-----------------------------------------------------------\n",
            "| epoch   9 |    50/  211 batches | accuracy    0.957\n",
            "| epoch   9 |   100/  211 batches | accuracy    0.954\n",
            "| epoch   9 |   150/  211 batches | accuracy    0.955\n",
            "| epoch   9 |   200/  211 batches | accuracy    0.956\n",
            "-----------------------------------------------------------\n",
            "| End of epoch   9 | Time: 12.07s | Train Accuracy    0.959 | Train Loss    0.152 | Valid Accuracy    0.965 | Valid Loss    0.111 \n",
            "-----------------------------------------------------------\n",
            "| epoch  10 |    50/  211 batches | accuracy    0.960\n",
            "| epoch  10 |   100/  211 batches | accuracy    0.957\n",
            "| epoch  10 |   150/  211 batches | accuracy    0.958\n",
            "| epoch  10 |   200/  211 batches | accuracy    0.958\n",
            "-----------------------------------------------------------\n",
            "| End of epoch  10 | Time: 12.38s | Train Accuracy    0.957 | Train Loss    0.141 | Valid Accuracy    0.966 | Valid Loss    0.109 \n",
            "-----------------------------------------------------------\n",
            "| epoch  11 |    50/  211 batches | accuracy    0.958\n",
            "| epoch  11 |   100/  211 batches | accuracy    0.957\n",
            "| epoch  11 |   150/  211 batches | accuracy    0.955\n",
            "| epoch  11 |   200/  211 batches | accuracy    0.959\n",
            "-----------------------------------------------------------\n",
            "| End of epoch  11 | Time: 12.04s | Train Accuracy    0.955 | Train Loss    0.146 | Valid Accuracy    0.966 | Valid Loss    0.105 \n",
            "-----------------------------------------------------------\n",
            "| epoch  12 |    50/  211 batches | accuracy    0.963\n",
            "| epoch  12 |   100/  211 batches | accuracy    0.959\n",
            "| epoch  12 |   150/  211 batches | accuracy    0.960\n",
            "| epoch  12 |   200/  211 batches | accuracy    0.960\n",
            "-----------------------------------------------------------\n",
            "| End of epoch  12 | Time: 12.11s | Train Accuracy    0.958 | Train Loss    0.133 | Valid Accuracy    0.966 | Valid Loss    0.107 \n",
            "-----------------------------------------------------------\n",
            "| epoch  13 |    50/  211 batches | accuracy    0.958\n",
            "| epoch  13 |   100/  211 batches | accuracy    0.960\n",
            "| epoch  13 |   150/  211 batches | accuracy    0.963\n",
            "| epoch  13 |   200/  211 batches | accuracy    0.956\n",
            "-----------------------------------------------------------\n",
            "| End of epoch  13 | Time: 12.12s | Train Accuracy    0.962 | Train Loss    0.133 | Valid Accuracy    0.969 | Valid Loss    0.100 \n",
            "-----------------------------------------------------------\n",
            "| epoch  14 |    50/  211 batches | accuracy    0.962\n",
            "| epoch  14 |   100/  211 batches | accuracy    0.960\n",
            "| epoch  14 |   150/  211 batches | accuracy    0.960\n",
            "| epoch  14 |   200/  211 batches | accuracy    0.965\n",
            "-----------------------------------------------------------\n",
            "| End of epoch  14 | Time: 12.10s | Train Accuracy    0.967 | Train Loss    0.126 | Valid Accuracy    0.970 | Valid Loss    0.100 \n",
            "-----------------------------------------------------------\n",
            "| epoch  15 |    50/  211 batches | accuracy    0.962\n",
            "| epoch  15 |   100/  211 batches | accuracy    0.965\n",
            "| epoch  15 |   150/  211 batches | accuracy    0.960\n",
            "| epoch  15 |   200/  211 batches | accuracy    0.959\n",
            "-----------------------------------------------------------\n",
            "| End of epoch  15 | Time: 12.15s | Train Accuracy    0.967 | Train Loss    0.125 | Valid Accuracy    0.968 | Valid Loss    0.099 \n",
            "-----------------------------------------------------------\n",
            "| epoch  16 |    50/  211 batches | accuracy    0.963\n",
            "| epoch  16 |   100/  211 batches | accuracy    0.964\n",
            "| epoch  16 |   150/  211 batches | accuracy    0.963\n",
            "| epoch  16 |   200/  211 batches | accuracy    0.965\n",
            "-----------------------------------------------------------\n",
            "| End of epoch  16 | Time: 12.15s | Train Accuracy    0.965 | Train Loss    0.118 | Valid Accuracy    0.969 | Valid Loss    0.095 \n",
            "-----------------------------------------------------------\n",
            "| epoch  17 |    50/  211 batches | accuracy    0.966\n",
            "| epoch  17 |   100/  211 batches | accuracy    0.963\n",
            "| epoch  17 |   150/  211 batches | accuracy    0.965\n",
            "| epoch  17 |   200/  211 batches | accuracy    0.964\n",
            "-----------------------------------------------------------\n",
            "| End of epoch  17 | Time: 12.22s | Train Accuracy    0.961 | Train Loss    0.116 | Valid Accuracy    0.970 | Valid Loss    0.095 \n",
            "-----------------------------------------------------------\n",
            "| epoch  18 |    50/  211 batches | accuracy    0.966\n",
            "| epoch  18 |   100/  211 batches | accuracy    0.963\n",
            "| epoch  18 |   150/  211 batches | accuracy    0.966\n",
            "| epoch  18 |   200/  211 batches | accuracy    0.966\n",
            "-----------------------------------------------------------\n",
            "| End of epoch  18 | Time: 12.36s | Train Accuracy    0.965 | Train Loss    0.115 | Valid Accuracy    0.969 | Valid Loss    0.096 \n",
            "-----------------------------------------------------------\n",
            "| epoch  19 |    50/  211 batches | accuracy    0.964\n",
            "| epoch  19 |   100/  211 batches | accuracy    0.967\n",
            "| epoch  19 |   150/  211 batches | accuracy    0.964\n",
            "| epoch  19 |   200/  211 batches | accuracy    0.964\n",
            "-----------------------------------------------------------\n",
            "| End of epoch  19 | Time: 12.09s | Train Accuracy    0.970 | Train Loss    0.112 | Valid Accuracy    0.969 | Valid Loss    0.098 \n",
            "-----------------------------------------------------------\n",
            "| epoch  20 |    50/  211 batches | accuracy    0.968\n",
            "| epoch  20 |   100/  211 batches | accuracy    0.967\n",
            "| epoch  20 |   150/  211 batches | accuracy    0.966\n",
            "| epoch  20 |   200/  211 batches | accuracy    0.967\n",
            "-----------------------------------------------------------\n",
            "| End of epoch  20 | Time: 12.15s | Train Accuracy    0.968 | Train Loss    0.110 | Valid Accuracy    0.971 | Valid Loss    0.096 \n",
            "-----------------------------------------------------------\n"
          ]
        }
      ],
      "source": [
        "num_classes = len(train_data.dataset.classes)\n",
        "\n",
        "device = torch.device('cuda' if torch.cuda.is_available() else 'cpu')\n",
        "\n",
        "dropout_model.to(device)\n",
        "\n",
        "criterion = torch.nn.CrossEntropyLoss()\n",
        "optimizer = optim.Adam(dropout_model.parameters())\n",
        "\n",
        "num_epochs = 20\n",
        "save_model = './model'\n",
        "os.makedirs(save_model, exist_ok = True)\n",
        "model_name = 'dropout_model'\n",
        "\n",
        "dropout_model, dropout_metrics = train(\n",
        "    dropout_model, model_name, optimizer, criterion, train_dataloader, valid_dataloader, num_epochs, device\n",
        ")"
      ]
    },
    {
      "cell_type": "code",
      "execution_count": 94,
      "metadata": {
        "colab": {
          "base_uri": "https://localhost:8080/"
        },
        "id": "-V6_XClWOL0Q",
        "outputId": "8d95f875-b788-417f-f57b-8c43efebdac6"
      },
      "outputs": [
        {
          "data": {
            "text/plain": [
              "(0.9854833333333334, 0.047674556280624995)"
            ]
          },
          "execution_count": 94,
          "metadata": {},
          "output_type": "execute_result"
        }
      ],
      "source": [
        "test_acc, test_loss = evaluate_epoch(dropout_model, criterion, test_dataloader)\n",
        "test_acc, test_loss"
      ]
    },
    {
      "cell_type": "code",
      "execution_count": 95,
      "metadata": {
        "colab": {
          "base_uri": "https://localhost:8080/",
          "height": 564
        },
        "id": "fVk9Qy13OVIY",
        "outputId": "0c56e9ee-f692-4621-acb4-ca0547591018"
      },
      "outputs": [
        {
          "data": {
            "text/plain": [
              "<matplotlib.legend.Legend at 0x7a0720a83a10>"
            ]
          },
          "execution_count": 95,
          "metadata": {},
          "output_type": "execute_result"
        },
        {
          "data": {
            "image/png": "[encoded data removed]",
            "text/plain": [
              "<Figure size 1200x600 with 2 Axes>"
            ]
          },
          "metadata": {},
          "output_type": "display_data"
        }
      ],
      "source": [
        "epochs = list(range(num_epochs))\n",
        "fig, axs = plt.subplots(nrows = 1, ncols =2 , figsize = (12,6))\n",
        "axs[0].plot(epochs, base_metrics['train_loss'], label = \"w/o Dropout\")\n",
        "axs[0].plot(epochs, dropout_metrics['train_loss'], label = \"w Dropout\")\n",
        "axs[1].plot(epochs, base_metrics['valid_loss'], label = \"w/o Dropout\")\n",
        "axs[1].plot(epochs, dropout_metrics['valid_loss'], label = \"w Dropout\")\n",
        "axs[0].set_xlabel(\"Epochs\")\n",
        "axs[1].set_xlabel(\"Epochs\")\n",
        "axs[0].set_ylabel(\"Training Loss\")\n",
        "axs[1].set_ylabel(\"Evaluation Loss\")\n",
        "plt.legend()"
      ]
    },
    {
      "cell_type": "code",
      "execution_count": 96,
      "metadata": {
        "id": "tFHcOEFePNqf"
      },
      "outputs": [],
      "source": [
        "device = torch.device('cuda' if torch.cuda.is_available() else 'cpu')"
      ]
    },
    {
      "cell_type": "code",
      "execution_count": 97,
      "metadata": {
        "colab": {
          "base_uri": "https://localhost:8080/"
        },
        "id": "s6KhLixiPRkW",
        "outputId": "30c21999-cec5-45eb-f206-0ef0bd55555c"
      },
      "outputs": [
        {
          "name": "stdout",
          "output_type": "stream",
          "text": [
            "0.0\n",
            "| epoch   1 |    50/  211 batches | accuracy    0.658\n",
            "| epoch   1 |   100/  211 batches | accuracy    0.888\n",
            "| epoch   1 |   150/  211 batches | accuracy    0.912\n",
            "| epoch   1 |   200/  211 batches | accuracy    0.926\n",
            "-----------------------------------------------------------\n",
            "| End of epoch   1 | Time: 12.67s | Train Accuracy    0.934 | Train Loss    0.494 | Valid Accuracy    0.934 | Valid Loss    0.220 \n",
            "-----------------------------------------------------------\n",
            "| epoch   2 |    50/  211 batches | accuracy    0.936\n",
            "| epoch   2 |   100/  211 batches | accuracy    0.940\n",
            "| epoch   2 |   150/  211 batches | accuracy    0.945\n",
            "| epoch   2 |   200/  211 batches | accuracy    0.956\n",
            "-----------------------------------------------------------\n",
            "| End of epoch   2 | Time: 11.95s | Train Accuracy    0.957 | Train Loss    0.188 | Valid Accuracy    0.950 | Valid Loss    0.163 \n",
            "-----------------------------------------------------------\n",
            "| epoch   3 |    50/  211 batches | accuracy    0.953\n",
            "| epoch   3 |   100/  211 batches | accuracy    0.958\n",
            "| epoch   3 |   150/  211 batches | accuracy    0.959\n",
            "| epoch   3 |   200/  211 batches | accuracy    0.960\n",
            "-----------------------------------------------------------\n",
            "| End of epoch   3 | Time: 11.95s | Train Accuracy    0.960 | Train Loss    0.142 | Valid Accuracy    0.954 | Valid Loss    0.145 \n",
            "-----------------------------------------------------------\n",
            "| epoch   4 |    50/  211 batches | accuracy    0.965\n",
            "| epoch   4 |   100/  211 batches | accuracy    0.967\n",
            "| epoch   4 |   150/  211 batches | accuracy    0.963\n",
            "| epoch   4 |   200/  211 batches | accuracy    0.965\n",
            "-----------------------------------------------------------\n",
            "| End of epoch   4 | Time: 12.24s | Train Accuracy    0.969 | Train Loss    0.116 | Valid Accuracy    0.963 | Valid Loss    0.121 \n",
            "-----------------------------------------------------------\n",
            "| epoch   5 |    50/  211 batches | accuracy    0.969\n",
            "| epoch   5 |   100/  211 batches | accuracy    0.970\n",
            "| epoch   5 |   150/  211 batches | accuracy    0.973\n",
            "| epoch   5 |   200/  211 batches | accuracy    0.972\n",
            "-----------------------------------------------------------\n",
            "| End of epoch   5 | Time: 11.95s | Train Accuracy    0.976 | Train Loss    0.095 | Valid Accuracy    0.968 | Valid Loss    0.107 \n",
            "-----------------------------------------------------------\n",
            "| epoch   6 |    50/  211 batches | accuracy    0.977\n",
            "| epoch   6 |   100/  211 batches | accuracy    0.971\n",
            "| epoch   6 |   150/  211 batches | accuracy    0.973\n",
            "| epoch   6 |   200/  211 batches | accuracy    0.974\n",
            "-----------------------------------------------------------\n",
            "| End of epoch   6 | Time: 12.19s | Train Accuracy    0.974 | Train Loss    0.085 | Valid Accuracy    0.965 | Valid Loss    0.114 \n",
            "-----------------------------------------------------------\n",
            "| epoch   7 |    50/  211 batches | accuracy    0.978\n",
            "| epoch   7 |   100/  211 batches | accuracy    0.978\n",
            "| epoch   7 |   150/  211 batches | accuracy    0.978\n",
            "| epoch   7 |   200/  211 batches | accuracy    0.977\n",
            "-----------------------------------------------------------\n",
            "| End of epoch   7 | Time: 12.08s | Train Accuracy    0.971 | Train Loss    0.073 | Valid Accuracy    0.973 | Valid Loss    0.097 \n",
            "-----------------------------------------------------------\n",
            "| epoch   8 |    50/  211 batches | accuracy    0.982\n",
            "| epoch   8 |   100/  211 batches | accuracy    0.978\n",
            "| epoch   8 |   150/  211 batches | accuracy    0.979\n",
            "| epoch   8 |   200/  211 batches | accuracy    0.980\n",
            "-----------------------------------------------------------\n",
            "| End of epoch   8 | Time: 12.13s | Train Accuracy    0.978 | Train Loss    0.065 | Valid Accuracy    0.968 | Valid Loss    0.103 \n",
            "-----------------------------------------------------------\n",
            "| epoch   9 |    50/  211 batches | accuracy    0.983\n",
            "| epoch   9 |   100/  211 batches | accuracy    0.979\n",
            "| epoch   9 |   150/  211 batches | accuracy    0.979\n",
            "| epoch   9 |   200/  211 batches | accuracy    0.981\n",
            "-----------------------------------------------------------\n",
            "| End of epoch   9 | Time: 12.34s | Train Accuracy    0.983 | Train Loss    0.061 | Valid Accuracy    0.968 | Valid Loss    0.105 \n",
            "-----------------------------------------------------------\n",
            "| epoch  10 |    50/  211 batches | accuracy    0.986\n",
            "| epoch  10 |   100/  211 batches | accuracy    0.983\n",
            "| epoch  10 |   150/  211 batches | accuracy    0.984\n",
            "| epoch  10 |   200/  211 batches | accuracy    0.983\n",
            "-----------------------------------------------------------\n",
            "| End of epoch  10 | Time: 12.15s | Train Accuracy    0.978 | Train Loss    0.053 | Valid Accuracy    0.970 | Valid Loss    0.103 \n",
            "-----------------------------------------------------------\n",
            "| epoch  11 |    50/  211 batches | accuracy    0.988\n",
            "| epoch  11 |   100/  211 batches | accuracy    0.983\n",
            "| epoch  11 |   150/  211 batches | accuracy    0.984\n",
            "| epoch  11 |   200/  211 batches | accuracy    0.984\n",
            "-----------------------------------------------------------\n",
            "| End of epoch  11 | Time: 11.97s | Train Accuracy    0.985 | Train Loss    0.048 | Valid Accuracy    0.972 | Valid Loss    0.093 \n",
            "-----------------------------------------------------------\n",
            "| epoch  12 |    50/  211 batches | accuracy    0.988\n",
            "| epoch  12 |   100/  211 batches | accuracy    0.988\n",
            "| epoch  12 |   150/  211 batches | accuracy    0.985\n",
            "| epoch  12 |   200/  211 batches | accuracy    0.987\n",
            "-----------------------------------------------------------\n",
            "| End of epoch  12 | Time: 12.03s | Train Accuracy    0.987 | Train Loss    0.043 | Valid Accuracy    0.971 | Valid Loss    0.102 \n",
            "-----------------------------------------------------------\n",
            "| epoch  13 |    50/  211 batches | accuracy    0.989\n",
            "| epoch  13 |   100/  211 batches | accuracy    0.987\n",
            "| epoch  13 |   150/  211 batches | accuracy    0.988\n",
            "| epoch  13 |   200/  211 batches | accuracy    0.988\n",
            "-----------------------------------------------------------\n",
            "| End of epoch  13 | Time: 11.80s | Train Accuracy    0.985 | Train Loss    0.038 | Valid Accuracy    0.973 | Valid Loss    0.104 \n",
            "-----------------------------------------------------------\n",
            "| epoch  14 |    50/  211 batches | accuracy    0.990\n",
            "| epoch  14 |   100/  211 batches | accuracy    0.989\n",
            "| epoch  14 |   150/  211 batches | accuracy    0.988\n",
            "| epoch  14 |   200/  211 batches | accuracy    0.988\n",
            "-----------------------------------------------------------\n",
            "| End of epoch  14 | Time: 12.22s | Train Accuracy    0.990 | Train Loss    0.035 | Valid Accuracy    0.972 | Valid Loss    0.097 \n",
            "-----------------------------------------------------------\n",
            "| epoch  15 |    50/  211 batches | accuracy    0.991\n",
            "| epoch  15 |   100/  211 batches | accuracy    0.991\n",
            "| epoch  15 |   150/  211 batches | accuracy    0.990\n",
            "| epoch  15 |   200/  211 batches | accuracy    0.988\n",
            "-----------------------------------------------------------\n",
            "| End of epoch  15 | Time: 11.93s | Train Accuracy    0.989 | Train Loss    0.032 | Valid Accuracy    0.970 | Valid Loss    0.106 \n",
            "-----------------------------------------------------------\n",
            "| epoch  16 |    50/  211 batches | accuracy    0.989\n",
            "| epoch  16 |   100/  211 batches | accuracy    0.991\n",
            "| epoch  16 |   150/  211 batches | accuracy    0.992\n",
            "| epoch  16 |   200/  211 batches | accuracy    0.989\n",
            "-----------------------------------------------------------\n",
            "| End of epoch  16 | Time: 12.12s | Train Accuracy    0.987 | Train Loss    0.030 | Valid Accuracy    0.971 | Valid Loss    0.110 \n",
            "-----------------------------------------------------------\n",
            "| epoch  17 |    50/  211 batches | accuracy    0.992\n",
            "| epoch  17 |   100/  211 batches | accuracy    0.994\n",
            "| epoch  17 |   150/  211 batches | accuracy    0.991\n",
            "| epoch  17 |   200/  211 batches | accuracy    0.991\n",
            "-----------------------------------------------------------\n",
            "| End of epoch  17 | Time: 12.06s | Train Accuracy    0.995 | Train Loss    0.025 | Valid Accuracy    0.973 | Valid Loss    0.101 \n",
            "-----------------------------------------------------------\n",
            "| epoch  18 |    50/  211 batches | accuracy    0.994\n",
            "| epoch  18 |   100/  211 batches | accuracy    0.993\n",
            "| epoch  18 |   150/  211 batches | accuracy    0.991\n",
            "| epoch  18 |   200/  211 batches | accuracy    0.991\n",
            "-----------------------------------------------------------\n",
            "| End of epoch  18 | Time: 11.83s | Train Accuracy    0.995 | Train Loss    0.022 | Valid Accuracy    0.974 | Valid Loss    0.105 \n",
            "-----------------------------------------------------------\n",
            "| epoch  19 |    50/  211 batches | accuracy    0.995\n",
            "| epoch  19 |   100/  211 batches | accuracy    0.995\n",
            "| epoch  19 |   150/  211 batches | accuracy    0.993\n",
            "| epoch  19 |   200/  211 batches | accuracy    0.990\n",
            "-----------------------------------------------------------\n",
            "| End of epoch  19 | Time: 11.90s | Train Accuracy    0.991 | Train Loss    0.021 | Valid Accuracy    0.971 | Valid Loss    0.111 \n",
            "-----------------------------------------------------------\n",
            "| epoch  20 |    50/  211 batches | accuracy    0.995\n",
            "| epoch  20 |   100/  211 batches | accuracy    0.995\n",
            "| epoch  20 |   150/  211 batches | accuracy    0.993\n",
            "| epoch  20 |   200/  211 batches | accuracy    0.991\n",
            "-----------------------------------------------------------\n",
            "| End of epoch  20 | Time: 11.74s | Train Accuracy    0.991 | Train Loss    0.020 | Valid Accuracy    0.972 | Valid Loss    0.118 \n",
            "-----------------------------------------------------------\n",
            "0.1\n",
            "| epoch   1 |    50/  211 batches | accuracy    0.627\n",
            "| epoch   1 |   100/  211 batches | accuracy    0.852\n",
            "| epoch   1 |   150/  211 batches | accuracy    0.888\n",
            "| epoch   1 |   200/  211 batches | accuracy    0.905\n",
            "-----------------------------------------------------------\n",
            "| End of epoch   1 | Time: 11.95s | Train Accuracy    0.915 | Train Loss    0.592 | Valid Accuracy    0.934 | Valid Loss    0.214 \n",
            "-----------------------------------------------------------\n",
            "| epoch   2 |    50/  211 batches | accuracy    0.921\n",
            "| epoch   2 |   100/  211 batches | accuracy    0.925\n",
            "| epoch   2 |   150/  211 batches | accuracy    0.933\n",
            "| epoch   2 |   200/  211 batches | accuracy    0.937\n",
            "-----------------------------------------------------------\n",
            "| End of epoch   2 | Time: 11.97s | Train Accuracy    0.933 | Train Loss    0.238 | Valid Accuracy    0.953 | Valid Loss    0.157 \n",
            "-----------------------------------------------------------\n",
            "| epoch   3 |    50/  211 batches | accuracy    0.938\n",
            "| epoch   3 |   100/  211 batches | accuracy    0.947\n",
            "| epoch   3 |   150/  211 batches | accuracy    0.947\n",
            "| epoch   3 |   200/  211 batches | accuracy    0.949\n",
            "-----------------------------------------------------------\n",
            "| End of epoch   3 | Time: 12.38s | Train Accuracy    0.948 | Train Loss    0.181 | Valid Accuracy    0.957 | Valid Loss    0.138 \n",
            "-----------------------------------------------------------\n",
            "| epoch   4 |    50/  211 batches | accuracy    0.953\n",
            "| epoch   4 |   100/  211 batches | accuracy    0.952\n",
            "| epoch   4 |   150/  211 batches | accuracy    0.953\n",
            "| epoch   4 |   200/  211 batches | accuracy    0.958\n",
            "-----------------------------------------------------------\n",
            "| End of epoch   4 | Time: 12.79s | Train Accuracy    0.959 | Train Loss    0.152 | Valid Accuracy    0.961 | Valid Loss    0.123 \n",
            "-----------------------------------------------------------\n",
            "| epoch   5 |    50/  211 batches | accuracy    0.958\n",
            "| epoch   5 |   100/  211 batches | accuracy    0.958\n",
            "| epoch   5 |   150/  211 batches | accuracy    0.959\n",
            "| epoch   5 |   200/  211 batches | accuracy    0.961\n",
            "-----------------------------------------------------------\n",
            "| End of epoch   5 | Time: 12.19s | Train Accuracy    0.959 | Train Loss    0.134 | Valid Accuracy    0.965 | Valid Loss    0.111 \n",
            "-----------------------------------------------------------\n",
            "| epoch   6 |    50/  211 batches | accuracy    0.962\n",
            "| epoch   6 |   100/  211 batches | accuracy    0.963\n",
            "| epoch   6 |   150/  211 batches | accuracy    0.963\n",
            "| epoch   6 |   200/  211 batches | accuracy    0.963\n",
            "-----------------------------------------------------------\n",
            "| End of epoch   6 | Time: 11.93s | Train Accuracy    0.964 | Train Loss    0.122 | Valid Accuracy    0.968 | Valid Loss    0.102 \n",
            "-----------------------------------------------------------\n",
            "| epoch   7 |    50/  211 batches | accuracy    0.968\n",
            "| epoch   7 |   100/  211 batches | accuracy    0.966\n",
            "| epoch   7 |   150/  211 batches | accuracy    0.964\n",
            "| epoch   7 |   200/  211 batches | accuracy    0.967\n",
            "-----------------------------------------------------------\n",
            "| End of epoch   7 | Time: 12.00s | Train Accuracy    0.966 | Train Loss    0.111 | Valid Accuracy    0.969 | Valid Loss    0.103 \n",
            "-----------------------------------------------------------\n",
            "| epoch   8 |    50/  211 batches | accuracy    0.969\n",
            "| epoch   8 |   100/  211 batches | accuracy    0.972\n",
            "| epoch   8 |   150/  211 batches | accuracy    0.969\n",
            "| epoch   8 |   200/  211 batches | accuracy    0.970\n",
            "-----------------------------------------------------------\n",
            "| End of epoch   8 | Time: 11.99s | Train Accuracy    0.962 | Train Loss    0.100 | Valid Accuracy    0.971 | Valid Loss    0.091 \n",
            "-----------------------------------------------------------\n",
            "| epoch   9 |    50/  211 batches | accuracy    0.969\n",
            "| epoch   9 |   100/  211 batches | accuracy    0.970\n",
            "| epoch   9 |   150/  211 batches | accuracy    0.970\n",
            "| epoch   9 |   200/  211 batches | accuracy    0.974\n",
            "-----------------------------------------------------------\n",
            "| End of epoch   9 | Time: 11.88s | Train Accuracy    0.971 | Train Loss    0.095 | Valid Accuracy    0.970 | Valid Loss    0.096 \n",
            "-----------------------------------------------------------\n",
            "| epoch  10 |    50/  211 batches | accuracy    0.973\n",
            "| epoch  10 |   100/  211 batches | accuracy    0.971\n",
            "| epoch  10 |   150/  211 batches | accuracy    0.970\n",
            "| epoch  10 |   200/  211 batches | accuracy    0.969\n",
            "-----------------------------------------------------------\n",
            "| End of epoch  10 | Time: 12.03s | Train Accuracy    0.964 | Train Loss    0.093 | Valid Accuracy    0.971 | Valid Loss    0.094 \n",
            "-----------------------------------------------------------\n",
            "| epoch  11 |    50/  211 batches | accuracy    0.975\n",
            "| epoch  11 |   100/  211 batches | accuracy    0.974\n",
            "| epoch  11 |   150/  211 batches | accuracy    0.972\n",
            "| epoch  11 |   200/  211 batches | accuracy    0.971\n",
            "-----------------------------------------------------------\n",
            "| End of epoch  11 | Time: 12.16s | Train Accuracy    0.974 | Train Loss    0.087 | Valid Accuracy    0.973 | Valid Loss    0.093 \n",
            "-----------------------------------------------------------\n",
            "| epoch  12 |    50/  211 batches | accuracy    0.977\n",
            "| epoch  12 |   100/  211 batches | accuracy    0.974\n",
            "| epoch  12 |   150/  211 batches | accuracy    0.973\n",
            "| epoch  12 |   200/  211 batches | accuracy    0.976\n",
            "-----------------------------------------------------------\n",
            "| End of epoch  12 | Time: 11.95s | Train Accuracy    0.976 | Train Loss    0.079 | Valid Accuracy    0.971 | Valid Loss    0.092 \n",
            "-----------------------------------------------------------\n",
            "| epoch  13 |    50/  211 batches | accuracy    0.978\n",
            "| epoch  13 |   100/  211 batches | accuracy    0.976\n",
            "| epoch  13 |   150/  211 batches | accuracy    0.974\n",
            "| epoch  13 |   200/  211 batches | accuracy    0.973\n",
            "-----------------------------------------------------------\n",
            "| End of epoch  13 | Time: 12.05s | Train Accuracy    0.973 | Train Loss    0.077 | Valid Accuracy    0.975 | Valid Loss    0.088 \n",
            "-----------------------------------------------------------\n",
            "| epoch  14 |    50/  211 batches | accuracy    0.978\n",
            "| epoch  14 |   100/  211 batches | accuracy    0.976\n",
            "| epoch  14 |   150/  211 batches | accuracy    0.977\n",
            "| epoch  14 |   200/  211 batches | accuracy    0.977\n",
            "-----------------------------------------------------------\n",
            "| End of epoch  14 | Time: 11.94s | Train Accuracy    0.976 | Train Loss    0.075 | Valid Accuracy    0.974 | Valid Loss    0.093 \n",
            "-----------------------------------------------------------\n",
            "| epoch  15 |    50/  211 batches | accuracy    0.979\n",
            "| epoch  15 |   100/  211 batches | accuracy    0.979\n",
            "| epoch  15 |   150/  211 batches | accuracy    0.975\n",
            "| epoch  15 |   200/  211 batches | accuracy    0.978\n",
            "-----------------------------------------------------------\n",
            "| End of epoch  15 | Time: 12.15s | Train Accuracy    0.975 | Train Loss    0.071 | Valid Accuracy    0.972 | Valid Loss    0.090 \n",
            "-----------------------------------------------------------\n",
            "| epoch  16 |    50/  211 batches | accuracy    0.980\n",
            "| epoch  16 |   100/  211 batches | accuracy    0.978\n",
            "| epoch  16 |   150/  211 batches | accuracy    0.976\n",
            "| epoch  16 |   200/  211 batches | accuracy    0.978\n",
            "-----------------------------------------------------------\n",
            "| End of epoch  16 | Time: 12.05s | Train Accuracy    0.978 | Train Loss    0.068 | Valid Accuracy    0.976 | Valid Loss    0.087 \n",
            "-----------------------------------------------------------\n",
            "| epoch  17 |    50/  211 batches | accuracy    0.979\n",
            "| epoch  17 |   100/  211 batches | accuracy    0.979\n",
            "| epoch  17 |   150/  211 batches | accuracy    0.977\n",
            "| epoch  17 |   200/  211 batches | accuracy    0.979\n",
            "-----------------------------------------------------------\n",
            "| End of epoch  17 | Time: 12.13s | Train Accuracy    0.980 | Train Loss    0.067 | Valid Accuracy    0.975 | Valid Loss    0.087 \n",
            "-----------------------------------------------------------\n",
            "| epoch  18 |    50/  211 batches | accuracy    0.979\n",
            "| epoch  18 |   100/  211 batches | accuracy    0.978\n",
            "| epoch  18 |   150/  211 batches | accuracy    0.979\n",
            "| epoch  18 |   200/  211 batches | accuracy    0.980\n",
            "-----------------------------------------------------------\n",
            "| End of epoch  18 | Time: 12.06s | Train Accuracy    0.978 | Train Loss    0.066 | Valid Accuracy    0.975 | Valid Loss    0.085 \n",
            "-----------------------------------------------------------\n",
            "| epoch  19 |    50/  211 batches | accuracy    0.981\n",
            "| epoch  19 |   100/  211 batches | accuracy    0.980\n",
            "| epoch  19 |   150/  211 batches | accuracy    0.982\n",
            "| epoch  19 |   200/  211 batches | accuracy    0.978\n",
            "-----------------------------------------------------------\n",
            "| End of epoch  19 | Time: 12.13s | Train Accuracy    0.982 | Train Loss    0.060 | Valid Accuracy    0.973 | Valid Loss    0.093 \n",
            "-----------------------------------------------------------\n",
            "| epoch  20 |    50/  211 batches | accuracy    0.983\n",
            "| epoch  20 |   100/  211 batches | accuracy    0.979\n",
            "| epoch  20 |   150/  211 batches | accuracy    0.980\n",
            "| epoch  20 |   200/  211 batches | accuracy    0.979\n",
            "-----------------------------------------------------------\n",
            "| End of epoch  20 | Time: 12.26s | Train Accuracy    0.981 | Train Loss    0.060 | Valid Accuracy    0.976 | Valid Loss    0.088 \n",
            "-----------------------------------------------------------\n",
            "0.2\n",
            "| epoch   1 |    50/  211 batches | accuracy    0.574\n",
            "| epoch   1 |   100/  211 batches | accuracy    0.817\n",
            "| epoch   1 |   150/  211 batches | accuracy    0.863\n",
            "| epoch   1 |   200/  211 batches | accuracy    0.884\n",
            "-----------------------------------------------------------\n",
            "| End of epoch   1 | Time: 11.85s | Train Accuracy    0.885 | Train Loss    0.656 | Valid Accuracy    0.927 | Valid Loss    0.235 \n",
            "-----------------------------------------------------------\n",
            "| epoch   2 |    50/  211 batches | accuracy    0.897\n",
            "| epoch   2 |   100/  211 batches | accuracy    0.910\n",
            "| epoch   2 |   150/  211 batches | accuracy    0.911\n",
            "| epoch   2 |   200/  211 batches | accuracy    0.919\n",
            "-----------------------------------------------------------\n",
            "| End of epoch   2 | Time: 11.94s | Train Accuracy    0.917 | Train Loss    0.304 | Valid Accuracy    0.946 | Valid Loss    0.175 \n",
            "-----------------------------------------------------------\n",
            "| epoch   3 |    50/  211 batches | accuracy    0.928\n",
            "| epoch   3 |   100/  211 batches | accuracy    0.923\n",
            "| epoch   3 |   150/  211 batches | accuracy    0.926\n",
            "| epoch   3 |   200/  211 batches | accuracy    0.926\n",
            "-----------------------------------------------------------\n",
            "| End of epoch   3 | Time: 11.81s | Train Accuracy    0.929 | Train Loss    0.249 | Valid Accuracy    0.952 | Valid Loss    0.149 \n",
            "-----------------------------------------------------------\n",
            "| epoch   4 |    50/  211 batches | accuracy    0.935\n",
            "| epoch   4 |   100/  211 batches | accuracy    0.936\n",
            "| epoch   4 |   150/  211 batches | accuracy    0.935\n",
            "| epoch   4 |   200/  211 batches | accuracy    0.936\n",
            "-----------------------------------------------------------\n",
            "| End of epoch   4 | Time: 11.93s | Train Accuracy    0.940 | Train Loss    0.217 | Valid Accuracy    0.958 | Valid Loss    0.136 \n",
            "-----------------------------------------------------------\n",
            "| epoch   5 |    50/  211 batches | accuracy    0.943\n",
            "| epoch   5 |   100/  211 batches | accuracy    0.941\n",
            "| epoch   5 |   150/  211 batches | accuracy    0.939\n",
            "| epoch   5 |   200/  211 batches | accuracy    0.944\n",
            "-----------------------------------------------------------\n",
            "| End of epoch   5 | Time: 11.73s | Train Accuracy    0.939 | Train Loss    0.196 | Valid Accuracy    0.958 | Valid Loss    0.128 \n",
            "-----------------------------------------------------------\n",
            "| epoch   6 |    50/  211 batches | accuracy    0.944\n",
            "| epoch   6 |   100/  211 batches | accuracy    0.947\n",
            "| epoch   6 |   150/  211 batches | accuracy    0.950\n",
            "| epoch   6 |   200/  211 batches | accuracy    0.945\n",
            "-----------------------------------------------------------\n",
            "| End of epoch   6 | Time: 12.00s | Train Accuracy    0.950 | Train Loss    0.180 | Valid Accuracy    0.964 | Valid Loss    0.113 \n",
            "-----------------------------------------------------------\n",
            "| epoch   7 |    50/  211 batches | accuracy    0.950\n",
            "| epoch   7 |   100/  211 batches | accuracy    0.947\n",
            "| epoch   7 |   150/  211 batches | accuracy    0.950\n",
            "| epoch   7 |   200/  211 batches | accuracy    0.945\n",
            "-----------------------------------------------------------\n",
            "| End of epoch   7 | Time: 12.05s | Train Accuracy    0.950 | Train Loss    0.170 | Valid Accuracy    0.964 | Valid Loss    0.112 \n",
            "-----------------------------------------------------------\n",
            "| epoch   8 |    50/  211 batches | accuracy    0.951\n",
            "| epoch   8 |   100/  211 batches | accuracy    0.955\n",
            "| epoch   8 |   150/  211 batches | accuracy    0.952\n",
            "| epoch   8 |   200/  211 batches | accuracy    0.955\n",
            "-----------------------------------------------------------\n",
            "| End of epoch   8 | Time: 11.99s | Train Accuracy    0.953 | Train Loss    0.159 | Valid Accuracy    0.966 | Valid Loss    0.106 \n",
            "-----------------------------------------------------------\n",
            "| epoch   9 |    50/  211 batches | accuracy    0.956\n",
            "| epoch   9 |   100/  211 batches | accuracy    0.958\n",
            "| epoch   9 |   150/  211 batches | accuracy    0.955\n",
            "| epoch   9 |   200/  211 batches | accuracy    0.951\n",
            "-----------------------------------------------------------\n",
            "| End of epoch   9 | Time: 12.03s | Train Accuracy    0.956 | Train Loss    0.151 | Valid Accuracy    0.967 | Valid Loss    0.102 \n",
            "-----------------------------------------------------------\n",
            "| epoch  10 |    50/  211 batches | accuracy    0.958\n",
            "| epoch  10 |   100/  211 batches | accuracy    0.958\n",
            "| epoch  10 |   150/  211 batches | accuracy    0.956\n",
            "| epoch  10 |   200/  211 batches | accuracy    0.956\n",
            "-----------------------------------------------------------\n",
            "| End of epoch  10 | Time: 11.82s | Train Accuracy    0.955 | Train Loss    0.147 | Valid Accuracy    0.966 | Valid Loss    0.104 \n",
            "-----------------------------------------------------------\n",
            "| epoch  11 |    50/  211 batches | accuracy    0.959\n",
            "| epoch  11 |   100/  211 batches | accuracy    0.958\n",
            "| epoch  11 |   150/  211 batches | accuracy    0.956\n",
            "| epoch  11 |   200/  211 batches | accuracy    0.960\n",
            "-----------------------------------------------------------\n",
            "| End of epoch  11 | Time: 11.96s | Train Accuracy    0.951 | Train Loss    0.141 | Valid Accuracy    0.968 | Valid Loss    0.103 \n",
            "-----------------------------------------------------------\n",
            "| epoch  12 |    50/  211 batches | accuracy    0.961\n",
            "| epoch  12 |   100/  211 batches | accuracy    0.961\n",
            "| epoch  12 |   150/  211 batches | accuracy    0.958\n",
            "| epoch  12 |   200/  211 batches | accuracy    0.955\n",
            "-----------------------------------------------------------\n",
            "| End of epoch  12 | Time: 11.97s | Train Accuracy    0.958 | Train Loss    0.139 | Valid Accuracy    0.968 | Valid Loss    0.099 \n",
            "-----------------------------------------------------------\n",
            "| epoch  13 |    50/  211 batches | accuracy    0.961\n",
            "| epoch  13 |   100/  211 batches | accuracy    0.960\n",
            "| epoch  13 |   150/  211 batches | accuracy    0.959\n",
            "| epoch  13 |   200/  211 batches | accuracy    0.963\n",
            "-----------------------------------------------------------\n",
            "| End of epoch  13 | Time: 11.81s | Train Accuracy    0.954 | Train Loss    0.131 | Valid Accuracy    0.969 | Valid Loss    0.094 \n",
            "-----------------------------------------------------------\n",
            "| epoch  14 |    50/  211 batches | accuracy    0.963\n",
            "| epoch  14 |   100/  211 batches | accuracy    0.962\n",
            "| epoch  14 |   150/  211 batches | accuracy    0.957\n",
            "| epoch  14 |   200/  211 batches | accuracy    0.963\n",
            "-----------------------------------------------------------\n",
            "| End of epoch  14 | Time: 12.09s | Train Accuracy    0.963 | Train Loss    0.130 | Valid Accuracy    0.968 | Valid Loss    0.092 \n",
            "-----------------------------------------------------------\n",
            "| epoch  15 |    50/  211 batches | accuracy    0.962\n",
            "| epoch  15 |   100/  211 batches | accuracy    0.962\n",
            "| epoch  15 |   150/  211 batches | accuracy    0.963\n",
            "| epoch  15 |   200/  211 batches | accuracy    0.964\n",
            "-----------------------------------------------------------\n",
            "| End of epoch  15 | Time: 11.97s | Train Accuracy    0.961 | Train Loss    0.125 | Valid Accuracy    0.969 | Valid Loss    0.094 \n",
            "-----------------------------------------------------------\n",
            "| epoch  16 |    50/  211 batches | accuracy    0.965\n",
            "| epoch  16 |   100/  211 batches | accuracy    0.966\n",
            "| epoch  16 |   150/  211 batches | accuracy    0.964\n",
            "| epoch  16 |   200/  211 batches | accuracy    0.963\n",
            "-----------------------------------------------------------\n",
            "| End of epoch  16 | Time: 11.96s | Train Accuracy    0.965 | Train Loss    0.118 | Valid Accuracy    0.972 | Valid Loss    0.092 \n",
            "-----------------------------------------------------------\n",
            "| epoch  17 |    50/  211 batches | accuracy    0.962\n",
            "| epoch  17 |   100/  211 batches | accuracy    0.967\n",
            "| epoch  17 |   150/  211 batches | accuracy    0.967\n",
            "| epoch  17 |   200/  211 batches | accuracy    0.962\n",
            "-----------------------------------------------------------\n",
            "| End of epoch  17 | Time: 11.98s | Train Accuracy    0.958 | Train Loss    0.116 | Valid Accuracy    0.972 | Valid Loss    0.089 \n",
            "-----------------------------------------------------------\n",
            "| epoch  18 |    50/  211 batches | accuracy    0.964\n",
            "| epoch  18 |   100/  211 batches | accuracy    0.967\n",
            "| epoch  18 |   150/  211 batches | accuracy    0.964\n",
            "| epoch  18 |   200/  211 batches | accuracy    0.966\n",
            "-----------------------------------------------------------\n",
            "| End of epoch  18 | Time: 11.85s | Train Accuracy    0.959 | Train Loss    0.114 | Valid Accuracy    0.970 | Valid Loss    0.089 \n",
            "-----------------------------------------------------------\n",
            "| epoch  19 |    50/  211 batches | accuracy    0.965\n",
            "| epoch  19 |   100/  211 batches | accuracy    0.965\n",
            "| epoch  19 |   150/  211 batches | accuracy    0.967\n",
            "| epoch  19 |   200/  211 batches | accuracy    0.965\n",
            "-----------------------------------------------------------\n",
            "| End of epoch  19 | Time: 11.97s | Train Accuracy    0.956 | Train Loss    0.113 | Valid Accuracy    0.971 | Valid Loss    0.086 \n",
            "-----------------------------------------------------------\n",
            "| epoch  20 |    50/  211 batches | accuracy    0.968\n",
            "| epoch  20 |   100/  211 batches | accuracy    0.965\n",
            "| epoch  20 |   150/  211 batches | accuracy    0.967\n",
            "| epoch  20 |   200/  211 batches | accuracy    0.968\n",
            "-----------------------------------------------------------\n",
            "| End of epoch  20 | Time: 12.00s | Train Accuracy    0.968 | Train Loss    0.109 | Valid Accuracy    0.970 | Valid Loss    0.092 \n",
            "-----------------------------------------------------------\n",
            "0.3\n",
            "| epoch   1 |    50/  211 batches | accuracy    0.563\n",
            "| epoch   1 |   100/  211 batches | accuracy    0.790\n",
            "| epoch   1 |   150/  211 batches | accuracy    0.836\n",
            "| epoch   1 |   200/  211 batches | accuracy    0.872\n",
            "-----------------------------------------------------------\n",
            "| End of epoch   1 | Time: 11.91s | Train Accuracy    0.879 | Train Loss    0.734 | Valid Accuracy    0.928 | Valid Loss    0.240 \n",
            "-----------------------------------------------------------\n",
            "| epoch   2 |    50/  211 batches | accuracy    0.883\n",
            "| epoch   2 |   100/  211 batches | accuracy    0.892\n",
            "| epoch   2 |   150/  211 batches | accuracy    0.898\n",
            "| epoch   2 |   200/  211 batches | accuracy    0.902\n",
            "-----------------------------------------------------------\n",
            "| End of epoch   2 | Time: 12.09s | Train Accuracy    0.907 | Train Loss    0.364 | Valid Accuracy    0.942 | Valid Loss    0.190 \n",
            "-----------------------------------------------------------\n",
            "| epoch   3 |    50/  211 batches | accuracy    0.909\n",
            "| epoch   3 |   100/  211 batches | accuracy    0.913\n",
            "| epoch   3 |   150/  211 batches | accuracy    0.913\n",
            "| epoch   3 |   200/  211 batches | accuracy    0.919\n",
            "-----------------------------------------------------------\n",
            "| End of epoch   3 | Time: 12.10s | Train Accuracy    0.913 | Train Loss    0.299 | Valid Accuracy    0.950 | Valid Loss    0.167 \n",
            "-----------------------------------------------------------\n",
            "| epoch   4 |    50/  211 batches | accuracy    0.918\n",
            "| epoch   4 |   100/  211 batches | accuracy    0.924\n",
            "| epoch   4 |   150/  211 batches | accuracy    0.924\n",
            "| epoch   4 |   200/  211 batches | accuracy    0.924\n",
            "-----------------------------------------------------------\n",
            "| End of epoch   4 | Time: 11.75s | Train Accuracy    0.926 | Train Loss    0.272 | Valid Accuracy    0.953 | Valid Loss    0.156 \n",
            "-----------------------------------------------------------\n",
            "| epoch   5 |    50/  211 batches | accuracy    0.929\n",
            "| epoch   5 |   100/  211 batches | accuracy    0.929\n",
            "| epoch   5 |   150/  211 batches | accuracy    0.932\n",
            "| epoch   5 |   200/  211 batches | accuracy    0.929\n",
            "-----------------------------------------------------------\n",
            "| End of epoch   5 | Time: 12.02s | Train Accuracy    0.924 | Train Loss    0.246 | Valid Accuracy    0.956 | Valid Loss    0.144 \n",
            "-----------------------------------------------------------\n",
            "| epoch   6 |    50/  211 batches | accuracy    0.934\n",
            "| epoch   6 |   100/  211 batches | accuracy    0.932\n",
            "| epoch   6 |   150/  211 batches | accuracy    0.933\n",
            "| epoch   6 |   200/  211 batches | accuracy    0.939\n",
            "-----------------------------------------------------------\n",
            "| End of epoch   6 | Time: 12.33s | Train Accuracy    0.923 | Train Loss    0.231 | Valid Accuracy    0.959 | Valid Loss    0.133 \n",
            "-----------------------------------------------------------\n",
            "| epoch   7 |    50/  211 batches | accuracy    0.940\n",
            "| epoch   7 |   100/  211 batches | accuracy    0.939\n",
            "| epoch   7 |   150/  211 batches | accuracy    0.935\n",
            "| epoch   7 |   200/  211 batches | accuracy    0.937\n",
            "-----------------------------------------------------------\n",
            "| End of epoch   7 | Time: 12.15s | Train Accuracy    0.934 | Train Loss    0.220 | Valid Accuracy    0.962 | Valid Loss    0.130 \n",
            "-----------------------------------------------------------\n",
            "| epoch   8 |    50/  211 batches | accuracy    0.943\n",
            "| epoch   8 |   100/  211 batches | accuracy    0.941\n",
            "| epoch   8 |   150/  211 batches | accuracy    0.939\n",
            "| epoch   8 |   200/  211 batches | accuracy    0.940\n",
            "-----------------------------------------------------------\n",
            "| End of epoch   8 | Time: 12.06s | Train Accuracy    0.929 | Train Loss    0.205 | Valid Accuracy    0.963 | Valid Loss    0.123 \n",
            "-----------------------------------------------------------\n",
            "| epoch   9 |    50/  211 batches | accuracy    0.941\n",
            "| epoch   9 |   100/  211 batches | accuracy    0.943\n",
            "| epoch   9 |   150/  211 batches | accuracy    0.943\n",
            "| epoch   9 |   200/  211 batches | accuracy    0.946\n",
            "-----------------------------------------------------------\n",
            "| End of epoch   9 | Time: 11.98s | Train Accuracy    0.944 | Train Loss    0.200 | Valid Accuracy    0.962 | Valid Loss    0.120 \n",
            "-----------------------------------------------------------\n",
            "| epoch  10 |    50/  211 batches | accuracy    0.946\n",
            "| epoch  10 |   100/  211 batches | accuracy    0.943\n",
            "| epoch  10 |   150/  211 batches | accuracy    0.944\n",
            "| epoch  10 |   200/  211 batches | accuracy    0.947\n",
            "-----------------------------------------------------------\n",
            "| End of epoch  10 | Time: 12.16s | Train Accuracy    0.947 | Train Loss    0.191 | Valid Accuracy    0.965 | Valid Loss    0.117 \n",
            "-----------------------------------------------------------\n",
            "| epoch  11 |    50/  211 batches | accuracy    0.945\n",
            "| epoch  11 |   100/  211 batches | accuracy    0.948\n",
            "| epoch  11 |   150/  211 batches | accuracy    0.946\n",
            "| epoch  11 |   200/  211 batches | accuracy    0.948\n",
            "-----------------------------------------------------------\n",
            "| End of epoch  11 | Time: 12.18s | Train Accuracy    0.947 | Train Loss    0.187 | Valid Accuracy    0.964 | Valid Loss    0.117 \n",
            "-----------------------------------------------------------\n",
            "| epoch  12 |    50/  211 batches | accuracy    0.949\n",
            "| epoch  12 |   100/  211 batches | accuracy    0.950\n",
            "| epoch  12 |   150/  211 batches | accuracy    0.946\n",
            "| epoch  12 |   200/  211 batches | accuracy    0.949\n",
            "-----------------------------------------------------------\n",
            "| End of epoch  12 | Time: 12.08s | Train Accuracy    0.946 | Train Loss    0.177 | Valid Accuracy    0.965 | Valid Loss    0.111 \n",
            "-----------------------------------------------------------\n",
            "| epoch  13 |    50/  211 batches | accuracy    0.952\n",
            "| epoch  13 |   100/  211 batches | accuracy    0.947\n",
            "| epoch  13 |   150/  211 batches | accuracy    0.950\n",
            "| epoch  13 |   200/  211 batches | accuracy    0.946\n",
            "-----------------------------------------------------------\n",
            "| End of epoch  13 | Time: 11.99s | Train Accuracy    0.951 | Train Loss    0.175 | Valid Accuracy    0.967 | Valid Loss    0.114 \n",
            "-----------------------------------------------------------\n",
            "| epoch  14 |    50/  211 batches | accuracy    0.952\n",
            "| epoch  14 |   100/  211 batches | accuracy    0.953\n",
            "| epoch  14 |   150/  211 batches | accuracy    0.949\n",
            "| epoch  14 |   200/  211 batches | accuracy    0.949\n",
            "-----------------------------------------------------------\n",
            "| End of epoch  14 | Time: 11.84s | Train Accuracy    0.948 | Train Loss    0.172 | Valid Accuracy    0.965 | Valid Loss    0.112 \n",
            "-----------------------------------------------------------\n",
            "| epoch  15 |    50/  211 batches | accuracy    0.953\n",
            "| epoch  15 |   100/  211 batches | accuracy    0.953\n",
            "| epoch  15 |   150/  211 batches | accuracy    0.950\n",
            "| epoch  15 |   200/  211 batches | accuracy    0.952\n",
            "-----------------------------------------------------------\n",
            "| End of epoch  15 | Time: 11.98s | Train Accuracy    0.947 | Train Loss    0.166 | Valid Accuracy    0.964 | Valid Loss    0.115 \n",
            "-----------------------------------------------------------\n",
            "| epoch  16 |    50/  211 batches | accuracy    0.951\n",
            "| epoch  16 |   100/  211 batches | accuracy    0.952\n",
            "| epoch  16 |   150/  211 batches | accuracy    0.952\n",
            "| epoch  16 |   200/  211 batches | accuracy    0.951\n",
            "-----------------------------------------------------------\n",
            "| End of epoch  16 | Time: 11.94s | Train Accuracy    0.951 | Train Loss    0.166 | Valid Accuracy    0.964 | Valid Loss    0.114 \n",
            "-----------------------------------------------------------\n",
            "| epoch  17 |    50/  211 batches | accuracy    0.951\n",
            "| epoch  17 |   100/  211 batches | accuracy    0.953\n",
            "| epoch  17 |   150/  211 batches | accuracy    0.954\n",
            "| epoch  17 |   200/  211 batches | accuracy    0.951\n",
            "-----------------------------------------------------------\n",
            "| End of epoch  17 | Time: 11.90s | Train Accuracy    0.958 | Train Loss    0.164 | Valid Accuracy    0.966 | Valid Loss    0.114 \n",
            "-----------------------------------------------------------\n",
            "| epoch  18 |    50/  211 batches | accuracy    0.955\n",
            "| epoch  18 |   100/  211 batches | accuracy    0.952\n",
            "| epoch  18 |   150/  211 batches | accuracy    0.951\n",
            "| epoch  18 |   200/  211 batches | accuracy    0.957\n",
            "-----------------------------------------------------------\n",
            "| End of epoch  18 | Time: 12.11s | Train Accuracy    0.959 | Train Loss    0.159 | Valid Accuracy    0.965 | Valid Loss    0.112 \n",
            "-----------------------------------------------------------\n",
            "| epoch  19 |    50/  211 batches | accuracy    0.953\n",
            "| epoch  19 |   100/  211 batches | accuracy    0.954\n",
            "| epoch  19 |   150/  211 batches | accuracy    0.954\n",
            "| epoch  19 |   200/  211 batches | accuracy    0.955\n",
            "-----------------------------------------------------------\n",
            "| End of epoch  19 | Time: 12.12s | Train Accuracy    0.958 | Train Loss    0.155 | Valid Accuracy    0.966 | Valid Loss    0.112 \n",
            "-----------------------------------------------------------\n",
            "| epoch  20 |    50/  211 batches | accuracy    0.954\n",
            "| epoch  20 |   100/  211 batches | accuracy    0.958\n",
            "| epoch  20 |   150/  211 batches | accuracy    0.957\n",
            "| epoch  20 |   200/  211 batches | accuracy    0.950\n",
            "-----------------------------------------------------------\n",
            "| End of epoch  20 | Time: 12.00s | Train Accuracy    0.958 | Train Loss    0.155 | Valid Accuracy    0.966 | Valid Loss    0.114 \n",
            "-----------------------------------------------------------\n",
            "0.4\n",
            "| epoch   1 |    50/  211 batches | accuracy    0.464\n",
            "| epoch   1 |   100/  211 batches | accuracy    0.734\n",
            "| epoch   1 |   150/  211 batches | accuracy    0.799\n",
            "| epoch   1 |   200/  211 batches | accuracy    0.830\n",
            "-----------------------------------------------------------\n",
            "| End of epoch   1 | Time: 12.00s | Train Accuracy    0.853 | Train Loss    0.900 | Valid Accuracy    0.919 | Valid Loss    0.279 \n",
            "-----------------------------------------------------------\n",
            "| epoch   2 |    50/  211 batches | accuracy    0.847\n",
            "| epoch   2 |   100/  211 batches | accuracy    0.849\n",
            "| epoch   2 |   150/  211 batches | accuracy    0.868\n",
            "| epoch   2 |   200/  211 batches | accuracy    0.873\n",
            "-----------------------------------------------------------\n",
            "| End of epoch   2 | Time: 11.96s | Train Accuracy    0.879 | Train Loss    0.483 | Valid Accuracy    0.937 | Valid Loss    0.227 \n",
            "-----------------------------------------------------------\n",
            "| epoch   3 |    50/  211 batches | accuracy    0.881\n",
            "| epoch   3 |   100/  211 batches | accuracy    0.878\n",
            "| epoch   3 |   150/  211 batches | accuracy    0.886\n",
            "| epoch   3 |   200/  211 batches | accuracy    0.884\n",
            "-----------------------------------------------------------\n",
            "| End of epoch   3 | Time: 11.96s | Train Accuracy    0.885 | Train Loss    0.406 | Valid Accuracy    0.939 | Valid Loss    0.204 \n",
            "-----------------------------------------------------------\n",
            "| epoch   4 |    50/  211 batches | accuracy    0.889\n",
            "| epoch   4 |   100/  211 batches | accuracy    0.892\n",
            "| epoch   4 |   150/  211 batches | accuracy    0.897\n",
            "| epoch   4 |   200/  211 batches | accuracy    0.896\n",
            "-----------------------------------------------------------\n",
            "| End of epoch   4 | Time: 12.10s | Train Accuracy    0.895 | Train Loss    0.369 | Valid Accuracy    0.945 | Valid Loss    0.185 \n",
            "-----------------------------------------------------------\n",
            "| epoch   5 |    50/  211 batches | accuracy    0.900\n",
            "| epoch   5 |   100/  211 batches | accuracy    0.903\n",
            "| epoch   5 |   150/  211 batches | accuracy    0.903\n",
            "| epoch   5 |   200/  211 batches | accuracy    0.903\n",
            "-----------------------------------------------------------\n",
            "| End of epoch   5 | Time: 12.05s | Train Accuracy    0.895 | Train Loss    0.349 | Valid Accuracy    0.952 | Valid Loss    0.168 \n",
            "-----------------------------------------------------------\n",
            "| epoch   6 |    50/  211 batches | accuracy    0.908\n",
            "| epoch   6 |   100/  211 batches | accuracy    0.908\n",
            "| epoch   6 |   150/  211 batches | accuracy    0.904\n",
            "| epoch   6 |   200/  211 batches | accuracy    0.908\n",
            "-----------------------------------------------------------\n",
            "| End of epoch   6 | Time: 11.97s | Train Accuracy    0.908 | Train Loss    0.328 | Valid Accuracy    0.956 | Valid Loss    0.161 \n",
            "-----------------------------------------------------------\n",
            "| epoch   7 |    50/  211 batches | accuracy    0.913\n",
            "| epoch   7 |   100/  211 batches | accuracy    0.916\n",
            "| epoch   7 |   150/  211 batches | accuracy    0.907\n",
            "| epoch   7 |   200/  211 batches | accuracy    0.910\n",
            "-----------------------------------------------------------\n",
            "| End of epoch   7 | Time: 12.04s | Train Accuracy    0.908 | Train Loss    0.314 | Valid Accuracy    0.956 | Valid Loss    0.153 \n",
            "-----------------------------------------------------------\n",
            "| epoch   8 |    50/  211 batches | accuracy    0.912\n",
            "| epoch   8 |   100/  211 batches | accuracy    0.914\n",
            "| epoch   8 |   150/  211 batches | accuracy    0.916\n",
            "| epoch   8 |   200/  211 batches | accuracy    0.917\n",
            "-----------------------------------------------------------\n",
            "| End of epoch   8 | Time: 11.89s | Train Accuracy    0.913 | Train Loss    0.301 | Valid Accuracy    0.956 | Valid Loss    0.150 \n",
            "-----------------------------------------------------------\n",
            "| epoch   9 |    50/  211 batches | accuracy    0.917\n",
            "| epoch   9 |   100/  211 batches | accuracy    0.918\n",
            "| epoch   9 |   150/  211 batches | accuracy    0.920\n",
            "| epoch   9 |   200/  211 batches | accuracy    0.922\n",
            "-----------------------------------------------------------\n",
            "| End of epoch   9 | Time: 11.99s | Train Accuracy    0.919 | Train Loss    0.288 | Valid Accuracy    0.955 | Valid Loss    0.150 \n",
            "-----------------------------------------------------------\n",
            "| epoch  10 |    50/  211 batches | accuracy    0.917\n",
            "| epoch  10 |   100/  211 batches | accuracy    0.919\n",
            "| epoch  10 |   150/  211 batches | accuracy    0.923\n",
            "| epoch  10 |   200/  211 batches | accuracy    0.923\n",
            "-----------------------------------------------------------\n",
            "| End of epoch  10 | Time: 11.91s | Train Accuracy    0.927 | Train Loss    0.280 | Valid Accuracy    0.958 | Valid Loss    0.142 \n",
            "-----------------------------------------------------------\n",
            "| epoch  11 |    50/  211 batches | accuracy    0.922\n",
            "| epoch  11 |   100/  211 batches | accuracy    0.924\n",
            "| epoch  11 |   150/  211 batches | accuracy    0.924\n",
            "| epoch  11 |   200/  211 batches | accuracy    0.921\n",
            "-----------------------------------------------------------\n",
            "| End of epoch  11 | Time: 12.01s | Train Accuracy    0.926 | Train Loss    0.274 | Valid Accuracy    0.956 | Valid Loss    0.144 \n",
            "-----------------------------------------------------------\n",
            "| epoch  12 |    50/  211 batches | accuracy    0.926\n",
            "| epoch  12 |   100/  211 batches | accuracy    0.927\n",
            "| epoch  12 |   150/  211 batches | accuracy    0.925\n",
            "| epoch  12 |   200/  211 batches | accuracy    0.927\n",
            "-----------------------------------------------------------\n",
            "| End of epoch  12 | Time: 11.97s | Train Accuracy    0.927 | Train Loss    0.263 | Valid Accuracy    0.958 | Valid Loss    0.142 \n",
            "-----------------------------------------------------------\n",
            "| epoch  13 |    50/  211 batches | accuracy    0.928\n",
            "| epoch  13 |   100/  211 batches | accuracy    0.930\n",
            "| epoch  13 |   150/  211 batches | accuracy    0.932\n",
            "| epoch  13 |   200/  211 batches | accuracy    0.927\n",
            "-----------------------------------------------------------\n",
            "| End of epoch  13 | Time: 11.87s | Train Accuracy    0.917 | Train Loss    0.254 | Valid Accuracy    0.959 | Valid Loss    0.137 \n",
            "-----------------------------------------------------------\n",
            "| epoch  14 |    50/  211 batches | accuracy    0.931\n",
            "| epoch  14 |   100/  211 batches | accuracy    0.929\n",
            "| epoch  14 |   150/  211 batches | accuracy    0.930\n",
            "| epoch  14 |   200/  211 batches | accuracy    0.928\n",
            "-----------------------------------------------------------\n",
            "| End of epoch  14 | Time: 11.87s | Train Accuracy    0.933 | Train Loss    0.251 | Valid Accuracy    0.959 | Valid Loss    0.136 \n",
            "-----------------------------------------------------------\n",
            "| epoch  15 |    50/  211 batches | accuracy    0.934\n",
            "| epoch  15 |   100/  211 batches | accuracy    0.930\n",
            "| epoch  15 |   150/  211 batches | accuracy    0.931\n",
            "| epoch  15 |   200/  211 batches | accuracy    0.935\n",
            "-----------------------------------------------------------\n",
            "| End of epoch  15 | Time: 12.06s | Train Accuracy    0.918 | Train Loss    0.245 | Valid Accuracy    0.961 | Valid Loss    0.132 \n",
            "-----------------------------------------------------------\n",
            "| epoch  16 |    50/  211 batches | accuracy    0.937\n",
            "| epoch  16 |   100/  211 batches | accuracy    0.928\n",
            "| epoch  16 |   150/  211 batches | accuracy    0.932\n",
            "| epoch  16 |   200/  211 batches | accuracy    0.930\n",
            "-----------------------------------------------------------\n",
            "| End of epoch  16 | Time: 11.96s | Train Accuracy    0.934 | Train Loss    0.242 | Valid Accuracy    0.962 | Valid Loss    0.126 \n",
            "-----------------------------------------------------------\n",
            "| epoch  17 |    50/  211 batches | accuracy    0.935\n",
            "| epoch  17 |   100/  211 batches | accuracy    0.933\n",
            "| epoch  17 |   150/  211 batches | accuracy    0.929\n",
            "| epoch  17 |   200/  211 batches | accuracy    0.930\n",
            "-----------------------------------------------------------\n",
            "| End of epoch  17 | Time: 12.02s | Train Accuracy    0.932 | Train Loss    0.241 | Valid Accuracy    0.962 | Valid Loss    0.129 \n",
            "-----------------------------------------------------------\n",
            "| epoch  18 |    50/  211 batches | accuracy    0.936\n",
            "| epoch  18 |   100/  211 batches | accuracy    0.934\n",
            "| epoch  18 |   150/  211 batches | accuracy    0.934\n",
            "| epoch  18 |   200/  211 batches | accuracy    0.937\n",
            "-----------------------------------------------------------\n",
            "| End of epoch  18 | Time: 11.91s | Train Accuracy    0.940 | Train Loss    0.228 | Valid Accuracy    0.964 | Valid Loss    0.129 \n",
            "-----------------------------------------------------------\n",
            "| epoch  19 |    50/  211 batches | accuracy    0.939\n",
            "| epoch  19 |   100/  211 batches | accuracy    0.932\n",
            "| epoch  19 |   150/  211 batches | accuracy    0.935\n",
            "| epoch  19 |   200/  211 batches | accuracy    0.933\n",
            "-----------------------------------------------------------\n",
            "| End of epoch  19 | Time: 11.84s | Train Accuracy    0.934 | Train Loss    0.227 | Valid Accuracy    0.962 | Valid Loss    0.129 \n",
            "-----------------------------------------------------------\n",
            "| epoch  20 |    50/  211 batches | accuracy    0.935\n",
            "| epoch  20 |   100/  211 batches | accuracy    0.936\n",
            "| epoch  20 |   150/  211 batches | accuracy    0.933\n",
            "| epoch  20 |   200/  211 batches | accuracy    0.936\n",
            "-----------------------------------------------------------\n",
            "| End of epoch  20 | Time: 12.00s | Train Accuracy    0.936 | Train Loss    0.228 | Valid Accuracy    0.963 | Valid Loss    0.125 \n",
            "-----------------------------------------------------------\n",
            "0.5\n",
            "| epoch   1 |    50/  211 batches | accuracy    0.392\n",
            "| epoch   1 |   100/  211 batches | accuracy    0.664\n",
            "| epoch   1 |   150/  211 batches | accuracy    0.743\n",
            "| epoch   1 |   200/  211 batches | accuracy    0.781\n",
            "-----------------------------------------------------------\n",
            "| End of epoch   1 | Time: 12.03s | Train Accuracy    0.796 | Train Loss    1.045 | Valid Accuracy    0.913 | Valid Loss    0.317 \n",
            "-----------------------------------------------------------\n",
            "| epoch   2 |    50/  211 batches | accuracy    0.806\n",
            "| epoch   2 |   100/  211 batches | accuracy    0.821\n",
            "| epoch   2 |   150/  211 batches | accuracy    0.835\n",
            "| epoch   2 |   200/  211 batches | accuracy    0.838\n",
            "-----------------------------------------------------------\n",
            "| End of epoch   2 | Time: 11.90s | Train Accuracy    0.842 | Train Loss    0.579 | Valid Accuracy    0.927 | Valid Loss    0.258 \n",
            "-----------------------------------------------------------\n",
            "| epoch   3 |    50/  211 batches | accuracy    0.848\n",
            "| epoch   3 |   100/  211 batches | accuracy    0.855\n",
            "| epoch   3 |   150/  211 batches | accuracy    0.846\n",
            "| epoch   3 |   200/  211 batches | accuracy    0.859\n",
            "-----------------------------------------------------------\n",
            "| End of epoch   3 | Time: 12.03s | Train Accuracy    0.857 | Train Loss    0.505 | Valid Accuracy    0.937 | Valid Loss    0.229 \n",
            "-----------------------------------------------------------\n",
            "| epoch   4 |    50/  211 batches | accuracy    0.863\n",
            "| epoch   4 |   100/  211 batches | accuracy    0.873\n",
            "| epoch   4 |   150/  211 batches | accuracy    0.869\n",
            "| epoch   4 |   200/  211 batches | accuracy    0.873\n",
            "-----------------------------------------------------------\n",
            "| End of epoch   4 | Time: 12.21s | Train Accuracy    0.864 | Train Loss    0.457 | Valid Accuracy    0.943 | Valid Loss    0.210 \n",
            "-----------------------------------------------------------\n",
            "| epoch   5 |    50/  211 batches | accuracy    0.871\n",
            "| epoch   5 |   100/  211 batches | accuracy    0.875\n",
            "| epoch   5 |   150/  211 batches | accuracy    0.870\n",
            "| epoch   5 |   200/  211 batches | accuracy    0.874\n",
            "-----------------------------------------------------------\n",
            "| End of epoch   5 | Time: 12.14s | Train Accuracy    0.878 | Train Loss    0.437 | Valid Accuracy    0.944 | Valid Loss    0.199 \n",
            "-----------------------------------------------------------\n",
            "| epoch   6 |    50/  211 batches | accuracy    0.878\n",
            "| epoch   6 |   100/  211 batches | accuracy    0.880\n",
            "| epoch   6 |   150/  211 batches | accuracy    0.883\n",
            "| epoch   6 |   200/  211 batches | accuracy    0.883\n",
            "-----------------------------------------------------------\n",
            "| End of epoch   6 | Time: 12.06s | Train Accuracy    0.881 | Train Loss    0.414 | Valid Accuracy    0.947 | Valid Loss    0.191 \n",
            "-----------------------------------------------------------\n",
            "| epoch   7 |    50/  211 batches | accuracy    0.886\n",
            "| epoch   7 |   100/  211 batches | accuracy    0.888\n",
            "| epoch   7 |   150/  211 batches | accuracy    0.886\n",
            "| epoch   7 |   200/  211 batches | accuracy    0.889\n",
            "-----------------------------------------------------------\n",
            "| End of epoch   7 | Time: 12.04s | Train Accuracy    0.888 | Train Loss    0.398 | Valid Accuracy    0.950 | Valid Loss    0.189 \n",
            "-----------------------------------------------------------\n",
            "| epoch   8 |    50/  211 batches | accuracy    0.888\n",
            "| epoch   8 |   100/  211 batches | accuracy    0.890\n",
            "| epoch   8 |   150/  211 batches | accuracy    0.887\n",
            "| epoch   8 |   200/  211 batches | accuracy    0.891\n",
            "-----------------------------------------------------------\n",
            "| End of epoch   8 | Time: 11.95s | Train Accuracy    0.891 | Train Loss    0.386 | Valid Accuracy    0.952 | Valid Loss    0.187 \n",
            "-----------------------------------------------------------\n",
            "| epoch   9 |    50/  211 batches | accuracy    0.894\n",
            "| epoch   9 |   100/  211 batches | accuracy    0.882\n",
            "| epoch   9 |   150/  211 batches | accuracy    0.894\n",
            "| epoch   9 |   200/  211 batches | accuracy    0.897\n",
            "-----------------------------------------------------------\n",
            "| End of epoch   9 | Time: 12.25s | Train Accuracy    0.897 | Train Loss    0.382 | Valid Accuracy    0.951 | Valid Loss    0.183 \n",
            "-----------------------------------------------------------\n",
            "| epoch  10 |    50/  211 batches | accuracy    0.896\n",
            "| epoch  10 |   100/  211 batches | accuracy    0.895\n",
            "| epoch  10 |   150/  211 batches | accuracy    0.896\n",
            "| epoch  10 |   200/  211 batches | accuracy    0.894\n",
            "-----------------------------------------------------------\n",
            "| End of epoch  10 | Time: 12.15s | Train Accuracy    0.898 | Train Loss    0.366 | Valid Accuracy    0.952 | Valid Loss    0.179 \n",
            "-----------------------------------------------------------\n",
            "| epoch  11 |    50/  211 batches | accuracy    0.893\n",
            "| epoch  11 |   100/  211 batches | accuracy    0.894\n",
            "| epoch  11 |   150/  211 batches | accuracy    0.896\n",
            "| epoch  11 |   200/  211 batches | accuracy    0.899\n",
            "-----------------------------------------------------------\n",
            "| End of epoch  11 | Time: 12.10s | Train Accuracy    0.893 | Train Loss    0.364 | Valid Accuracy    0.953 | Valid Loss    0.177 \n",
            "-----------------------------------------------------------\n",
            "| epoch  12 |    50/  211 batches | accuracy    0.896\n",
            "| epoch  12 |   100/  211 batches | accuracy    0.893\n",
            "| epoch  12 |   150/  211 batches | accuracy    0.896\n",
            "| epoch  12 |   200/  211 batches | accuracy    0.899\n",
            "-----------------------------------------------------------\n",
            "| End of epoch  12 | Time: 12.13s | Train Accuracy    0.903 | Train Loss    0.357 | Valid Accuracy    0.953 | Valid Loss    0.176 \n",
            "-----------------------------------------------------------\n",
            "| epoch  13 |    50/  211 batches | accuracy    0.903\n",
            "| epoch  13 |   100/  211 batches | accuracy    0.901\n",
            "| epoch  13 |   150/  211 batches | accuracy    0.905\n",
            "| epoch  13 |   200/  211 batches | accuracy    0.899\n",
            "-----------------------------------------------------------\n",
            "| End of epoch  13 | Time: 11.89s | Train Accuracy    0.906 | Train Loss    0.344 | Valid Accuracy    0.954 | Valid Loss    0.169 \n",
            "-----------------------------------------------------------\n",
            "| epoch  14 |    50/  211 batches | accuracy    0.903\n",
            "| epoch  14 |   100/  211 batches | accuracy    0.901\n",
            "| epoch  14 |   150/  211 batches | accuracy    0.904\n",
            "| epoch  14 |   200/  211 batches | accuracy    0.902\n",
            "-----------------------------------------------------------\n",
            "| End of epoch  14 | Time: 11.93s | Train Accuracy    0.886 | Train Loss    0.341 | Valid Accuracy    0.953 | Valid Loss    0.168 \n",
            "-----------------------------------------------------------\n",
            "| epoch  15 |    50/  211 batches | accuracy    0.901\n",
            "| epoch  15 |   100/  211 batches | accuracy    0.903\n",
            "| epoch  15 |   150/  211 batches | accuracy    0.899\n",
            "| epoch  15 |   200/  211 batches | accuracy    0.900\n",
            "-----------------------------------------------------------\n",
            "| End of epoch  15 | Time: 11.92s | Train Accuracy    0.911 | Train Loss    0.340 | Valid Accuracy    0.954 | Valid Loss    0.173 \n",
            "-----------------------------------------------------------\n",
            "| epoch  16 |    50/  211 batches | accuracy    0.904\n",
            "| epoch  16 |   100/  211 batches | accuracy    0.901\n",
            "| epoch  16 |   150/  211 batches | accuracy    0.908\n",
            "| epoch  16 |   200/  211 batches | accuracy    0.902\n",
            "-----------------------------------------------------------\n",
            "| End of epoch  16 | Time: 11.95s | Train Accuracy    0.902 | Train Loss    0.332 | Valid Accuracy    0.956 | Valid Loss    0.165 \n",
            "-----------------------------------------------------------\n",
            "| epoch  17 |    50/  211 batches | accuracy    0.902\n",
            "| epoch  17 |   100/  211 batches | accuracy    0.907\n",
            "| epoch  17 |   150/  211 batches | accuracy    0.904\n",
            "| epoch  17 |   200/  211 batches | accuracy    0.903\n",
            "-----------------------------------------------------------\n",
            "| End of epoch  17 | Time: 11.83s | Train Accuracy    0.904 | Train Loss    0.331 | Valid Accuracy    0.956 | Valid Loss    0.163 \n",
            "-----------------------------------------------------------\n",
            "| epoch  18 |    50/  211 batches | accuracy    0.905\n",
            "| epoch  18 |   100/  211 batches | accuracy    0.901\n",
            "| epoch  18 |   150/  211 batches | accuracy    0.907\n",
            "| epoch  18 |   200/  211 batches | accuracy    0.904\n",
            "-----------------------------------------------------------\n",
            "| End of epoch  18 | Time: 11.92s | Train Accuracy    0.888 | Train Loss    0.326 | Valid Accuracy    0.955 | Valid Loss    0.158 \n",
            "-----------------------------------------------------------\n",
            "| epoch  19 |    50/  211 batches | accuracy    0.908\n",
            "| epoch  19 |   100/  211 batches | accuracy    0.905\n",
            "| epoch  19 |   150/  211 batches | accuracy    0.911\n",
            "| epoch  19 |   200/  211 batches | accuracy    0.905\n",
            "-----------------------------------------------------------\n",
            "| End of epoch  19 | Time: 12.00s | Train Accuracy    0.908 | Train Loss    0.318 | Valid Accuracy    0.955 | Valid Loss    0.164 \n",
            "-----------------------------------------------------------\n",
            "| epoch  20 |    50/  211 batches | accuracy    0.908\n",
            "| epoch  20 |   100/  211 batches | accuracy    0.905\n",
            "| epoch  20 |   150/  211 batches | accuracy    0.911\n",
            "| epoch  20 |   200/  211 batches | accuracy    0.903\n",
            "-----------------------------------------------------------\n",
            "| End of epoch  20 | Time: 12.16s | Train Accuracy    0.895 | Train Loss    0.322 | Valid Accuracy    0.957 | Valid Loss    0.158 \n",
            "-----------------------------------------------------------\n",
            "0.6\n",
            "| epoch   1 |    50/  211 batches | accuracy    0.346\n",
            "| epoch   1 |   100/  211 batches | accuracy    0.584\n",
            "| epoch   1 |   150/  211 batches | accuracy    0.662\n",
            "| epoch   1 |   200/  211 batches | accuracy    0.704\n",
            "-----------------------------------------------------------\n",
            "| End of epoch   1 | Time: 11.93s | Train Accuracy    0.722 | Train Loss    1.224 | Valid Accuracy    0.899 | Valid Loss    0.389 \n",
            "-----------------------------------------------------------\n",
            "| epoch   2 |    50/  211 batches | accuracy    0.729\n",
            "| epoch   2 |   100/  211 batches | accuracy    0.748\n",
            "| epoch   2 |   150/  211 batches | accuracy    0.763\n",
            "| epoch   2 |   200/  211 batches | accuracy    0.767\n",
            "-----------------------------------------------------------\n",
            "| End of epoch   2 | Time: 11.91s | Train Accuracy    0.787 | Train Loss    0.775 | Valid Accuracy    0.917 | Valid Loss    0.307 \n",
            "-----------------------------------------------------------\n",
            "| epoch   3 |    50/  211 batches | accuracy    0.779\n",
            "| epoch   3 |   100/  211 batches | accuracy    0.785\n",
            "| epoch   3 |   150/  211 batches | accuracy    0.792\n",
            "| epoch   3 |   200/  211 batches | accuracy    0.793\n",
            "-----------------------------------------------------------\n",
            "| End of epoch   3 | Time: 11.91s | Train Accuracy    0.798 | Train Loss    0.690 | Valid Accuracy    0.927 | Valid Loss    0.268 \n",
            "-----------------------------------------------------------\n",
            "| epoch   4 |    50/  211 batches | accuracy    0.800\n",
            "| epoch   4 |   100/  211 batches | accuracy    0.800\n",
            "| epoch   4 |   150/  211 batches | accuracy    0.807\n",
            "| epoch   4 |   200/  211 batches | accuracy    0.802\n",
            "-----------------------------------------------------------\n",
            "| End of epoch   4 | Time: 11.90s | Train Accuracy    0.805 | Train Loss    0.642 | Valid Accuracy    0.932 | Valid Loss    0.259 \n",
            "-----------------------------------------------------------\n",
            "| epoch   5 |    50/  211 batches | accuracy    0.811\n",
            "| epoch   5 |   100/  211 batches | accuracy    0.811\n",
            "| epoch   5 |   150/  211 batches | accuracy    0.809\n",
            "| epoch   5 |   200/  211 batches | accuracy    0.814\n",
            "-----------------------------------------------------------\n",
            "| End of epoch   5 | Time: 11.99s | Train Accuracy    0.828 | Train Loss    0.620 | Valid Accuracy    0.935 | Valid Loss    0.244 \n",
            "-----------------------------------------------------------\n",
            "| epoch   6 |    50/  211 batches | accuracy    0.819\n",
            "| epoch   6 |   100/  211 batches | accuracy    0.822\n",
            "| epoch   6 |   150/  211 batches | accuracy    0.828\n",
            "| epoch   6 |   200/  211 batches | accuracy    0.824\n",
            "-----------------------------------------------------------\n",
            "| End of epoch   6 | Time: 11.94s | Train Accuracy    0.820 | Train Loss    0.592 | Valid Accuracy    0.937 | Valid Loss    0.243 \n",
            "-----------------------------------------------------------\n",
            "| epoch   7 |    50/  211 batches | accuracy    0.824\n",
            "| epoch   7 |   100/  211 batches | accuracy    0.818\n",
            "| epoch   7 |   150/  211 batches | accuracy    0.826\n",
            "| epoch   7 |   200/  211 batches | accuracy    0.827\n",
            "-----------------------------------------------------------\n",
            "| End of epoch   7 | Time: 11.89s | Train Accuracy    0.829 | Train Loss    0.583 | Valid Accuracy    0.940 | Valid Loss    0.230 \n",
            "-----------------------------------------------------------\n",
            "| epoch   8 |    50/  211 batches | accuracy    0.831\n",
            "| epoch   8 |   100/  211 batches | accuracy    0.826\n",
            "| epoch   8 |   150/  211 batches | accuracy    0.833\n",
            "| epoch   8 |   200/  211 batches | accuracy    0.831\n",
            "-----------------------------------------------------------\n",
            "| End of epoch   8 | Time: 12.09s | Train Accuracy    0.833 | Train Loss    0.567 | Valid Accuracy    0.941 | Valid Loss    0.221 \n",
            "-----------------------------------------------------------\n",
            "| epoch   9 |    50/  211 batches | accuracy    0.828\n",
            "| epoch   9 |   100/  211 batches | accuracy    0.829\n",
            "| epoch   9 |   150/  211 batches | accuracy    0.836\n",
            "| epoch   9 |   200/  211 batches | accuracy    0.832\n",
            "-----------------------------------------------------------\n",
            "| End of epoch   9 | Time: 11.99s | Train Accuracy    0.833 | Train Loss    0.556 | Valid Accuracy    0.943 | Valid Loss    0.216 \n",
            "-----------------------------------------------------------\n",
            "| epoch  10 |    50/  211 batches | accuracy    0.833\n",
            "| epoch  10 |   100/  211 batches | accuracy    0.833\n",
            "| epoch  10 |   150/  211 batches | accuracy    0.835\n",
            "| epoch  10 |   200/  211 batches | accuracy    0.836\n",
            "-----------------------------------------------------------\n",
            "| End of epoch  10 | Time: 11.96s | Train Accuracy    0.832 | Train Loss    0.546 | Valid Accuracy    0.943 | Valid Loss    0.216 \n",
            "-----------------------------------------------------------\n",
            "| epoch  11 |    50/  211 batches | accuracy    0.838\n",
            "| epoch  11 |   100/  211 batches | accuracy    0.834\n",
            "| epoch  11 |   150/  211 batches | accuracy    0.837\n",
            "| epoch  11 |   200/  211 batches | accuracy    0.835\n",
            "-----------------------------------------------------------\n",
            "| End of epoch  11 | Time: 11.83s | Train Accuracy    0.842 | Train Loss    0.539 | Valid Accuracy    0.943 | Valid Loss    0.222 \n",
            "-----------------------------------------------------------\n",
            "| epoch  12 |    50/  211 batches | accuracy    0.839\n",
            "| epoch  12 |   100/  211 batches | accuracy    0.843\n",
            "| epoch  12 |   150/  211 batches | accuracy    0.838\n",
            "| epoch  12 |   200/  211 batches | accuracy    0.840\n",
            "-----------------------------------------------------------\n",
            "| End of epoch  12 | Time: 11.79s | Train Accuracy    0.837 | Train Loss    0.523 | Valid Accuracy    0.945 | Valid Loss    0.216 \n",
            "-----------------------------------------------------------\n",
            "| epoch  13 |    50/  211 batches | accuracy    0.839\n",
            "| epoch  13 |   100/  211 batches | accuracy    0.839\n",
            "| epoch  13 |   150/  211 batches | accuracy    0.840\n",
            "| epoch  13 |   200/  211 batches | accuracy    0.841\n",
            "-----------------------------------------------------------\n",
            "| End of epoch  13 | Time: 11.85s | Train Accuracy    0.853 | Train Loss    0.522 | Valid Accuracy    0.946 | Valid Loss    0.205 \n",
            "-----------------------------------------------------------\n",
            "| epoch  14 |    50/  211 batches | accuracy    0.840\n",
            "| epoch  14 |   100/  211 batches | accuracy    0.839\n",
            "| epoch  14 |   150/  211 batches | accuracy    0.841\n",
            "| epoch  14 |   200/  211 batches | accuracy    0.839\n",
            "-----------------------------------------------------------\n",
            "| End of epoch  14 | Time: 11.99s | Train Accuracy    0.842 | Train Loss    0.520 | Valid Accuracy    0.944 | Valid Loss    0.206 \n",
            "-----------------------------------------------------------\n",
            "| epoch  15 |    50/  211 batches | accuracy    0.841\n",
            "| epoch  15 |   100/  211 batches | accuracy    0.844\n",
            "| epoch  15 |   150/  211 batches | accuracy    0.839\n",
            "| epoch  15 |   200/  211 batches | accuracy    0.841\n",
            "-----------------------------------------------------------\n",
            "| End of epoch  15 | Time: 11.91s | Train Accuracy    0.852 | Train Loss    0.513 | Valid Accuracy    0.944 | Valid Loss    0.209 \n",
            "-----------------------------------------------------------\n",
            "| epoch  16 |    50/  211 batches | accuracy    0.839\n",
            "| epoch  16 |   100/  211 batches | accuracy    0.839\n",
            "| epoch  16 |   150/  211 batches | accuracy    0.849\n",
            "| epoch  16 |   200/  211 batches | accuracy    0.847\n",
            "-----------------------------------------------------------\n",
            "| End of epoch  16 | Time: 11.88s | Train Accuracy    0.858 | Train Loss    0.517 | Valid Accuracy    0.947 | Valid Loss    0.204 \n",
            "-----------------------------------------------------------\n",
            "| epoch  17 |    50/  211 batches | accuracy    0.847\n",
            "| epoch  17 |   100/  211 batches | accuracy    0.845\n",
            "| epoch  17 |   150/  211 batches | accuracy    0.849\n",
            "| epoch  17 |   200/  211 batches | accuracy    0.842\n",
            "-----------------------------------------------------------\n",
            "| End of epoch  17 | Time: 11.85s | Train Accuracy    0.830 | Train Loss    0.513 | Valid Accuracy    0.946 | Valid Loss    0.202 \n",
            "-----------------------------------------------------------\n",
            "| epoch  18 |    50/  211 batches | accuracy    0.847\n",
            "| epoch  18 |   100/  211 batches | accuracy    0.850\n",
            "| epoch  18 |   150/  211 batches | accuracy    0.849\n",
            "| epoch  18 |   200/  211 batches | accuracy    0.847\n",
            "-----------------------------------------------------------\n",
            "| End of epoch  18 | Time: 12.05s | Train Accuracy    0.849 | Train Loss    0.500 | Valid Accuracy    0.947 | Valid Loss    0.202 \n",
            "-----------------------------------------------------------\n",
            "| epoch  19 |    50/  211 batches | accuracy    0.850\n",
            "| epoch  19 |   100/  211 batches | accuracy    0.844\n",
            "| epoch  19 |   150/  211 batches | accuracy    0.849\n",
            "| epoch  19 |   200/  211 batches | accuracy    0.847\n",
            "-----------------------------------------------------------\n",
            "| End of epoch  19 | Time: 11.95s | Train Accuracy    0.849 | Train Loss    0.501 | Valid Accuracy    0.949 | Valid Loss    0.197 \n",
            "-----------------------------------------------------------\n",
            "| epoch  20 |    50/  211 batches | accuracy    0.845\n",
            "| epoch  20 |   100/  211 batches | accuracy    0.845\n",
            "| epoch  20 |   150/  211 batches | accuracy    0.849\n",
            "| epoch  20 |   200/  211 batches | accuracy    0.853\n",
            "-----------------------------------------------------------\n",
            "| End of epoch  20 | Time: 11.98s | Train Accuracy    0.857 | Train Loss    0.498 | Valid Accuracy    0.950 | Valid Loss    0.202 \n",
            "-----------------------------------------------------------\n",
            "0.7\n",
            "| epoch   1 |    50/  211 batches | accuracy    0.226\n",
            "| epoch   1 |   100/  211 batches | accuracy    0.396\n",
            "| epoch   1 |   150/  211 batches | accuracy    0.486\n",
            "| epoch   1 |   200/  211 batches | accuracy    0.550\n",
            "-----------------------------------------------------------\n",
            "| End of epoch   1 | Time: 11.88s | Train Accuracy    0.573 | Train Loss    1.586 | Valid Accuracy    0.875 | Valid Loss    0.603 \n",
            "-----------------------------------------------------------\n",
            "| epoch   2 |    50/  211 batches | accuracy    0.586\n",
            "| epoch   2 |   100/  211 batches | accuracy    0.609\n",
            "| epoch   2 |   150/  211 batches | accuracy    0.627\n",
            "| epoch   2 |   200/  211 batches | accuracy    0.637\n",
            "-----------------------------------------------------------\n",
            "| End of epoch   2 | Time: 11.82s | Train Accuracy    0.624 | Train Loss    1.109 | Valid Accuracy    0.904 | Valid Loss    0.470 \n",
            "-----------------------------------------------------------\n",
            "| epoch   3 |    50/  211 batches | accuracy    0.648\n",
            "| epoch   3 |   100/  211 batches | accuracy    0.657\n",
            "| epoch   3 |   150/  211 batches | accuracy    0.662\n",
            "| epoch   3 |   200/  211 batches | accuracy    0.675\n",
            "-----------------------------------------------------------\n",
            "| End of epoch   3 | Time: 12.16s | Train Accuracy    0.675 | Train Loss    1.001 | Valid Accuracy    0.908 | Valid Loss    0.406 \n",
            "-----------------------------------------------------------\n",
            "| epoch   4 |    50/  211 batches | accuracy    0.672\n",
            "| epoch   4 |   100/  211 batches | accuracy    0.674\n",
            "| epoch   4 |   150/  211 batches | accuracy    0.680\n",
            "| epoch   4 |   200/  211 batches | accuracy    0.675\n",
            "-----------------------------------------------------------\n",
            "| End of epoch   4 | Time: 11.83s | Train Accuracy    0.665 | Train Loss    0.964 | Valid Accuracy    0.914 | Valid Loss    0.402 \n",
            "-----------------------------------------------------------\n",
            "| epoch   5 |    50/  211 batches | accuracy    0.682\n",
            "| epoch   5 |   100/  211 batches | accuracy    0.686\n",
            "| epoch   5 |   150/  211 batches | accuracy    0.683\n",
            "| epoch   5 |   200/  211 batches | accuracy    0.694\n",
            "-----------------------------------------------------------\n",
            "| End of epoch   5 | Time: 11.92s | Train Accuracy    0.697 | Train Loss    0.934 | Valid Accuracy    0.915 | Valid Loss    0.369 \n",
            "-----------------------------------------------------------\n",
            "| epoch   6 |    50/  211 batches | accuracy    0.689\n",
            "| epoch   6 |   100/  211 batches | accuracy    0.691\n",
            "| epoch   6 |   150/  211 batches | accuracy    0.691\n",
            "| epoch   6 |   200/  211 batches | accuracy    0.690\n",
            "-----------------------------------------------------------\n",
            "| End of epoch   6 | Time: 12.00s | Train Accuracy    0.706 | Train Loss    0.913 | Valid Accuracy    0.913 | Valid Loss    0.368 \n",
            "-----------------------------------------------------------\n",
            "| epoch   7 |    50/  211 batches | accuracy    0.690\n",
            "| epoch   7 |   100/  211 batches | accuracy    0.689\n",
            "| epoch   7 |   150/  211 batches | accuracy    0.702\n",
            "| epoch   7 |   200/  211 batches | accuracy    0.695\n",
            "-----------------------------------------------------------\n",
            "| End of epoch   7 | Time: 11.97s | Train Accuracy    0.715 | Train Loss    0.909 | Valid Accuracy    0.920 | Valid Loss    0.360 \n",
            "-----------------------------------------------------------\n",
            "| epoch   8 |    50/  211 batches | accuracy    0.698\n",
            "| epoch   8 |   100/  211 batches | accuracy    0.689\n",
            "| epoch   8 |   150/  211 batches | accuracy    0.704\n",
            "| epoch   8 |   200/  211 batches | accuracy    0.692\n",
            "-----------------------------------------------------------\n",
            "| End of epoch   8 | Time: 11.88s | Train Accuracy    0.708 | Train Loss    0.896 | Valid Accuracy    0.922 | Valid Loss    0.344 \n",
            "-----------------------------------------------------------\n",
            "| epoch   9 |    50/  211 batches | accuracy    0.704\n",
            "| epoch   9 |   100/  211 batches | accuracy    0.706\n",
            "| epoch   9 |   150/  211 batches | accuracy    0.706\n",
            "| epoch   9 |   200/  211 batches | accuracy    0.702\n",
            "-----------------------------------------------------------\n",
            "| End of epoch   9 | Time: 11.86s | Train Accuracy    0.707 | Train Loss    0.885 | Valid Accuracy    0.923 | Valid Loss    0.342 \n",
            "-----------------------------------------------------------\n",
            "| epoch  10 |    50/  211 batches | accuracy    0.704\n",
            "| epoch  10 |   100/  211 batches | accuracy    0.702\n",
            "| epoch  10 |   150/  211 batches | accuracy    0.703\n",
            "| epoch  10 |   200/  211 batches | accuracy    0.711\n",
            "-----------------------------------------------------------\n",
            "| End of epoch  10 | Time: 11.88s | Train Accuracy    0.694 | Train Loss    0.880 | Valid Accuracy    0.923 | Valid Loss    0.345 \n",
            "-----------------------------------------------------------\n",
            "| epoch  11 |    50/  211 batches | accuracy    0.709\n",
            "| epoch  11 |   100/  211 batches | accuracy    0.700\n",
            "| epoch  11 |   150/  211 batches | accuracy    0.714\n",
            "| epoch  11 |   200/  211 batches | accuracy    0.711\n",
            "-----------------------------------------------------------\n",
            "| End of epoch  11 | Time: 11.88s | Train Accuracy    0.705 | Train Loss    0.868 | Valid Accuracy    0.923 | Valid Loss    0.339 \n",
            "-----------------------------------------------------------\n",
            "| epoch  12 |    50/  211 batches | accuracy    0.711\n",
            "| epoch  12 |   100/  211 batches | accuracy    0.705\n",
            "| epoch  12 |   150/  211 batches | accuracy    0.706\n",
            "| epoch  12 |   200/  211 batches | accuracy    0.714\n",
            "-----------------------------------------------------------\n",
            "| End of epoch  12 | Time: 11.84s | Train Accuracy    0.721 | Train Loss    0.860 | Valid Accuracy    0.927 | Valid Loss    0.320 \n",
            "-----------------------------------------------------------\n",
            "| epoch  13 |    50/  211 batches | accuracy    0.714\n",
            "| epoch  13 |   100/  211 batches | accuracy    0.722\n",
            "| epoch  13 |   150/  211 batches | accuracy    0.719\n",
            "| epoch  13 |   200/  211 batches | accuracy    0.717\n",
            "-----------------------------------------------------------\n",
            "| End of epoch  13 | Time: 11.85s | Train Accuracy    0.717 | Train Loss    0.850 | Valid Accuracy    0.927 | Valid Loss    0.322 \n",
            "-----------------------------------------------------------\n",
            "| epoch  14 |    50/  211 batches | accuracy    0.718\n",
            "| epoch  14 |   100/  211 batches | accuracy    0.716\n",
            "| epoch  14 |   150/  211 batches | accuracy    0.718\n",
            "| epoch  14 |   200/  211 batches | accuracy    0.719\n",
            "-----------------------------------------------------------\n",
            "| End of epoch  14 | Time: 11.94s | Train Accuracy    0.733 | Train Loss    0.846 | Valid Accuracy    0.925 | Valid Loss    0.326 \n",
            "-----------------------------------------------------------\n",
            "| epoch  15 |    50/  211 batches | accuracy    0.721\n",
            "| epoch  15 |   100/  211 batches | accuracy    0.726\n",
            "| epoch  15 |   150/  211 batches | accuracy    0.721\n",
            "| epoch  15 |   200/  211 batches | accuracy    0.720\n",
            "-----------------------------------------------------------\n",
            "| End of epoch  15 | Time: 12.02s | Train Accuracy    0.727 | Train Loss    0.845 | Valid Accuracy    0.926 | Valid Loss    0.321 \n",
            "-----------------------------------------------------------\n",
            "| epoch  16 |    50/  211 batches | accuracy    0.724\n",
            "| epoch  16 |   100/  211 batches | accuracy    0.725\n",
            "| epoch  16 |   150/  211 batches | accuracy    0.718\n",
            "| epoch  16 |   200/  211 batches | accuracy    0.726\n",
            "-----------------------------------------------------------\n",
            "| End of epoch  16 | Time: 11.91s | Train Accuracy    0.727 | Train Loss    0.841 | Valid Accuracy    0.924 | Valid Loss    0.318 \n",
            "-----------------------------------------------------------\n",
            "| epoch  17 |    50/  211 batches | accuracy    0.727\n",
            "| epoch  17 |   100/  211 batches | accuracy    0.726\n",
            "| epoch  17 |   150/  211 batches | accuracy    0.728\n",
            "| epoch  17 |   200/  211 batches | accuracy    0.728\n",
            "-----------------------------------------------------------\n",
            "| End of epoch  17 | Time: 11.90s | Train Accuracy    0.726 | Train Loss    0.820 | Valid Accuracy    0.927 | Valid Loss    0.319 \n",
            "-----------------------------------------------------------\n",
            "| epoch  18 |    50/  211 batches | accuracy    0.725\n",
            "| epoch  18 |   100/  211 batches | accuracy    0.727\n",
            "| epoch  18 |   150/  211 batches | accuracy    0.728\n",
            "| epoch  18 |   200/  211 batches | accuracy    0.730\n",
            "-----------------------------------------------------------\n",
            "| End of epoch  18 | Time: 11.99s | Train Accuracy    0.731 | Train Loss    0.824 | Valid Accuracy    0.926 | Valid Loss    0.311 \n",
            "-----------------------------------------------------------\n",
            "| epoch  19 |    50/  211 batches | accuracy    0.726\n",
            "| epoch  19 |   100/  211 batches | accuracy    0.733\n",
            "| epoch  19 |   150/  211 batches | accuracy    0.733\n",
            "| epoch  19 |   200/  211 batches | accuracy    0.728\n",
            "-----------------------------------------------------------\n",
            "| End of epoch  19 | Time: 12.04s | Train Accuracy    0.731 | Train Loss    0.816 | Valid Accuracy    0.926 | Valid Loss    0.318 \n",
            "-----------------------------------------------------------\n",
            "| epoch  20 |    50/  211 batches | accuracy    0.734\n",
            "| epoch  20 |   100/  211 batches | accuracy    0.731\n",
            "| epoch  20 |   150/  211 batches | accuracy    0.735\n",
            "| epoch  20 |   200/  211 batches | accuracy    0.724\n",
            "-----------------------------------------------------------\n",
            "| End of epoch  20 | Time: 12.10s | Train Accuracy    0.746 | Train Loss    0.808 | Valid Accuracy    0.930 | Valid Loss    0.309 \n",
            "-----------------------------------------------------------\n",
            "0.8\n",
            "| epoch   1 |    50/  211 batches | accuracy    0.163\n",
            "| epoch   1 |   100/  211 batches | accuracy    0.262\n",
            "| epoch   1 |   150/  211 batches | accuracy    0.335\n",
            "| epoch   1 |   200/  211 batches | accuracy    0.370\n",
            "-----------------------------------------------------------\n",
            "| End of epoch   1 | Time: 11.84s | Train Accuracy    0.377 | Train Loss    1.895 | Valid Accuracy    0.741 | Valid Loss    1.050 \n",
            "-----------------------------------------------------------\n",
            "| epoch   2 |    50/  211 batches | accuracy    0.402\n",
            "| epoch   2 |   100/  211 batches | accuracy    0.406\n",
            "| epoch   2 |   150/  211 batches | accuracy    0.421\n",
            "| epoch   2 |   200/  211 batches | accuracy    0.451\n",
            "-----------------------------------------------------------\n",
            "| End of epoch   2 | Time: 11.81s | Train Accuracy    0.476 | Train Loss    1.536 | Valid Accuracy    0.779 | Valid Loss    0.856 \n",
            "-----------------------------------------------------------\n",
            "| epoch   3 |    50/  211 batches | accuracy    0.451\n",
            "| epoch   3 |   100/  211 batches | accuracy    0.470\n",
            "| epoch   3 |   150/  211 batches | accuracy    0.474\n",
            "| epoch   3 |   200/  211 batches | accuracy    0.480\n",
            "-----------------------------------------------------------\n",
            "| End of epoch   3 | Time: 11.92s | Train Accuracy    0.477 | Train Loss    1.453 | Valid Accuracy    0.812 | Valid Loss    0.814 \n",
            "-----------------------------------------------------------\n",
            "| epoch   4 |    50/  211 batches | accuracy    0.483\n",
            "| epoch   4 |   100/  211 batches | accuracy    0.489\n",
            "| epoch   4 |   150/  211 batches | accuracy    0.490\n",
            "| epoch   4 |   200/  211 batches | accuracy    0.491\n",
            "-----------------------------------------------------------\n",
            "| End of epoch   4 | Time: 12.13s | Train Accuracy    0.491 | Train Loss    1.414 | Valid Accuracy    0.839 | Valid Loss    0.771 \n",
            "-----------------------------------------------------------\n",
            "| epoch   5 |    50/  211 batches | accuracy    0.488\n",
            "| epoch   5 |   100/  211 batches | accuracy    0.494\n",
            "| epoch   5 |   150/  211 batches | accuracy    0.491\n",
            "| epoch   5 |   200/  211 batches | accuracy    0.496\n",
            "-----------------------------------------------------------\n",
            "| End of epoch   5 | Time: 11.92s | Train Accuracy    0.488 | Train Loss    1.381 | Valid Accuracy    0.833 | Valid Loss    0.748 \n",
            "-----------------------------------------------------------\n",
            "| epoch   6 |    50/  211 batches | accuracy    0.500\n",
            "| epoch   6 |   100/  211 batches | accuracy    0.493\n",
            "| epoch   6 |   150/  211 batches | accuracy    0.494\n",
            "| epoch   6 |   200/  211 batches | accuracy    0.504\n",
            "-----------------------------------------------------------\n",
            "| End of epoch   6 | Time: 11.92s | Train Accuracy    0.500 | Train Loss    1.368 | Valid Accuracy    0.809 | Valid Loss    0.731 \n",
            "-----------------------------------------------------------\n",
            "| epoch   7 |    50/  211 batches | accuracy    0.501\n",
            "| epoch   7 |   100/  211 batches | accuracy    0.501\n",
            "| epoch   7 |   150/  211 batches | accuracy    0.508\n",
            "| epoch   7 |   200/  211 batches | accuracy    0.508\n",
            "-----------------------------------------------------------\n",
            "| End of epoch   7 | Time: 11.82s | Train Accuracy    0.522 | Train Loss    1.363 | Valid Accuracy    0.830 | Valid Loss    0.725 \n",
            "-----------------------------------------------------------\n",
            "| epoch   8 |    50/  211 batches | accuracy    0.497\n",
            "| epoch   8 |   100/  211 batches | accuracy    0.502\n",
            "| epoch   8 |   150/  211 batches | accuracy    0.513\n",
            "| epoch   8 |   200/  211 batches | accuracy    0.503\n",
            "-----------------------------------------------------------\n",
            "| End of epoch   8 | Time: 11.85s | Train Accuracy    0.501 | Train Loss    1.350 | Valid Accuracy    0.827 | Valid Loss    0.719 \n",
            "-----------------------------------------------------------\n",
            "| epoch   9 |    50/  211 batches | accuracy    0.505\n",
            "| epoch   9 |   100/  211 batches | accuracy    0.506\n",
            "| epoch   9 |   150/  211 batches | accuracy    0.510\n",
            "| epoch   9 |   200/  211 batches | accuracy    0.513\n",
            "-----------------------------------------------------------\n",
            "| End of epoch   9 | Time: 11.90s | Train Accuracy    0.500 | Train Loss    1.341 | Valid Accuracy    0.827 | Valid Loss    0.699 \n",
            "-----------------------------------------------------------\n",
            "| epoch  10 |    50/  211 batches | accuracy    0.514\n",
            "| epoch  10 |   100/  211 batches | accuracy    0.511\n",
            "| epoch  10 |   150/  211 batches | accuracy    0.508\n",
            "| epoch  10 |   200/  211 batches | accuracy    0.507\n",
            "-----------------------------------------------------------\n",
            "| End of epoch  10 | Time: 11.91s | Train Accuracy    0.527 | Train Loss    1.335 | Valid Accuracy    0.831 | Valid Loss    0.689 \n",
            "-----------------------------------------------------------\n",
            "| epoch  11 |    50/  211 batches | accuracy    0.512\n",
            "| epoch  11 |   100/  211 batches | accuracy    0.509\n",
            "| epoch  11 |   150/  211 batches | accuracy    0.509\n",
            "| epoch  11 |   200/  211 batches | accuracy    0.505\n",
            "-----------------------------------------------------------\n",
            "| End of epoch  11 | Time: 11.93s | Train Accuracy    0.512 | Train Loss    1.331 | Valid Accuracy    0.819 | Valid Loss    0.699 \n",
            "-----------------------------------------------------------\n",
            "| epoch  12 |    50/  211 batches | accuracy    0.504\n",
            "| epoch  12 |   100/  211 batches | accuracy    0.513\n",
            "| epoch  12 |   150/  211 batches | accuracy    0.509\n",
            "| epoch  12 |   200/  211 batches | accuracy    0.514\n",
            "-----------------------------------------------------------\n",
            "| End of epoch  12 | Time: 11.74s | Train Accuracy    0.513 | Train Loss    1.321 | Valid Accuracy    0.825 | Valid Loss    0.686 \n",
            "-----------------------------------------------------------\n",
            "| epoch  13 |    50/  211 batches | accuracy    0.513\n",
            "| epoch  13 |   100/  211 batches | accuracy    0.508\n",
            "| epoch  13 |   150/  211 batches | accuracy    0.514\n",
            "| epoch  13 |   200/  211 batches | accuracy    0.512\n",
            "-----------------------------------------------------------\n",
            "| End of epoch  13 | Time: 11.94s | Train Accuracy    0.502 | Train Loss    1.320 | Valid Accuracy    0.832 | Valid Loss    0.678 \n",
            "-----------------------------------------------------------\n",
            "| epoch  14 |    50/  211 batches | accuracy    0.515\n",
            "| epoch  14 |   100/  211 batches | accuracy    0.516\n",
            "| epoch  14 |   150/  211 batches | accuracy    0.513\n",
            "| epoch  14 |   200/  211 batches | accuracy    0.518\n",
            "-----------------------------------------------------------\n",
            "| End of epoch  14 | Time: 11.87s | Train Accuracy    0.515 | Train Loss    1.315 | Valid Accuracy    0.830 | Valid Loss    0.674 \n",
            "-----------------------------------------------------------\n",
            "| epoch  15 |    50/  211 batches | accuracy    0.524\n",
            "| epoch  15 |   100/  211 batches | accuracy    0.521\n",
            "| epoch  15 |   150/  211 batches | accuracy    0.520\n",
            "| epoch  15 |   200/  211 batches | accuracy    0.514\n",
            "-----------------------------------------------------------\n",
            "| End of epoch  15 | Time: 11.78s | Train Accuracy    0.501 | Train Loss    1.307 | Valid Accuracy    0.829 | Valid Loss    0.676 \n",
            "-----------------------------------------------------------\n",
            "| epoch  16 |    50/  211 batches | accuracy    0.522\n",
            "| epoch  16 |   100/  211 batches | accuracy    0.526\n",
            "| epoch  16 |   150/  211 batches | accuracy    0.519\n",
            "| epoch  16 |   200/  211 batches | accuracy    0.520\n",
            "-----------------------------------------------------------\n",
            "| End of epoch  16 | Time: 11.73s | Train Accuracy    0.532 | Train Loss    1.286 | Valid Accuracy    0.833 | Valid Loss    0.653 \n",
            "-----------------------------------------------------------\n",
            "| epoch  17 |    50/  211 batches | accuracy    0.528\n",
            "| epoch  17 |   100/  211 batches | accuracy    0.522\n",
            "| epoch  17 |   150/  211 batches | accuracy    0.520\n",
            "| epoch  17 |   200/  211 batches | accuracy    0.525\n",
            "-----------------------------------------------------------\n",
            "| End of epoch  17 | Time: 11.78s | Train Accuracy    0.512 | Train Loss    1.287 | Valid Accuracy    0.832 | Valid Loss    0.653 \n",
            "-----------------------------------------------------------\n",
            "| epoch  18 |    50/  211 batches | accuracy    0.531\n",
            "| epoch  18 |   100/  211 batches | accuracy    0.526\n",
            "| epoch  18 |   150/  211 batches | accuracy    0.526\n",
            "| epoch  18 |   200/  211 batches | accuracy    0.527\n",
            "-----------------------------------------------------------\n",
            "| End of epoch  18 | Time: 12.01s | Train Accuracy    0.528 | Train Loss    1.283 | Valid Accuracy    0.834 | Valid Loss    0.642 \n",
            "-----------------------------------------------------------\n",
            "| epoch  19 |    50/  211 batches | accuracy    0.528\n",
            "| epoch  19 |   100/  211 batches | accuracy    0.531\n",
            "| epoch  19 |   150/  211 batches | accuracy    0.535\n",
            "| epoch  19 |   200/  211 batches | accuracy    0.527\n",
            "-----------------------------------------------------------\n",
            "| End of epoch  19 | Time: 11.79s | Train Accuracy    0.528 | Train Loss    1.280 | Valid Accuracy    0.834 | Valid Loss    0.647 \n",
            "-----------------------------------------------------------\n",
            "| epoch  20 |    50/  211 batches | accuracy    0.544\n",
            "| epoch  20 |   100/  211 batches | accuracy    0.535\n",
            "| epoch  20 |   150/  211 batches | accuracy    0.536\n",
            "| epoch  20 |   200/  211 batches | accuracy    0.534\n",
            "-----------------------------------------------------------\n",
            "| End of epoch  20 | Time: 11.67s | Train Accuracy    0.514 | Train Loss    1.268 | Valid Accuracy    0.830 | Valid Loss    0.649 \n",
            "-----------------------------------------------------------\n",
            "0.9\n",
            "| epoch   1 |    50/  211 batches | accuracy    0.106\n",
            "| epoch   1 |   100/  211 batches | accuracy    0.104\n",
            "| epoch   1 |   150/  211 batches | accuracy    0.106\n",
            "| epoch   1 |   200/  211 batches | accuracy    0.124\n",
            "-----------------------------------------------------------\n",
            "| End of epoch   1 | Time: 12.14s | Train Accuracy    0.135 | Train Loss    2.286 | Valid Accuracy    0.343 | Valid Loss    2.167 \n",
            "-----------------------------------------------------------\n",
            "| epoch   2 |    50/  211 batches | accuracy    0.136\n",
            "| epoch   2 |   100/  211 batches | accuracy    0.143\n",
            "| epoch   2 |   150/  211 batches | accuracy    0.153\n",
            "| epoch   2 |   200/  211 batches | accuracy    0.157\n",
            "-----------------------------------------------------------\n",
            "| End of epoch   2 | Time: 11.93s | Train Accuracy    0.167 | Train Loss    2.201 | Valid Accuracy    0.613 | Valid Loss    1.961 \n",
            "-----------------------------------------------------------\n",
            "| epoch   3 |    50/  211 batches | accuracy    0.164\n",
            "| epoch   3 |   100/  211 batches | accuracy    0.164\n",
            "| epoch   3 |   150/  211 batches | accuracy    0.173\n",
            "| epoch   3 |   200/  211 batches | accuracy    0.176\n",
            "-----------------------------------------------------------\n",
            "| End of epoch   3 | Time: 11.92s | Train Accuracy    0.182 | Train Loss    2.154 | Valid Accuracy    0.588 | Valid Loss    1.856 \n",
            "-----------------------------------------------------------\n",
            "| epoch   4 |    50/  211 batches | accuracy    0.173\n",
            "| epoch   4 |   100/  211 batches | accuracy    0.190\n",
            "| epoch   4 |   150/  211 batches | accuracy    0.182\n",
            "| epoch   4 |   200/  211 batches | accuracy    0.190\n",
            "-----------------------------------------------------------\n",
            "| End of epoch   4 | Time: 12.02s | Train Accuracy    0.190 | Train Loss    2.116 | Valid Accuracy    0.604 | Valid Loss    1.749 \n",
            "-----------------------------------------------------------\n",
            "| epoch   5 |    50/  211 batches | accuracy    0.194\n",
            "| epoch   5 |   100/  211 batches | accuracy    0.197\n",
            "| epoch   5 |   150/  211 batches | accuracy    0.195\n",
            "| epoch   5 |   200/  211 batches | accuracy    0.206\n",
            "-----------------------------------------------------------\n",
            "| End of epoch   5 | Time: 11.86s | Train Accuracy    0.195 | Train Loss    2.076 | Valid Accuracy    0.609 | Valid Loss    1.707 \n",
            "-----------------------------------------------------------\n",
            "| epoch   6 |    50/  211 batches | accuracy    0.209\n",
            "| epoch   6 |   100/  211 batches | accuracy    0.203\n",
            "| epoch   6 |   150/  211 batches | accuracy    0.211\n",
            "| epoch   6 |   200/  211 batches | accuracy    0.210\n",
            "-----------------------------------------------------------\n",
            "| End of epoch   6 | Time: 12.00s | Train Accuracy    0.204 | Train Loss    2.040 | Valid Accuracy    0.635 | Valid Loss    1.627 \n",
            "-----------------------------------------------------------\n",
            "| epoch   7 |    50/  211 batches | accuracy    0.213\n",
            "| epoch   7 |   100/  211 batches | accuracy    0.213\n",
            "| epoch   7 |   150/  211 batches | accuracy    0.226\n",
            "| epoch   7 |   200/  211 batches | accuracy    0.214\n",
            "-----------------------------------------------------------\n",
            "| End of epoch   7 | Time: 11.82s | Train Accuracy    0.219 | Train Loss    2.019 | Valid Accuracy    0.662 | Valid Loss    1.567 \n",
            "-----------------------------------------------------------\n",
            "| epoch   8 |    50/  211 batches | accuracy    0.224\n",
            "| epoch   8 |   100/  211 batches | accuracy    0.227\n",
            "| epoch   8 |   150/  211 batches | accuracy    0.229\n",
            "| epoch   8 |   200/  211 batches | accuracy    0.232\n",
            "-----------------------------------------------------------\n",
            "| End of epoch   8 | Time: 11.92s | Train Accuracy    0.251 | Train Loss    1.993 | Valid Accuracy    0.634 | Valid Loss    1.556 \n",
            "-----------------------------------------------------------\n",
            "| epoch   9 |    50/  211 batches | accuracy    0.229\n",
            "| epoch   9 |   100/  211 batches | accuracy    0.230\n",
            "| epoch   9 |   150/  211 batches | accuracy    0.231\n",
            "| epoch   9 |   200/  211 batches | accuracy    0.238\n",
            "-----------------------------------------------------------\n",
            "| End of epoch   9 | Time: 11.76s | Train Accuracy    0.238 | Train Loss    1.981 | Valid Accuracy    0.668 | Valid Loss    1.509 \n",
            "-----------------------------------------------------------\n",
            "| epoch  10 |    50/  211 batches | accuracy    0.238\n",
            "| epoch  10 |   100/  211 batches | accuracy    0.236\n",
            "| epoch  10 |   150/  211 batches | accuracy    0.245\n",
            "| epoch  10 |   200/  211 batches | accuracy    0.248\n",
            "-----------------------------------------------------------\n",
            "| End of epoch  10 | Time: 11.97s | Train Accuracy    0.241 | Train Loss    1.968 | Valid Accuracy    0.662 | Valid Loss    1.503 \n",
            "-----------------------------------------------------------\n",
            "| epoch  11 |    50/  211 batches | accuracy    0.246\n",
            "| epoch  11 |   100/  211 batches | accuracy    0.248\n",
            "| epoch  11 |   150/  211 batches | accuracy    0.244\n",
            "| epoch  11 |   200/  211 batches | accuracy    0.259\n",
            "-----------------------------------------------------------\n",
            "| End of epoch  11 | Time: 12.00s | Train Accuracy    0.259 | Train Loss    1.946 | Valid Accuracy    0.672 | Valid Loss    1.464 \n",
            "-----------------------------------------------------------\n",
            "| epoch  12 |    50/  211 batches | accuracy    0.254\n",
            "| epoch  12 |   100/  211 batches | accuracy    0.254\n",
            "| epoch  12 |   150/  211 batches | accuracy    0.262\n",
            "| epoch  12 |   200/  211 batches | accuracy    0.257\n",
            "-----------------------------------------------------------\n",
            "| End of epoch  12 | Time: 11.91s | Train Accuracy    0.244 | Train Loss    1.934 | Valid Accuracy    0.682 | Valid Loss    1.463 \n",
            "-----------------------------------------------------------\n",
            "| epoch  13 |    50/  211 batches | accuracy    0.258\n",
            "| epoch  13 |   100/  211 batches | accuracy    0.259\n",
            "| epoch  13 |   150/  211 batches | accuracy    0.259\n",
            "| epoch  13 |   200/  211 batches | accuracy    0.266\n",
            "-----------------------------------------------------------\n",
            "| End of epoch  13 | Time: 12.00s | Train Accuracy    0.257 | Train Loss    1.918 | Valid Accuracy    0.629 | Valid Loss    1.413 \n",
            "-----------------------------------------------------------\n",
            "| epoch  14 |    50/  211 batches | accuracy    0.260\n",
            "| epoch  14 |   100/  211 batches | accuracy    0.276\n",
            "| epoch  14 |   150/  211 batches | accuracy    0.264\n",
            "| epoch  14 |   200/  211 batches | accuracy    0.268\n",
            "-----------------------------------------------------------\n",
            "| End of epoch  14 | Time: 11.91s | Train Accuracy    0.264 | Train Loss    1.904 | Valid Accuracy    0.633 | Valid Loss    1.417 \n",
            "-----------------------------------------------------------\n",
            "| epoch  15 |    50/  211 batches | accuracy    0.276\n",
            "| epoch  15 |   100/  211 batches | accuracy    0.274\n",
            "| epoch  15 |   150/  211 batches | accuracy    0.273\n",
            "| epoch  15 |   200/  211 batches | accuracy    0.268\n",
            "-----------------------------------------------------------\n",
            "| End of epoch  15 | Time: 11.76s | Train Accuracy    0.291 | Train Loss    1.895 | Valid Accuracy    0.631 | Valid Loss    1.388 \n",
            "-----------------------------------------------------------\n",
            "| epoch  16 |    50/  211 batches | accuracy    0.273\n",
            "| epoch  16 |   100/  211 batches | accuracy    0.277\n",
            "| epoch  16 |   150/  211 batches | accuracy    0.277\n",
            "| epoch  16 |   200/  211 batches | accuracy    0.269\n",
            "-----------------------------------------------------------\n",
            "| End of epoch  16 | Time: 11.92s | Train Accuracy    0.287 | Train Loss    1.890 | Valid Accuracy    0.559 | Valid Loss    1.383 \n",
            "-----------------------------------------------------------\n",
            "| epoch  17 |    50/  211 batches | accuracy    0.279\n",
            "| epoch  17 |   100/  211 batches | accuracy    0.272\n",
            "| epoch  17 |   150/  211 batches | accuracy    0.277\n",
            "| epoch  17 |   200/  211 batches | accuracy    0.279\n",
            "-----------------------------------------------------------\n",
            "| End of epoch  17 | Time: 11.90s | Train Accuracy    0.275 | Train Loss    1.877 | Valid Accuracy    0.585 | Valid Loss    1.373 \n",
            "-----------------------------------------------------------\n",
            "| epoch  18 |    50/  211 batches | accuracy    0.270\n",
            "| epoch  18 |   100/  211 batches | accuracy    0.272\n",
            "| epoch  18 |   150/  211 batches | accuracy    0.281\n",
            "| epoch  18 |   200/  211 batches | accuracy    0.278\n",
            "-----------------------------------------------------------\n",
            "| End of epoch  18 | Time: 12.09s | Train Accuracy    0.292 | Train Loss    1.867 | Valid Accuracy    0.567 | Valid Loss    1.365 \n",
            "-----------------------------------------------------------\n",
            "| epoch  19 |    50/  211 batches | accuracy    0.279\n",
            "| epoch  19 |   100/  211 batches | accuracy    0.276\n",
            "| epoch  19 |   150/  211 batches | accuracy    0.280\n",
            "| epoch  19 |   200/  211 batches | accuracy    0.278\n",
            "-----------------------------------------------------------\n",
            "| End of epoch  19 | Time: 11.89s | Train Accuracy    0.271 | Train Loss    1.864 | Valid Accuracy    0.544 | Valid Loss    1.371 \n",
            "-----------------------------------------------------------\n",
            "| epoch  20 |    50/  211 batches | accuracy    0.280\n",
            "| epoch  20 |   100/  211 batches | accuracy    0.277\n",
            "| epoch  20 |   150/  211 batches | accuracy    0.279\n",
            "| epoch  20 |   200/  211 batches | accuracy    0.280\n",
            "-----------------------------------------------------------\n",
            "| End of epoch  20 | Time: 11.90s | Train Accuracy    0.276 | Train Loss    1.854 | Valid Accuracy    0.574 | Valid Loss    1.346 \n",
            "-----------------------------------------------------------\n",
            "1.0\n",
            "| epoch   1 |    50/  211 batches | accuracy    0.113\n",
            "| epoch   1 |   100/  211 batches | accuracy    0.116\n",
            "| epoch   1 |   150/  211 batches | accuracy    0.107\n",
            "| epoch   1 |   200/  211 batches | accuracy    0.112\n",
            "-----------------------------------------------------------\n",
            "| End of epoch   1 | Time: 12.09s | Train Accuracy    0.114 | Train Loss    2.303 | Valid Accuracy    0.109 | Valid Loss    2.303 \n",
            "-----------------------------------------------------------\n",
            "| epoch   2 |    50/  211 batches | accuracy    0.113\n",
            "| epoch   2 |   100/  211 batches | accuracy    0.111\n",
            "| epoch   2 |   150/  211 batches | accuracy    0.108\n",
            "| epoch   2 |   200/  211 batches | accuracy    0.116\n",
            "-----------------------------------------------------------\n",
            "| End of epoch   2 | Time: 12.02s | Train Accuracy    0.119 | Train Loss    2.301 | Valid Accuracy    0.117 | Valid Loss    2.303 \n",
            "-----------------------------------------------------------\n",
            "| epoch   3 |    50/  211 batches | accuracy    0.114\n",
            "| epoch   3 |   100/  211 batches | accuracy    0.105\n",
            "| epoch   3 |   150/  211 batches | accuracy    0.114\n",
            "| epoch   3 |   200/  211 batches | accuracy    0.117\n",
            "-----------------------------------------------------------\n",
            "| End of epoch   3 | Time: 11.95s | Train Accuracy    0.110 | Train Loss    2.301 | Valid Accuracy    0.119 | Valid Loss    2.303 \n",
            "-----------------------------------------------------------\n",
            "| epoch   4 |    50/  211 batches | accuracy    0.112\n",
            "| epoch   4 |   100/  211 batches | accuracy    0.111\n",
            "| epoch   4 |   150/  211 batches | accuracy    0.116\n",
            "| epoch   4 |   200/  211 batches | accuracy    0.110\n",
            "-----------------------------------------------------------\n",
            "| End of epoch   4 | Time: 11.97s | Train Accuracy    0.113 | Train Loss    2.301 | Valid Accuracy    0.124 | Valid Loss    2.303 \n",
            "-----------------------------------------------------------\n",
            "| epoch   5 |    50/  211 batches | accuracy    0.112\n",
            "| epoch   5 |   100/  211 batches | accuracy    0.109\n",
            "| epoch   5 |   150/  211 batches | accuracy    0.115\n",
            "| epoch   5 |   200/  211 batches | accuracy    0.114\n",
            "-----------------------------------------------------------\n",
            "| End of epoch   5 | Time: 11.76s | Train Accuracy    0.107 | Train Loss    2.301 | Valid Accuracy    0.120 | Valid Loss    2.303 \n",
            "-----------------------------------------------------------\n",
            "| epoch   6 |    50/  211 batches | accuracy    0.116\n",
            "| epoch   6 |   100/  211 batches | accuracy    0.112\n",
            "| epoch   6 |   150/  211 batches | accuracy    0.116\n",
            "| epoch   6 |   200/  211 batches | accuracy    0.106\n",
            "-----------------------------------------------------------\n",
            "| End of epoch   6 | Time: 11.86s | Train Accuracy    0.112 | Train Loss    2.301 | Valid Accuracy    0.124 | Valid Loss    2.303 \n",
            "-----------------------------------------------------------\n",
            "| epoch   7 |    50/  211 batches | accuracy    0.115\n",
            "| epoch   7 |   100/  211 batches | accuracy    0.110\n",
            "| epoch   7 |   150/  211 batches | accuracy    0.113\n",
            "| epoch   7 |   200/  211 batches | accuracy    0.110\n",
            "-----------------------------------------------------------\n",
            "| End of epoch   7 | Time: 12.07s | Train Accuracy    0.117 | Train Loss    2.301 | Valid Accuracy    0.125 | Valid Loss    2.303 \n",
            "-----------------------------------------------------------\n",
            "| epoch   8 |    50/  211 batches | accuracy    0.110\n",
            "| epoch   8 |   100/  211 batches | accuracy    0.116\n",
            "| epoch   8 |   150/  211 batches | accuracy    0.112\n",
            "| epoch   8 |   200/  211 batches | accuracy    0.111\n",
            "-----------------------------------------------------------\n",
            "| End of epoch   8 | Time: 11.86s | Train Accuracy    0.116 | Train Loss    2.301 | Valid Accuracy    0.124 | Valid Loss    2.303 \n",
            "-----------------------------------------------------------\n",
            "| epoch   9 |    50/  211 batches | accuracy    0.114\n",
            "| epoch   9 |   100/  211 batches | accuracy    0.110\n",
            "| epoch   9 |   150/  211 batches | accuracy    0.114\n",
            "| epoch   9 |   200/  211 batches | accuracy    0.110\n",
            "-----------------------------------------------------------\n",
            "| End of epoch   9 | Time: 11.92s | Train Accuracy    0.118 | Train Loss    2.301 | Valid Accuracy    0.122 | Valid Loss    2.303 \n",
            "-----------------------------------------------------------\n",
            "| epoch  10 |    50/  211 batches | accuracy    0.112\n",
            "| epoch  10 |   100/  211 batches | accuracy    0.113\n",
            "| epoch  10 |   150/  211 batches | accuracy    0.113\n",
            "| epoch  10 |   200/  211 batches | accuracy    0.112\n",
            "-----------------------------------------------------------\n",
            "| End of epoch  10 | Time: 11.75s | Train Accuracy    0.107 | Train Loss    2.301 | Valid Accuracy    0.123 | Valid Loss    2.303 \n",
            "-----------------------------------------------------------\n",
            "| epoch  11 |    50/  211 batches | accuracy    0.114\n",
            "| epoch  11 |   100/  211 batches | accuracy    0.112\n",
            "| epoch  11 |   150/  211 batches | accuracy    0.110\n",
            "| epoch  11 |   200/  211 batches | accuracy    0.113\n",
            "-----------------------------------------------------------\n",
            "| End of epoch  11 | Time: 11.73s | Train Accuracy    0.110 | Train Loss    2.301 | Valid Accuracy    0.122 | Valid Loss    2.303 \n",
            "-----------------------------------------------------------\n",
            "| epoch  12 |    50/  211 batches | accuracy    0.115\n",
            "| epoch  12 |   100/  211 batches | accuracy    0.108\n",
            "| epoch  12 |   150/  211 batches | accuracy    0.113\n",
            "| epoch  12 |   200/  211 batches | accuracy    0.112\n",
            "-----------------------------------------------------------\n",
            "| End of epoch  12 | Time: 11.86s | Train Accuracy    0.115 | Train Loss    2.301 | Valid Accuracy    0.122 | Valid Loss    2.303 \n",
            "-----------------------------------------------------------\n",
            "| epoch  13 |    50/  211 batches | accuracy    0.110\n",
            "| epoch  13 |   100/  211 batches | accuracy    0.110\n",
            "| epoch  13 |   150/  211 batches | accuracy    0.116\n",
            "| epoch  13 |   200/  211 batches | accuracy    0.112\n",
            "-----------------------------------------------------------\n",
            "| End of epoch  13 | Time: 11.67s | Train Accuracy    0.117 | Train Loss    2.301 | Valid Accuracy    0.120 | Valid Loss    2.303 \n",
            "-----------------------------------------------------------\n",
            "| epoch  14 |    50/  211 batches | accuracy    0.111\n",
            "| epoch  14 |   100/  211 batches | accuracy    0.110\n",
            "| epoch  14 |   150/  211 batches | accuracy    0.113\n",
            "| epoch  14 |   200/  211 batches | accuracy    0.115\n",
            "-----------------------------------------------------------\n",
            "| End of epoch  14 | Time: 11.74s | Train Accuracy    0.113 | Train Loss    2.301 | Valid Accuracy    0.122 | Valid Loss    2.303 \n",
            "-----------------------------------------------------------\n",
            "| epoch  15 |    50/  211 batches | accuracy    0.114\n",
            "| epoch  15 |   100/  211 batches | accuracy    0.111\n",
            "| epoch  15 |   150/  211 batches | accuracy    0.115\n",
            "| epoch  15 |   200/  211 batches | accuracy    0.110\n",
            "-----------------------------------------------------------\n",
            "| End of epoch  15 | Time: 11.89s | Train Accuracy    0.110 | Train Loss    2.301 | Valid Accuracy    0.123 | Valid Loss    2.303 \n",
            "-----------------------------------------------------------\n",
            "| epoch  16 |    50/  211 batches | accuracy    0.113\n",
            "| epoch  16 |   100/  211 batches | accuracy    0.115\n",
            "| epoch  16 |   150/  211 batches | accuracy    0.111\n",
            "| epoch  16 |   200/  211 batches | accuracy    0.110\n",
            "-----------------------------------------------------------\n",
            "| End of epoch  16 | Time: 11.95s | Train Accuracy    0.112 | Train Loss    2.301 | Valid Accuracy    0.124 | Valid Loss    2.303 \n",
            "-----------------------------------------------------------\n",
            "| epoch  17 |    50/  211 batches | accuracy    0.113\n",
            "| epoch  17 |   100/  211 batches | accuracy    0.113\n",
            "| epoch  17 |   150/  211 batches | accuracy    0.111\n",
            "| epoch  17 |   200/  211 batches | accuracy    0.112\n",
            "-----------------------------------------------------------\n",
            "| End of epoch  17 | Time: 11.82s | Train Accuracy    0.111 | Train Loss    2.301 | Valid Accuracy    0.123 | Valid Loss    2.303 \n",
            "-----------------------------------------------------------\n",
            "| epoch  18 |    50/  211 batches | accuracy    0.108\n",
            "| epoch  18 |   100/  211 batches | accuracy    0.112\n",
            "| epoch  18 |   150/  211 batches | accuracy    0.116\n",
            "| epoch  18 |   200/  211 batches | accuracy    0.115\n",
            "-----------------------------------------------------------\n",
            "| End of epoch  18 | Time: 11.77s | Train Accuracy    0.101 | Train Loss    2.301 | Valid Accuracy    0.120 | Valid Loss    2.303 \n",
            "-----------------------------------------------------------\n",
            "| epoch  19 |    50/  211 batches | accuracy    0.113\n",
            "| epoch  19 |   100/  211 batches | accuracy    0.108\n",
            "| epoch  19 |   150/  211 batches | accuracy    0.113\n",
            "| epoch  19 |   200/  211 batches | accuracy    0.113\n",
            "-----------------------------------------------------------\n",
            "| End of epoch  19 | Time: 11.76s | Train Accuracy    0.127 | Train Loss    2.301 | Valid Accuracy    0.123 | Valid Loss    2.303 \n",
            "-----------------------------------------------------------\n",
            "| epoch  20 |    50/  211 batches | accuracy    0.112\n",
            "| epoch  20 |   100/  211 batches | accuracy    0.112\n",
            "| epoch  20 |   150/  211 batches | accuracy    0.113\n",
            "| epoch  20 |   200/  211 batches | accuracy    0.111\n",
            "-----------------------------------------------------------\n",
            "| End of epoch  20 | Time: 11.87s | Train Accuracy    0.115 | Train Loss    2.301 | Valid Accuracy    0.120 | Valid Loss    2.303 \n",
            "-----------------------------------------------------------\n"
          ]
        }
      ],
      "source": [
        "metrics = []\n",
        "p_dropouts = [0.0, 0.1, 0.2, 0.3, 0.4, 0.5, 0.6, 0.7, 0.8, 0.9, 1.0]\n",
        "for p in p_dropouts:\n",
        "    print(p)\n",
        "    dropout_model = nn.Sequential(\n",
        "        nn.Conv2d(1, 6, 5, stride=2),\n",
        "        nn.Flatten(),\n",
        "        nn.Linear(6 * 12 * 12, 64),\n",
        "        nn.ReLU(),\n",
        "        nn.Dropout(p),\n",
        "        nn.Linear(64, 32),\n",
        "        nn.ReLU(),\n",
        "        nn.Dropout(p),\n",
        "        nn.Linear(32, 10)\n",
        "    )\n",
        "\n",
        "    dropout_model.to(device)\n",
        "\n",
        "    criterion = torch.nn.CrossEntropyLoss()\n",
        "    optimizer = optim.Adam(dropout_model.parameters())\n",
        "\n",
        "    num_epochs = 20\n",
        "    save_model = './model'\n",
        "    os.makedirs(save_model, exist_ok = True)\n",
        "    model_name = 'dropout_model'\n",
        "\n",
        "    dropout_model, dropout_metrics = train(\n",
        "        dropout_model, model_name, optimizer, criterion, train_dataloader, valid_dataloader, num_epochs, device\n",
        "    )\n",
        "    test_acc, test_loss = evaluate_epoch(dropout_model, criterion, test_dataloader)\n",
        "    dropout_metrics['test_accuracy'] = test_acc\n",
        "    dropout_metrics['test_loss'] = test_loss\n",
        "    metrics.append(dropout_metrics)"
      ]
    },
    {
      "cell_type": "code",
      "execution_count": 98,
      "metadata": {
        "colab": {
          "base_uri": "https://localhost:8080/",
          "height": 560
        },
        "id": "uNBPyhgFPUmz",
        "outputId": "0fa36dac-625a-4423-b236-fad41f19cd18"
      },
      "outputs": [
        {
          "data": {
            "text/plain": [
              "<matplotlib.legend.Legend at 0x7a072195edd0>"
            ]
          },
          "execution_count": 98,
          "metadata": {},
          "output_type": "execute_result"
        },
        {
          "data": {
            "image/png": "[encoded data removed]",
            "text/plain": [
              "<Figure size 1200x600 with 2 Axes>"
            ]
          },
          "metadata": {},
          "output_type": "display_data"
        }
      ],
      "source": [
        "epochs = list(range(num_epochs))\n",
        "fig, axs = plt.subplots(nrows = 1, ncols =2 , figsize = (12,6))\n",
        "\n",
        "for idx, metric in enumerate(metrics):\n",
        "    axs[0].plot(epochs, metric['valid_loss'], label=p_dropouts[idx])\n",
        "    axs[1].plot(epochs, metric['valid_accuracy'], label=p_dropouts[idx])\n",
        "axs[0].set_xlabel(\"P\")\n",
        "axs[1].set_xlabel(\"P\")\n",
        "axs[0].set_ylabel(\"Evaluation Loss\")\n",
        "axs[1].set_ylabel(\"Evaluation Accuracy\")\n",
        "plt.legend()"
      ]
    },
    {
      "cell_type": "code",
      "execution_count": 99,
      "metadata": {
        "colab": {
          "base_uri": "https://localhost:8080/",
          "height": 430
        },
        "id": "aak_KagNZ26G",
        "outputId": "c2b39f14-7ec8-4e79-c4b3-78a1e4e4fa84"
      },
      "outputs": [
        {
          "data": {
            "image/png": "[encoded data removed]",
            "text/plain": [
              "<Figure size 640x480 with 1 Axes>"
            ]
          },
          "metadata": {},
          "output_type": "display_data"
        }
      ],
      "source": [
        "plt.plot(p_dropouts, [sum(metric['time'])/len(metric['time']) for metric in metrics])\n",
        "plt.show()"
      ]
    },
    {
      "cell_type": "markdown",
      "metadata": {
        "id": "rXtYv1_eaBwX"
      },
      "source": [
        "**Skip Connection**"
      ]
    },
    {
      "cell_type": "code",
      "execution_count": 100,
      "metadata": {
        "id": "J6-oQdOVZ6xy"
      },
      "outputs": [],
      "source": [
        "import numpy as np\n",
        "np.random.seed(seed=941)\n",
        "SEED = 1\n",
        "torch.manual_seed(SEED)\n",
        "torch.cuda.manual_seed(SEED)\n",
        "torch.backends.cudnn.deterministic = True\n",
        "\n",
        "x = np.random.randint(low=0, high=255, size=(3, 3)).astype(np.float64)\n",
        "x = torch.tensor(x, dtype=torch.float32).unsqueeze(0).unsqueeze(0)"
      ]
    },
    {
      "cell_type": "code",
      "execution_count": 101,
      "metadata": {
        "id": "lLcenh9FaFp_"
      },
      "outputs": [],
      "source": [
        "import torch\n",
        "import torch.nn as nn\n",
        "import torch.nn.functional as F\n",
        "\n",
        "class SimpleResBlock(nn.Module):\n",
        "    def __init__(self, in_channels):\n",
        "        super(SimpleResBlock, self).__init__()\n",
        "        self.conv1 = nn.Conv2d(in_channels, in_channels, kernel_size=3, padding=1)\n",
        "        self.bn1 = nn.BatchNorm2d(in_channels)\n",
        "        self.conv2 = nn.Conv2d(in_channels, in_channels, kernel_size=3, padding=1)\n",
        "        self.bn2 = nn.BatchNorm2d(in_channels)\n",
        "\n",
        "    def forward(self, x):\n",
        "        identity = x\n",
        "        print('1', identity)\n",
        "        out = self.conv1(x)\n",
        "        print('2', out)\n",
        "        out = self.bn1(out)\n",
        "        print('3', out)\n",
        "        out = F.relu(out)\n",
        "        print('4', out)\n",
        "        out = self.conv2(out)\n",
        "        print('5', out)\n",
        "        out = self.bn2(out)\n",
        "        print('6', out)\n",
        "        out += identity\n",
        "        print('7', out)\n",
        "        out = F.relu(out)\n",
        "\n",
        "        return out"
      ]
    },
    {
      "cell_type": "code",
      "execution_count": 102,
      "metadata": {
        "colab": {
          "base_uri": "https://localhost:8080/"
        },
        "id": "DzpEmthlaHvl",
        "outputId": "b92754c7-d8e7-4992-fa14-91c09cf7df99"
      },
      "outputs": [
        {
          "name": "stdout",
          "output_type": "stream",
          "text": [
            "1 tensor([[[[ 72., 106., 128.],\n",
            "          [242.,  26., 108.],\n",
            "          [208., 213.,  54.]]]])\n",
            "2 tensor([[[[ 40.7982,  -3.6336,  -7.0926],\n",
            "          [-43.0856,  64.1113, -35.9400],\n",
            "          [-60.0185,   7.2153,   4.9145]]]], grad_fn=<ConvolutionBackward0>)\n",
            "3 tensor([[[[ 1.1901e+00,  8.5362e-05, -9.2560e-02],\n",
            "          [-1.0566e+00,  1.8146e+00, -8.6521e-01],\n",
            "          [-1.5101e+00,  2.9066e-01,  2.2904e-01]]]],\n",
            "       grad_fn=<NativeBatchNormBackward0>)\n",
            "4 tensor([[[[1.1901e+00, 8.5362e-05, 0.0000e+00],\n",
            "          [0.0000e+00, 1.8146e+00, 0.0000e+00],\n",
            "          [0.0000e+00, 2.9066e-01, 2.2904e-01]]]], grad_fn=<ReluBackward0>)\n",
            "5 tensor([[[[ 0.6035, -0.0533,  0.1914],\n",
            "          [ 0.1536,  0.2360, -0.1182],\n",
            "          [ 0.3159,  0.1196,  0.2282]]]], grad_fn=<ConvolutionBackward0>)\n",
            "6 tensor([[[[ 2.1131, -1.2134,  0.0258],\n",
            "          [-0.1658,  0.2518, -1.5423],\n",
            "          [ 0.6564, -0.3376,  0.2120]]]], grad_fn=<NativeBatchNormBackward0>)\n",
            "7 tensor([[[[ 74.1131, 104.7866, 128.0258],\n",
            "          [241.8342,  26.2518, 106.4577],\n",
            "          [208.6564, 212.6624,  54.2120]]]], grad_fn=<AddBackward0>)\n"
          ]
        },
        {
          "data": {
            "text/plain": [
              "tensor([[[[ 74.1131, 104.7866, 128.0258],\n",
              "          [241.8342,  26.2518, 106.4577],\n",
              "          [208.6564, 212.6624,  54.2120]]]], grad_fn=<ReluBackward0>)"
            ]
          },
          "execution_count": 102,
          "metadata": {},
          "output_type": "execute_result"
        }
      ],
      "source": [
        "in_channels = 1\n",
        "skip_connection_model = SimpleResBlock(in_channels)\n",
        "\n",
        "skip_connection_model(x)"
      ]
    },
    {
      "cell_type": "markdown",
      "metadata": {
        "id": "oTGMct7IaLUF"
      },
      "source": [
        "**MNIST Classification**"
      ]
    },
    {
      "cell_type": "code",
      "execution_count": 103,
      "metadata": {
        "id": "uu9HJ8ESaJbh"
      },
      "outputs": [],
      "source": [
        "import torch\n",
        "import torch.nn as nn\n",
        "import torch.nn.functional as F\n",
        "\n",
        "class SimpleBlock(nn.Module):\n",
        "    def __init__(self, in_channels, out_channels):\n",
        "        super(SimpleBlock, self).__init__()\n",
        "        self.conv1 = nn.Conv2d(in_channels, out_channels, kernel_size=3, padding=1)\n",
        "        self.bn1 = nn.BatchNorm2d(out_channels)\n",
        "        self.conv2 = nn.Conv2d(out_channels, out_channels, kernel_size=3, padding=1)\n",
        "        self.bn2 = nn.BatchNorm2d(out_channels)\n",
        "\n",
        "    def forward(self, x):\n",
        "        identity = x\n",
        "        out = self.conv1(x)\n",
        "        out = self.bn1(out)\n",
        "        out = F.relu(out)\n",
        "\n",
        "        out = self.conv2(out)\n",
        "        out = self.bn2(out)\n",
        "\n",
        "        out += identity\n",
        "\n",
        "        out = F.relu(out)\n",
        "\n",
        "        return out\n",
        "\n",
        "class SimpleNet(nn.Module):\n",
        "    def __init__(self, in_channels, num_classes, num_blocks, block_channels):\n",
        "        super(SimpleNet, self).__init__()\n",
        "        layers = []\n",
        "        for i in range(num_blocks):\n",
        "            layers.append(SimpleBlock(in_channels if i == 0 else block_channels, block_channels))\n",
        "        self.blocks = nn.Sequential(*layers)\n",
        "        self.fc = nn.Linear(block_channels, num_classes)  # Fully connected layer\n",
        "\n",
        "    def forward(self, x):\n",
        "        out = self.blocks(x)\n",
        "\n",
        "        # Flattening and fully connected layer\n",
        "        out = F.adaptive_avg_pool2d(out, (1, 1))  # Adaptive pooling to size (1, 1)\n",
        "        out = torch.flatten(out, 1)  # Flatten the tensor\n",
        "        out = self.fc(out)  # Fully connected layer\n",
        "\n",
        "        return out"
      ]
    },
    {
      "cell_type": "code",
      "execution_count": 104,
      "metadata": {
        "id": "nC4xb7uBaP9z"
      },
      "outputs": [],
      "source": [
        "in_channels = 1\n",
        "skip_connection_model = SimpleNet(in_channels, num_classes=len(train_data.dataset.classes), num_blocks=4, block_channels=32)"
      ]
    },
    {
      "cell_type": "code",
      "execution_count": 105,
      "metadata": {
        "id": "Nb-80r7GaR6o"
      },
      "outputs": [],
      "source": [
        "device = torch.device(\"cuda\" if torch.cuda.is_available() else \"cpu\")\n",
        "skip_connection_model = skip_connection_model.to(device)"
      ]
    },
    {
      "cell_type": "code",
      "execution_count": 106,
      "metadata": {
        "colab": {
          "base_uri": "https://localhost:8080/"
        },
        "id": "oHNTET_jaThm",
        "outputId": "1351718f-984a-4ceb-bf35-acbd9e38c903"
      },
      "outputs": [
        {
          "name": "stdout",
          "output_type": "stream",
          "text": [
            "==========================================================================================\n",
            "Layer (type:depth-idx)                   Output Shape              Param #\n",
            "==========================================================================================\n",
            "├─Sequential: 1-1                        [-1, 32, 28, 28]          --\n",
            "|    └─SimpleBlock: 2-1                  [-1, 32, 28, 28]          --\n",
            "|    |    └─Conv2d: 3-1                  [-1, 32, 28, 28]          320\n",
            "|    |    └─BatchNorm2d: 3-2             [-1, 32, 28, 28]          64\n",
            "|    |    └─Conv2d: 3-3                  [-1, 32, 28, 28]          9,248\n",
            "|    |    └─BatchNorm2d: 3-4             [-1, 32, 28, 28]          64\n",
            "|    └─SimpleBlock: 2-2                  [-1, 32, 28, 28]          --\n",
            "|    |    └─Conv2d: 3-5                  [-1, 32, 28, 28]          9,248\n",
            "|    |    └─BatchNorm2d: 3-6             [-1, 32, 28, 28]          64\n",
            "|    |    └─Conv2d: 3-7                  [-1, 32, 28, 28]          9,248\n",
            "|    |    └─BatchNorm2d: 3-8             [-1, 32, 28, 28]          64\n",
            "|    └─SimpleBlock: 2-3                  [-1, 32, 28, 28]          --\n",
            "|    |    └─Conv2d: 3-9                  [-1, 32, 28, 28]          9,248\n",
            "|    |    └─BatchNorm2d: 3-10            [-1, 32, 28, 28]          64\n",
            "|    |    └─Conv2d: 3-11                 [-1, 32, 28, 28]          9,248\n",
            "|    |    └─BatchNorm2d: 3-12            [-1, 32, 28, 28]          64\n",
            "|    └─SimpleBlock: 2-4                  [-1, 32, 28, 28]          --\n",
            "|    |    └─Conv2d: 3-13                 [-1, 32, 28, 28]          9,248\n",
            "|    |    └─BatchNorm2d: 3-14            [-1, 32, 28, 28]          64\n",
            "|    |    └─Conv2d: 3-15                 [-1, 32, 28, 28]          9,248\n",
            "|    |    └─BatchNorm2d: 3-16            [-1, 32, 28, 28]          64\n",
            "├─Linear: 1-2                            [-1, 10]                  330\n",
            "==========================================================================================\n",
            "Total params: 65,898\n",
            "Trainable params: 65,898\n",
            "Non-trainable params: 0\n",
            "Total mult-adds (M): 50.93\n",
            "==========================================================================================\n",
            "Input size (MB): 0.00\n",
            "Forward/backward pass size (MB): 3.06\n",
            "Params size (MB): 0.25\n",
            "Estimated Total Size (MB): 3.32\n",
            "==========================================================================================\n"
          ]
        },
        {
          "data": {
            "text/plain": [
              "==========================================================================================\n",
              "Layer (type:depth-idx)                   Output Shape              Param #\n",
              "==========================================================================================\n",
              "├─Sequential: 1-1                        [-1, 32, 28, 28]          --\n",
              "|    └─SimpleBlock: 2-1                  [-1, 32, 28, 28]          --\n",
              "|    |    └─Conv2d: 3-1                  [-1, 32, 28, 28]          320\n",
              "|    |    └─BatchNorm2d: 3-2             [-1, 32, 28, 28]          64\n",
              "|    |    └─Conv2d: 3-3                  [-1, 32, 28, 28]          9,248\n",
              "|    |    └─BatchNorm2d: 3-4             [-1, 32, 28, 28]          64\n",
              "|    └─SimpleBlock: 2-2                  [-1, 32, 28, 28]          --\n",
              "|    |    └─Conv2d: 3-5                  [-1, 32, 28, 28]          9,248\n",
              "|    |    └─BatchNorm2d: 3-6             [-1, 32, 28, 28]          64\n",
              "|    |    └─Conv2d: 3-7                  [-1, 32, 28, 28]          9,248\n",
              "|    |    └─BatchNorm2d: 3-8             [-1, 32, 28, 28]          64\n",
              "|    └─SimpleBlock: 2-3                  [-1, 32, 28, 28]          --\n",
              "|    |    └─Conv2d: 3-9                  [-1, 32, 28, 28]          9,248\n",
              "|    |    └─BatchNorm2d: 3-10            [-1, 32, 28, 28]          64\n",
              "|    |    └─Conv2d: 3-11                 [-1, 32, 28, 28]          9,248\n",
              "|    |    └─BatchNorm2d: 3-12            [-1, 32, 28, 28]          64\n",
              "|    └─SimpleBlock: 2-4                  [-1, 32, 28, 28]          --\n",
              "|    |    └─Conv2d: 3-13                 [-1, 32, 28, 28]          9,248\n",
              "|    |    └─BatchNorm2d: 3-14            [-1, 32, 28, 28]          64\n",
              "|    |    └─Conv2d: 3-15                 [-1, 32, 28, 28]          9,248\n",
              "|    |    └─BatchNorm2d: 3-16            [-1, 32, 28, 28]          64\n",
              "├─Linear: 1-2                            [-1, 10]                  330\n",
              "==========================================================================================\n",
              "Total params: 65,898\n",
              "Trainable params: 65,898\n",
              "Non-trainable params: 0\n",
              "Total mult-adds (M): 50.93\n",
              "==========================================================================================\n",
              "Input size (MB): 0.00\n",
              "Forward/backward pass size (MB): 3.06\n",
              "Params size (MB): 0.25\n",
              "Estimated Total Size (MB): 3.32\n",
              "=========================================================================================="
            ]
          },
          "execution_count": 106,
          "metadata": {},
          "output_type": "execute_result"
        }
      ],
      "source": [
        "summary(skip_connection_model, (1, 28, 28))"
      ]
    },
    {
      "cell_type": "code",
      "execution_count": 107,
      "metadata": {
        "colab": {
          "base_uri": "https://localhost:8080/"
        },
        "id": "45YCQ9JyaU2V",
        "outputId": "c14fd217-6814-4874-ad89-d74675e3da15"
      },
      "outputs": [
        {
          "name": "stdout",
          "output_type": "stream",
          "text": [
            "| epoch   1 |    50/  211 batches | accuracy    0.366\n",
            "| epoch   1 |   100/  211 batches | accuracy    0.810\n",
            "| epoch   1 |   150/  211 batches | accuracy    0.928\n",
            "| epoch   1 |   200/  211 batches | accuracy    0.956\n",
            "-----------------------------------------------------------\n",
            "| End of epoch   1 | Time: 21.70s | Train Accuracy    0.957 | Train Loss    1.007 | Valid Accuracy    0.926 | Valid Loss    0.411 \n",
            "-----------------------------------------------------------\n",
            "| epoch   2 |    50/  211 batches | accuracy    0.966\n",
            "| epoch   2 |   100/  211 batches | accuracy    0.969\n",
            "| epoch   2 |   150/  211 batches | accuracy    0.970\n",
            "| epoch   2 |   200/  211 batches | accuracy    0.976\n",
            "-----------------------------------------------------------\n",
            "| End of epoch   2 | Time: 21.23s | Train Accuracy    0.977 | Train Loss    0.178 | Valid Accuracy    0.962 | Valid Loss    0.168 \n",
            "-----------------------------------------------------------\n",
            "| epoch   3 |    50/  211 batches | accuracy    0.981\n",
            "| epoch   3 |   100/  211 batches | accuracy    0.981\n",
            "| epoch   3 |   150/  211 batches | accuracy    0.981\n",
            "| epoch   3 |   200/  211 batches | accuracy    0.979\n",
            "-----------------------------------------------------------\n",
            "| End of epoch   3 | Time: 20.74s | Train Accuracy    0.982 | Train Loss    0.099 | Valid Accuracy    0.968 | Valid Loss    0.134 \n",
            "-----------------------------------------------------------\n",
            "| epoch   4 |    50/  211 batches | accuracy    0.982\n",
            "| epoch   4 |   100/  211 batches | accuracy    0.984\n",
            "| epoch   4 |   150/  211 batches | accuracy    0.985\n",
            "| epoch   4 |   200/  211 batches | accuracy    0.985\n",
            "-----------------------------------------------------------\n",
            "| End of epoch   4 | Time: 20.83s | Train Accuracy    0.987 | Train Loss    0.072 | Valid Accuracy    0.984 | Valid Loss    0.065 \n",
            "-----------------------------------------------------------\n",
            "| epoch   5 |    50/  211 batches | accuracy    0.987\n",
            "| epoch   5 |   100/  211 batches | accuracy    0.987\n",
            "| epoch   5 |   150/  211 batches | accuracy    0.985\n",
            "| epoch   5 |   200/  211 batches | accuracy    0.986\n",
            "-----------------------------------------------------------\n",
            "| End of epoch   5 | Time: 21.47s | Train Accuracy    0.985 | Train Loss    0.059 | Valid Accuracy    0.956 | Valid Loss    0.142 \n",
            "-----------------------------------------------------------\n",
            "| epoch   6 |    50/  211 batches | accuracy    0.987\n",
            "| epoch   6 |   100/  211 batches | accuracy    0.989\n",
            "| epoch   6 |   150/  211 batches | accuracy    0.988\n",
            "| epoch   6 |   200/  211 batches | accuracy    0.988\n",
            "-----------------------------------------------------------\n",
            "| End of epoch   6 | Time: 20.94s | Train Accuracy    0.988 | Train Loss    0.050 | Valid Accuracy    0.920 | Valid Loss    0.240 \n",
            "-----------------------------------------------------------\n",
            "| epoch   7 |    50/  211 batches | accuracy    0.989\n",
            "| epoch   7 |   100/  211 batches | accuracy    0.988\n",
            "| epoch   7 |   150/  211 batches | accuracy    0.989\n",
            "| epoch   7 |   200/  211 batches | accuracy    0.991\n",
            "-----------------------------------------------------------\n",
            "| End of epoch   7 | Time: 20.73s | Train Accuracy    0.989 | Train Loss    0.043 | Valid Accuracy    0.974 | Valid Loss    0.088 \n",
            "-----------------------------------------------------------\n",
            "| epoch   8 |    50/  211 batches | accuracy    0.990\n",
            "| epoch   8 |   100/  211 batches | accuracy    0.990\n",
            "| epoch   8 |   150/  211 batches | accuracy    0.989\n",
            "| epoch   8 |   200/  211 batches | accuracy    0.991\n",
            "-----------------------------------------------------------\n",
            "| End of epoch   8 | Time: 20.87s | Train Accuracy    0.989 | Train Loss    0.039 | Valid Accuracy    0.968 | Valid Loss    0.104 \n",
            "-----------------------------------------------------------\n",
            "| epoch   9 |    50/  211 batches | accuracy    0.990\n",
            "| epoch   9 |   100/  211 batches | accuracy    0.990\n",
            "| epoch   9 |   150/  211 batches | accuracy    0.991\n",
            "| epoch   9 |   200/  211 batches | accuracy    0.990\n",
            "-----------------------------------------------------------\n",
            "| End of epoch   9 | Time: 21.27s | Train Accuracy    0.993 | Train Loss    0.035 | Valid Accuracy    0.978 | Valid Loss    0.081 \n",
            "-----------------------------------------------------------\n",
            "| epoch  10 |    50/  211 batches | accuracy    0.992\n",
            "| epoch  10 |   100/  211 batches | accuracy    0.992\n",
            "| epoch  10 |   150/  211 batches | accuracy    0.991\n",
            "| epoch  10 |   200/  211 batches | accuracy    0.991\n",
            "-----------------------------------------------------------\n",
            "| End of epoch  10 | Time: 21.24s | Train Accuracy    0.992 | Train Loss    0.032 | Valid Accuracy    0.976 | Valid Loss    0.078 \n",
            "-----------------------------------------------------------\n",
            "| epoch  11 |    50/  211 batches | accuracy    0.992\n",
            "| epoch  11 |   100/  211 batches | accuracy    0.992\n",
            "| epoch  11 |   150/  211 batches | accuracy    0.993\n",
            "| epoch  11 |   200/  211 batches | accuracy    0.993\n",
            "-----------------------------------------------------------\n",
            "| End of epoch  11 | Time: 20.82s | Train Accuracy    0.993 | Train Loss    0.029 | Valid Accuracy    0.909 | Valid Loss    0.259 \n",
            "-----------------------------------------------------------\n",
            "| epoch  12 |    50/  211 batches | accuracy    0.993\n",
            "| epoch  12 |   100/  211 batches | accuracy    0.993\n",
            "| epoch  12 |   150/  211 batches | accuracy    0.991\n",
            "| epoch  12 |   200/  211 batches | accuracy    0.992\n",
            "-----------------------------------------------------------\n",
            "| End of epoch  12 | Time: 20.81s | Train Accuracy    0.992 | Train Loss    0.029 | Valid Accuracy    0.978 | Valid Loss    0.071 \n",
            "-----------------------------------------------------------\n",
            "| epoch  13 |    50/  211 batches | accuracy    0.992\n",
            "| epoch  13 |   100/  211 batches | accuracy    0.994\n",
            "| epoch  13 |   150/  211 batches | accuracy    0.993\n",
            "| epoch  13 |   200/  211 batches | accuracy    0.992\n",
            "-----------------------------------------------------------\n",
            "| End of epoch  13 | Time: 21.00s | Train Accuracy    0.993 | Train Loss    0.027 | Valid Accuracy    0.935 | Valid Loss    0.181 \n",
            "-----------------------------------------------------------\n",
            "| epoch  14 |    50/  211 batches | accuracy    0.992\n",
            "| epoch  14 |   100/  211 batches | accuracy    0.993\n",
            "| epoch  14 |   150/  211 batches | accuracy    0.993\n",
            "| epoch  14 |   200/  211 batches | accuracy    0.995\n",
            "-----------------------------------------------------------\n",
            "| End of epoch  14 | Time: 20.99s | Train Accuracy    0.995 | Train Loss    0.025 | Valid Accuracy    0.987 | Valid Loss    0.042 \n",
            "-----------------------------------------------------------\n",
            "| epoch  15 |    50/  211 batches | accuracy    0.995\n",
            "| epoch  15 |   100/  211 batches | accuracy    0.995\n",
            "| epoch  15 |   150/  211 batches | accuracy    0.995\n",
            "| epoch  15 |   200/  211 batches | accuracy    0.993\n",
            "-----------------------------------------------------------\n",
            "| End of epoch  15 | Time: 20.95s | Train Accuracy    0.995 | Train Loss    0.021 | Valid Accuracy    0.969 | Valid Loss    0.090 \n",
            "-----------------------------------------------------------\n",
            "| epoch  16 |    50/  211 batches | accuracy    0.994\n",
            "| epoch  16 |   100/  211 batches | accuracy    0.994\n",
            "| epoch  16 |   150/  211 batches | accuracy    0.995\n",
            "| epoch  16 |   200/  211 batches | accuracy    0.994\n",
            "-----------------------------------------------------------\n",
            "| End of epoch  16 | Time: 20.87s | Train Accuracy    0.994 | Train Loss    0.021 | Valid Accuracy    0.975 | Valid Loss    0.084 \n",
            "-----------------------------------------------------------\n",
            "| epoch  17 |    50/  211 batches | accuracy    0.996\n",
            "| epoch  17 |   100/  211 batches | accuracy    0.995\n",
            "| epoch  17 |   150/  211 batches | accuracy    0.995\n",
            "| epoch  17 |   200/  211 batches | accuracy    0.993\n",
            "-----------------------------------------------------------\n",
            "| End of epoch  17 | Time: 20.95s | Train Accuracy    0.993 | Train Loss    0.020 | Valid Accuracy    0.952 | Valid Loss    0.140 \n",
            "-----------------------------------------------------------\n",
            "| epoch  18 |    50/  211 batches | accuracy    0.995\n",
            "| epoch  18 |   100/  211 batches | accuracy    0.994\n",
            "| epoch  18 |   150/  211 batches | accuracy    0.995\n",
            "| epoch  18 |   200/  211 batches | accuracy    0.993\n",
            "-----------------------------------------------------------\n",
            "| End of epoch  18 | Time: 20.92s | Train Accuracy    0.991 | Train Loss    0.020 | Valid Accuracy    0.963 | Valid Loss    0.103 \n",
            "-----------------------------------------------------------\n",
            "| epoch  19 |    50/  211 batches | accuracy    0.995\n",
            "| epoch  19 |   100/  211 batches | accuracy    0.996\n",
            "| epoch  19 |   150/  211 batches | accuracy    0.996\n",
            "| epoch  19 |   200/  211 batches | accuracy    0.993\n",
            "-----------------------------------------------------------\n",
            "| End of epoch  19 | Time: 21.19s | Train Accuracy    0.993 | Train Loss    0.018 | Valid Accuracy    0.967 | Valid Loss    0.103 \n",
            "-----------------------------------------------------------\n",
            "| epoch  20 |    50/  211 batches | accuracy    0.995\n",
            "| epoch  20 |   100/  211 batches | accuracy    0.996\n",
            "| epoch  20 |   150/  211 batches | accuracy    0.996\n",
            "| epoch  20 |   200/  211 batches | accuracy    0.994\n",
            "-----------------------------------------------------------\n",
            "| End of epoch  20 | Time: 21.11s | Train Accuracy    0.996 | Train Loss    0.017 | Valid Accuracy    0.979 | Valid Loss    0.061 \n",
            "-----------------------------------------------------------\n"
          ]
        }
      ],
      "source": [
        "num_classes = len(train_data.dataset.classes)\n",
        "\n",
        "device = torch.device('cuda' if torch.cuda.is_available() else 'cpu')\n",
        "\n",
        "skip_connection_model.to(device)\n",
        "\n",
        "criterion = torch.nn.CrossEntropyLoss()\n",
        "optimizer = optim.Adam(skip_connection_model.parameters())\n",
        "\n",
        "num_epochs = 20\n",
        "save_model = './model'\n",
        "os.makedirs(save_model, exist_ok = True)\n",
        "model_name = 'skip_connection_model'\n",
        "\n",
        "skip_connection_model, base_metrics = train(\n",
        "    skip_connection_model, model_name, optimizer, criterion, train_dataloader, valid_dataloader, num_epochs, device\n",
        ")"
      ]
    },
    {
      "cell_type": "code",
      "execution_count": 108,
      "metadata": {
        "colab": {
          "base_uri": "https://localhost:8080/"
        },
        "id": "cBXwGpThaYaW",
        "outputId": "5a06ed24-3f53-48c8-ad6e-cd668fad3531"
      },
      "outputs": [
        {
          "data": {
            "text/plain": [
              "(0.983, 0.051784928644353405)"
            ]
          },
          "execution_count": 108,
          "metadata": {},
          "output_type": "execute_result"
        }
      ],
      "source": [
        "test_acc, test_loss = evaluate_epoch(skip_connection_model, criterion, test_dataloader)\n",
        "test_acc, test_loss"
      ]
    },
    {
      "cell_type": "code",
      "execution_count": 109,
      "metadata": {
        "colab": {
          "base_uri": "https://localhost:8080/",
          "height": 543
        },
        "id": "fUPlKx-LadQN",
        "outputId": "75bda71c-6f79-4d1e-c141-1ce4d8a5e194"
      },
      "outputs": [
        {
          "data": {
            "image/png": "[encoded data removed]",
            "text/plain": [
              "<Figure size 1200x600 with 2 Axes>"
            ]
          },
          "metadata": {},
          "output_type": "display_data"
        }
      ],
      "source": [
        "plot_result(\n",
        "    num_epochs,\n",
        "    base_metrics[\"train_accuracy\"],\n",
        "    base_metrics[\"valid_accuracy\"],\n",
        "    base_metrics[\"train_loss\"],\n",
        "    base_metrics[\"valid_loss\"]\n",
        ")"
      ]
    },
    {
      "cell_type": "code",
      "execution_count": null,
      "metadata": {
        "id": "uIdYS2l7cKmr"
      },
      "outputs": [],
      "source": []
    }
  ],
  "metadata": {
    "accelerator": "GPU",
    "colab": {
      "gpuType": "T4",
      "provenance": []
    },
    "kernelspec": {
      "display_name": "Python 3",
      "name": "python3"
    },
    "language_info": {
      "name": "python"
    }
  },
  "nbformat": 4,
  "nbformat_minor": 0
}
